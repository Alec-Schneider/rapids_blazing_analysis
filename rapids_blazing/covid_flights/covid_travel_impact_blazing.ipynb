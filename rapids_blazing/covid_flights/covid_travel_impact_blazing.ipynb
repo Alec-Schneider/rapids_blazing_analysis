{
 "cells": [
  {
   "cell_type": "markdown",
   "id": "88a116f9-b4c8-459f-beec-16b707323881",
   "metadata": {
    "tags": []
   },
   "source": [
    "# The impact of COVID-19 on air travel\n",
    "\n",
    "[Reference Notebook and code](https://github.com/BlazingDB/Welcome_to_BlazingSQL_Notebooks/blob/master/webinars/air_transport/OnTimeFlightPerformance.ipynb)\n",
    "\n",
    "[Reference Article](https://blog.blazingdb.com/the-impact-of-covid-19-on-air-travel-4ca5ad1e5caf)"
   ]
  },
  {
   "cell_type": "code",
   "execution_count": 1,
   "id": "f33309a6-4406-4989-af00-33529d2706fa",
   "metadata": {},
   "outputs": [],
   "source": [
    "import cudf\n",
    "import blazingsql as bsql\n",
    "import s3fs\n",
    "import numpy as np\n",
    "from collections import OrderedDict\n",
    "import matplotlib.pyplot as plt\n",
    "# import cartopy.crs as ccrs\n",
    "# import cartopy.feature as cfeature"
   ]
  },
  {
   "cell_type": "markdown",
   "id": "d4e71685-21a9-4a74-8806-09fba51ee935",
   "metadata": {},
   "source": [
    "### Create a BlazingContext to connect to a BlazingSQL instance."
   ]
  },
  {
   "cell_type": "code",
   "execution_count": 2,
   "id": "dcc6f359-3afa-416f-bc2b-624a799683c1",
   "metadata": {},
   "outputs": [
    {
     "name": "stdout",
     "output_type": "stream",
     "text": [
      "BlazingContext ready\n"
     ]
    }
   ],
   "source": [
    "bc = bsql.BlazingContext(enable_progress_bar=True)"
   ]
  },
  {
   "cell_type": "markdown",
   "id": "771fafee-24cd-4784-820e-7e2bf91f8b5f",
   "metadata": {},
   "source": [
    "### Read the data from S3 bucket"
   ]
  },
  {
   "cell_type": "code",
   "execution_count": 3,
   "id": "f37351c1-868e-4c5e-98ca-d8e5a6d466f1",
   "metadata": {},
   "outputs": [
    {
     "name": "stdout",
     "output_type": "stream",
     "text": [
      "34\n"
     ]
    },
    {
     "data": {
      "text/plain": [
       "['s3://bsql/data/air_transport/flight_ontime_2018-01.parquet',\n",
       " 's3://bsql/data/air_transport/flight_ontime_2018-02.parquet',\n",
       " 's3://bsql/data/air_transport/flight_ontime_2018-03.parquet',\n",
       " 's3://bsql/data/air_transport/flight_ontime_2018-04.parquet',\n",
       " 's3://bsql/data/air_transport/flight_ontime_2018-05.parquet',\n",
       " 's3://bsql/data/air_transport/flight_ontime_2018-06.parquet',\n",
       " 's3://bsql/data/air_transport/flight_ontime_2018-07.parquet',\n",
       " 's3://bsql/data/air_transport/flight_ontime_2018-08.parquet',\n",
       " 's3://bsql/data/air_transport/flight_ontime_2018-09.parquet',\n",
       " 's3://bsql/data/air_transport/flight_ontime_2018-10.parquet',\n",
       " 's3://bsql/data/air_transport/flight_ontime_2018-11.parquet',\n",
       " 's3://bsql/data/air_transport/flight_ontime_2018-12.parquet',\n",
       " 's3://bsql/data/air_transport/flight_ontime_2019-01.parquet',\n",
       " 's3://bsql/data/air_transport/flight_ontime_2019-02.parquet',\n",
       " 's3://bsql/data/air_transport/flight_ontime_2019-03.parquet',\n",
       " 's3://bsql/data/air_transport/flight_ontime_2019-04.parquet',\n",
       " 's3://bsql/data/air_transport/flight_ontime_2019-05.parquet',\n",
       " 's3://bsql/data/air_transport/flight_ontime_2019-06.parquet',\n",
       " 's3://bsql/data/air_transport/flight_ontime_2019-07.parquet',\n",
       " 's3://bsql/data/air_transport/flight_ontime_2019-08.parquet',\n",
       " 's3://bsql/data/air_transport/flight_ontime_2019-09.parquet',\n",
       " 's3://bsql/data/air_transport/flight_ontime_2019-10.parquet',\n",
       " 's3://bsql/data/air_transport/flight_ontime_2019-11.parquet',\n",
       " 's3://bsql/data/air_transport/flight_ontime_2019-12.parquet',\n",
       " 's3://bsql/data/air_transport/flight_ontime_2020-01.parquet',\n",
       " 's3://bsql/data/air_transport/flight_ontime_2020-02.parquet',\n",
       " 's3://bsql/data/air_transport/flight_ontime_2020-03.parquet',\n",
       " 's3://bsql/data/air_transport/flight_ontime_2020-04.parquet',\n",
       " 's3://bsql/data/air_transport/flight_ontime_2020-05.parquet',\n",
       " 's3://bsql/data/air_transport/flight_ontime_2020-06.parquet',\n",
       " 's3://bsql/data/air_transport/flight_ontime_2020-07.parquet',\n",
       " 's3://bsql/data/air_transport/flight_ontime_2020-08.parquet',\n",
       " 's3://bsql/data/air_transport/flight_ontime_2020-09.parquet',\n",
       " 's3://bsql/data/air_transport/flight_ontime_2020-10.parquet']"
      ]
     },
     "execution_count": 3,
     "metadata": {},
     "output_type": "execute_result"
    }
   ],
   "source": [
    "flight_data_path = 's3://bsql/data/air_transport/flight_ontime_*.parquet'\n",
    "s3 = s3fs.S3FileSystem(anon=True)\n",
    "files = [f's3://{f}' for f in s3.glob(flight_data_path)]\n",
    "print(len(files))\n",
    "files"
   ]
  },
  {
   "cell_type": "code",
   "execution_count": 4,
   "id": "b63c1590-dd7a-4a3f-82e2-511aa965452e",
   "metadata": {},
   "outputs": [
    {
     "name": "stdout",
     "output_type": "stream",
     "text": [
      "s3://bsql/data/air_transport/flight_ontime_2020-01.parquet\n",
      "s3://bsql/data/air_transport/flight_ontime_2020-02.parquet\n",
      "s3://bsql/data/air_transport/flight_ontime_2020-03.parquet\n",
      "s3://bsql/data/air_transport/flight_ontime_2020-04.parquet\n",
      "s3://bsql/data/air_transport/flight_ontime_2020-05.parquet\n",
      "s3://bsql/data/air_transport/flight_ontime_2020-06.parquet\n",
      "s3://bsql/data/air_transport/flight_ontime_2020-07.parquet\n",
      "s3://bsql/data/air_transport/flight_ontime_2020-08.parquet\n",
      "s3://bsql/data/air_transport/flight_ontime_2020-09.parquet\n",
      "s3://bsql/data/air_transport/flight_ontime_2020-10.parquet\n",
      "CPU times: user 6.46 s, sys: 2.18 s, total: 8.64 s\n",
      "Wall time: 12.8 s\n"
     ]
    }
   ],
   "source": [
    "%%time\n",
    "flights = []\n",
    "\n",
    "for f in files[-10:]:\n",
    "    print(f)\n",
    "    flights.append(cudf.read_parquet(f, storage_options={'anon': True}))\n",
    "    \n",
    "flights = cudf.concat(flights)"
   ]
  },
  {
   "cell_type": "code",
   "execution_count": 5,
   "id": "c9e0e2c3-643e-4806-a71b-29c5c47d4953",
   "metadata": {
    "collapsed": true,
    "jupyter": {
     "outputs_hidden": true
    },
    "tags": []
   },
   "outputs": [
    {
     "name": "stdout",
     "output_type": "stream",
     "text": [
      "<class 'cudf.core.dataframe.DataFrame'>\n",
      "Int64Index: 4235008 entries, 0 to 374537\n",
      "Data columns (total 55 columns):\n",
      " #   Column                 Dtype\n",
      "---  ------                 -----\n",
      " 0   YEAR                   int64\n",
      " 1   QUARTER                int64\n",
      " 2   MONTH                  int64\n",
      " 3   DAY_OF_MONTH           int64\n",
      " 4   DAY_OF_WEEK            int64\n",
      " 5   FL_DATE                object\n",
      " 6   MKT_UNIQUE_CARRIER     object\n",
      " 7   MKT_CARRIER_FL_NUM     object\n",
      " 8   OP_UNIQUE_CARRIER      object\n",
      " 9   TAIL_NUM               object\n",
      " 10  OP_CARRIER_FL_NUM      object\n",
      " 11  ORIGIN_AIRPORT_ID      int64\n",
      " 12  ORIGIN_AIRPORT_SEQ_ID  int64\n",
      " 13  ORIGIN_CITY_MARKET_ID  int64\n",
      " 14  ORIGIN                 object\n",
      " 15  ORIGIN_STATE_ABR       object\n",
      " 16  ORIGIN_WAC             int64\n",
      " 17  DEST_AIRPORT_ID        int64\n",
      " 18  DEST_AIRPORT_SEQ_ID    int64\n",
      " 19  DEST_CITY_MARKET_ID    int64\n",
      " 20  DEST                   object\n",
      " 21  DEST_STATE_ABR         object\n",
      " 22  DEST_WAC               int64\n",
      " 23  CRS_DEP_TIME           object\n",
      " 24  DEP_TIME               object\n",
      " 25  DEP_DELAY              float64\n",
      " 26  DEP_DELAY_NEW          float64\n",
      " 27  DEP_DEL15              float64\n",
      " 28  DEP_DELAY_GROUP        float64\n",
      " 29  DEP_TIME_BLK           object\n",
      " 30  TAXI_OUT               float64\n",
      " 31  WHEELS_OFF             object\n",
      " 32  WHEELS_ON              object\n",
      " 33  TAXI_IN                float64\n",
      " 34  CRS_ARR_TIME           object\n",
      " 35  ARR_TIME               object\n",
      " 36  ARR_DELAY              float64\n",
      " 37  ARR_DELAY_NEW          float64\n",
      " 38  ARR_DEL15              float64\n",
      " 39  ARR_DELAY_GROUP        float64\n",
      " 40  ARR_TIME_BLK           object\n",
      " 41  CANCELLED              float64\n",
      " 42  CANCELLATION_CODE      object\n",
      " 43  DIVERTED               float64\n",
      " 44  DUP                    object\n",
      " 45  CRS_ELAPSED_TIME       float64\n",
      " 46  ACTUAL_ELAPSED_TIME    float64\n",
      " 47  AIR_TIME               float64\n",
      " 48  DISTANCE               float64\n",
      " 49  CARRIER_DELAY          float64\n",
      " 50  WEATHER_DELAY          float64\n",
      " 51  NAS_DELAY              float64\n",
      " 52  SECURITY_DELAY         float64\n",
      " 53  LATE_AIRCRAFT_DELAY    float64\n",
      " 54  Unnamed: 54            int8\n",
      "dtypes: float64(21), int64(13), int8(1), object(20)\n",
      "memory usage: 1.7+ GB\n"
     ]
    }
   ],
   "source": [
    "flights.info()"
   ]
  },
  {
   "cell_type": "code",
   "execution_count": 7,
   "id": "ad95c174-767e-4ef0-a360-19f52db874ff",
   "metadata": {},
   "outputs": [
    {
     "data": {
      "text/html": [
       "<div>\n",
       "<style scoped>\n",
       "    .dataframe tbody tr th:only-of-type {\n",
       "        vertical-align: middle;\n",
       "    }\n",
       "\n",
       "    .dataframe tbody tr th {\n",
       "        vertical-align: top;\n",
       "    }\n",
       "\n",
       "    .dataframe thead th {\n",
       "        text-align: right;\n",
       "    }\n",
       "</style>\n",
       "<table border=\"1\" class=\"dataframe\">\n",
       "  <thead>\n",
       "    <tr style=\"text-align: right;\">\n",
       "      <th></th>\n",
       "      <th>YEAR</th>\n",
       "      <th>QUARTER</th>\n",
       "      <th>MONTH</th>\n",
       "      <th>DAY_OF_MONTH</th>\n",
       "      <th>DAY_OF_WEEK</th>\n",
       "      <th>FL_DATE</th>\n",
       "      <th>MKT_UNIQUE_CARRIER</th>\n",
       "      <th>MKT_CARRIER_FL_NUM</th>\n",
       "      <th>OP_UNIQUE_CARRIER</th>\n",
       "      <th>TAIL_NUM</th>\n",
       "      <th>...</th>\n",
       "      <th>CRS_ELAPSED_TIME</th>\n",
       "      <th>ACTUAL_ELAPSED_TIME</th>\n",
       "      <th>AIR_TIME</th>\n",
       "      <th>DISTANCE</th>\n",
       "      <th>CARRIER_DELAY</th>\n",
       "      <th>WEATHER_DELAY</th>\n",
       "      <th>NAS_DELAY</th>\n",
       "      <th>SECURITY_DELAY</th>\n",
       "      <th>LATE_AIRCRAFT_DELAY</th>\n",
       "      <th>Unnamed: 54</th>\n",
       "    </tr>\n",
       "  </thead>\n",
       "  <tbody>\n",
       "    <tr>\n",
       "      <th>0</th>\n",
       "      <td>2020</td>\n",
       "      <td>1</td>\n",
       "      <td>1</td>\n",
       "      <td>1</td>\n",
       "      <td>3</td>\n",
       "      <td>2020-01-01</td>\n",
       "      <td>WN</td>\n",
       "      <td>5888</td>\n",
       "      <td>WN</td>\n",
       "      <td>N951WN</td>\n",
       "      <td>...</td>\n",
       "      <td>95.0</td>\n",
       "      <td>122.0</td>\n",
       "      <td>74.0</td>\n",
       "      <td>363.0</td>\n",
       "      <td>8.0</td>\n",
       "      <td>0.0</td>\n",
       "      <td>27.0</td>\n",
       "      <td>0.0</td>\n",
       "      <td>33.0</td>\n",
       "      <td>&lt;NA&gt;</td>\n",
       "    </tr>\n",
       "    <tr>\n",
       "      <th>1</th>\n",
       "      <td>2020</td>\n",
       "      <td>1</td>\n",
       "      <td>1</td>\n",
       "      <td>1</td>\n",
       "      <td>3</td>\n",
       "      <td>2020-01-01</td>\n",
       "      <td>WN</td>\n",
       "      <td>6276</td>\n",
       "      <td>WN</td>\n",
       "      <td>N467WN</td>\n",
       "      <td>...</td>\n",
       "      <td>90.0</td>\n",
       "      <td>92.0</td>\n",
       "      <td>71.0</td>\n",
       "      <td>363.0</td>\n",
       "      <td>&lt;NA&gt;</td>\n",
       "      <td>&lt;NA&gt;</td>\n",
       "      <td>&lt;NA&gt;</td>\n",
       "      <td>&lt;NA&gt;</td>\n",
       "      <td>&lt;NA&gt;</td>\n",
       "      <td>&lt;NA&gt;</td>\n",
       "    </tr>\n",
       "    <tr>\n",
       "      <th>2</th>\n",
       "      <td>2020</td>\n",
       "      <td>1</td>\n",
       "      <td>1</td>\n",
       "      <td>1</td>\n",
       "      <td>3</td>\n",
       "      <td>2020-01-01</td>\n",
       "      <td>WN</td>\n",
       "      <td>4598</td>\n",
       "      <td>WN</td>\n",
       "      <td>N7885A</td>\n",
       "      <td>...</td>\n",
       "      <td>70.0</td>\n",
       "      <td>68.0</td>\n",
       "      <td>57.0</td>\n",
       "      <td>333.0</td>\n",
       "      <td>&lt;NA&gt;</td>\n",
       "      <td>&lt;NA&gt;</td>\n",
       "      <td>&lt;NA&gt;</td>\n",
       "      <td>&lt;NA&gt;</td>\n",
       "      <td>&lt;NA&gt;</td>\n",
       "      <td>&lt;NA&gt;</td>\n",
       "    </tr>\n",
       "    <tr>\n",
       "      <th>3</th>\n",
       "      <td>2020</td>\n",
       "      <td>1</td>\n",
       "      <td>1</td>\n",
       "      <td>1</td>\n",
       "      <td>3</td>\n",
       "      <td>2020-01-01</td>\n",
       "      <td>WN</td>\n",
       "      <td>4761</td>\n",
       "      <td>WN</td>\n",
       "      <td>N551WN</td>\n",
       "      <td>...</td>\n",
       "      <td>75.0</td>\n",
       "      <td>75.0</td>\n",
       "      <td>63.0</td>\n",
       "      <td>333.0</td>\n",
       "      <td>&lt;NA&gt;</td>\n",
       "      <td>&lt;NA&gt;</td>\n",
       "      <td>&lt;NA&gt;</td>\n",
       "      <td>&lt;NA&gt;</td>\n",
       "      <td>&lt;NA&gt;</td>\n",
       "      <td>&lt;NA&gt;</td>\n",
       "    </tr>\n",
       "    <tr>\n",
       "      <th>4</th>\n",
       "      <td>2020</td>\n",
       "      <td>1</td>\n",
       "      <td>1</td>\n",
       "      <td>1</td>\n",
       "      <td>3</td>\n",
       "      <td>2020-01-01</td>\n",
       "      <td>WN</td>\n",
       "      <td>5162</td>\n",
       "      <td>WN</td>\n",
       "      <td>N968WN</td>\n",
       "      <td>...</td>\n",
       "      <td>80.0</td>\n",
       "      <td>67.0</td>\n",
       "      <td>57.0</td>\n",
       "      <td>333.0</td>\n",
       "      <td>&lt;NA&gt;</td>\n",
       "      <td>&lt;NA&gt;</td>\n",
       "      <td>&lt;NA&gt;</td>\n",
       "      <td>&lt;NA&gt;</td>\n",
       "      <td>&lt;NA&gt;</td>\n",
       "      <td>&lt;NA&gt;</td>\n",
       "    </tr>\n",
       "  </tbody>\n",
       "</table>\n",
       "<p>5 rows × 55 columns</p>\n",
       "</div>"
      ],
      "text/plain": [
       "   YEAR  QUARTER  MONTH  DAY_OF_MONTH  DAY_OF_WEEK     FL_DATE  \\\n",
       "0  2020        1      1             1            3  2020-01-01   \n",
       "1  2020        1      1             1            3  2020-01-01   \n",
       "2  2020        1      1             1            3  2020-01-01   \n",
       "3  2020        1      1             1            3  2020-01-01   \n",
       "4  2020        1      1             1            3  2020-01-01   \n",
       "\n",
       "  MKT_UNIQUE_CARRIER MKT_CARRIER_FL_NUM OP_UNIQUE_CARRIER TAIL_NUM  ...  \\\n",
       "0                 WN               5888                WN   N951WN  ...   \n",
       "1                 WN               6276                WN   N467WN  ...   \n",
       "2                 WN               4598                WN   N7885A  ...   \n",
       "3                 WN               4761                WN   N551WN  ...   \n",
       "4                 WN               5162                WN   N968WN  ...   \n",
       "\n",
       "  CRS_ELAPSED_TIME  ACTUAL_ELAPSED_TIME  AIR_TIME  DISTANCE  CARRIER_DELAY  \\\n",
       "0             95.0                122.0      74.0     363.0            8.0   \n",
       "1             90.0                 92.0      71.0     363.0           <NA>   \n",
       "2             70.0                 68.0      57.0     333.0           <NA>   \n",
       "3             75.0                 75.0      63.0     333.0           <NA>   \n",
       "4             80.0                 67.0      57.0     333.0           <NA>   \n",
       "\n",
       "  WEATHER_DELAY NAS_DELAY SECURITY_DELAY LATE_AIRCRAFT_DELAY Unnamed: 54  \n",
       "0           0.0      27.0            0.0                33.0        <NA>  \n",
       "1          <NA>      <NA>           <NA>                <NA>        <NA>  \n",
       "2          <NA>      <NA>           <NA>                <NA>        <NA>  \n",
       "3          <NA>      <NA>           <NA>                <NA>        <NA>  \n",
       "4          <NA>      <NA>           <NA>                <NA>        <NA>  \n",
       "\n",
       "[5 rows x 55 columns]"
      ]
     },
     "execution_count": 7,
     "metadata": {},
     "output_type": "execute_result"
    }
   ],
   "source": [
    "flights.head()"
   ]
  },
  {
   "cell_type": "code",
   "execution_count": 6,
   "id": "742c0cb3-935b-4fc1-904f-71d8612cc62a",
   "metadata": {},
   "outputs": [
    {
     "name": "stdout",
     "output_type": "stream",
     "text": [
      "Total number of flights in the dataset: 4,235,008\n"
     ]
    }
   ],
   "source": [
    "print(f'Total number of flights in the dataset: {len(flights):,}')"
   ]
  },
  {
   "cell_type": "markdown",
   "id": "64233dee-60e1-4725-b581-ae7c4f377523",
   "metadata": {},
   "source": [
    "#### Register a table with BlazingContext"
   ]
  },
  {
   "cell_type": "code",
   "execution_count": 7,
   "id": "b158e1c8-b18c-491f-bf6e-c72484624d8b",
   "metadata": {},
   "outputs": [],
   "source": [
    "bc.create_table('flights', flights)"
   ]
  },
  {
   "cell_type": "code",
   "execution_count": 11,
   "id": "6b9432b6-858d-4b08-b28c-f332e9555361",
   "metadata": {},
   "outputs": [
    {
     "data": {
      "text/plain": [
       "YEAR                       int64\n",
       "QUARTER                    int64\n",
       "MONTH                      int64\n",
       "DAY_OF_MONTH               int64\n",
       "DAY_OF_WEEK                int64\n",
       "FL_DATE                   object\n",
       "MKT_UNIQUE_CARRIER        object\n",
       "MKT_CARRIER_FL_NUM        object\n",
       "OP_UNIQUE_CARRIER         object\n",
       "TAIL_NUM                  object\n",
       "OP_CARRIER_FL_NUM         object\n",
       "ORIGIN_AIRPORT_ID          int64\n",
       "ORIGIN_AIRPORT_SEQ_ID      int64\n",
       "ORIGIN_CITY_MARKET_ID      int64\n",
       "ORIGIN                    object\n",
       "ORIGIN_STATE_ABR          object\n",
       "ORIGIN_WAC                 int64\n",
       "DEST_AIRPORT_ID            int64\n",
       "DEST_AIRPORT_SEQ_ID        int64\n",
       "DEST_CITY_MARKET_ID        int64\n",
       "DEST                      object\n",
       "DEST_STATE_ABR            object\n",
       "DEST_WAC                   int64\n",
       "CRS_DEP_TIME              object\n",
       "DEP_TIME                  object\n",
       "DEP_DELAY                float64\n",
       "DEP_DELAY_NEW            float64\n",
       "DEP_DEL15                float64\n",
       "DEP_DELAY_GROUP          float64\n",
       "DEP_TIME_BLK              object\n",
       "TAXI_OUT                 float64\n",
       "WHEELS_OFF                object\n",
       "WHEELS_ON                 object\n",
       "TAXI_IN                  float64\n",
       "CRS_ARR_TIME              object\n",
       "ARR_TIME                  object\n",
       "ARR_DELAY                float64\n",
       "ARR_DELAY_NEW            float64\n",
       "ARR_DEL15                float64\n",
       "ARR_DELAY_GROUP          float64\n",
       "ARR_TIME_BLK              object\n",
       "CANCELLED                float64\n",
       "CANCELLATION_CODE         object\n",
       "DIVERTED                 float64\n",
       "DUP                       object\n",
       "CRS_ELAPSED_TIME         float64\n",
       "ACTUAL_ELAPSED_TIME      float64\n",
       "AIR_TIME                 float64\n",
       "DISTANCE                 float64\n",
       "CARRIER_DELAY            float64\n",
       "WEATHER_DELAY            float64\n",
       "NAS_DELAY                float64\n",
       "SECURITY_DELAY           float64\n",
       "LATE_AIRCRAFT_DELAY      float64\n",
       "Unnamed: 54                 int8\n",
       "dtype: object"
      ]
     },
     "execution_count": 11,
     "metadata": {},
     "output_type": "execute_result"
    }
   ],
   "source": [
    "flights.dtypes"
   ]
  },
  {
   "cell_type": "markdown",
   "id": "8d728532-55bc-4ea7-9434-2b0a738dc8c5",
   "metadata": {},
   "source": [
    "### Get the airpots and airlines data from an S3 bucket as well"
   ]
  },
  {
   "cell_type": "code",
   "execution_count": 8,
   "id": "b6442834-aae9-4868-9951-02183b4775c8",
   "metadata": {},
   "outputs": [],
   "source": [
    "airports_path = 's3://bsql/data/air_transport/airports.csv'\n",
    "airlines_path = 's3://bsql/data/air_transport/airlines.csv'"
   ]
  },
  {
   "cell_type": "code",
   "execution_count": 9,
   "id": "2b0c3398-f00f-4466-82b3-08cb18ca2e36",
   "metadata": {},
   "outputs": [
    {
     "name": "stdout",
     "output_type": "stream",
     "text": [
      "CPU times: user 65.7 ms, sys: 28.7 ms, total: 94.4 ms\n",
      "Wall time: 1.23 s\n"
     ]
    },
    {
     "data": {
      "text/html": [
       "<div>\n",
       "<style scoped>\n",
       "    .dataframe tbody tr th:only-of-type {\n",
       "        vertical-align: middle;\n",
       "    }\n",
       "\n",
       "    .dataframe tbody tr th {\n",
       "        vertical-align: top;\n",
       "    }\n",
       "\n",
       "    .dataframe thead th {\n",
       "        text-align: right;\n",
       "    }\n",
       "</style>\n",
       "<table border=\"1\" class=\"dataframe\">\n",
       "  <thead>\n",
       "    <tr style=\"text-align: right;\">\n",
       "      <th></th>\n",
       "      <th>Airport ID</th>\n",
       "      <th>Name</th>\n",
       "      <th>City</th>\n",
       "      <th>Country</th>\n",
       "      <th>IATA</th>\n",
       "      <th>ICAO</th>\n",
       "      <th>Latitude</th>\n",
       "      <th>Longitude</th>\n",
       "      <th>Altitude</th>\n",
       "      <th>Timezone</th>\n",
       "      <th>DST</th>\n",
       "      <th>Type</th>\n",
       "      <th>Source</th>\n",
       "    </tr>\n",
       "  </thead>\n",
       "  <tbody>\n",
       "    <tr>\n",
       "      <th>0</th>\n",
       "      <td>1</td>\n",
       "      <td>Goroka Airport</td>\n",
       "      <td>Goroka</td>\n",
       "      <td>Papua New Guinea</td>\n",
       "      <td>GKA</td>\n",
       "      <td>AYGA</td>\n",
       "      <td>-6.081690</td>\n",
       "      <td>145.391998</td>\n",
       "      <td>5282</td>\n",
       "      <td>10</td>\n",
       "      <td>U</td>\n",
       "      <td>Pacific/Port_Moresby</td>\n",
       "      <td>airport</td>\n",
       "    </tr>\n",
       "    <tr>\n",
       "      <th>1</th>\n",
       "      <td>2</td>\n",
       "      <td>Madang Airport</td>\n",
       "      <td>Madang</td>\n",
       "      <td>Papua New Guinea</td>\n",
       "      <td>MAG</td>\n",
       "      <td>AYMD</td>\n",
       "      <td>-5.207080</td>\n",
       "      <td>145.789001</td>\n",
       "      <td>20</td>\n",
       "      <td>10</td>\n",
       "      <td>U</td>\n",
       "      <td>Pacific/Port_Moresby</td>\n",
       "      <td>airport</td>\n",
       "    </tr>\n",
       "    <tr>\n",
       "      <th>2</th>\n",
       "      <td>3</td>\n",
       "      <td>Mount Hagen Kagamuga Airport</td>\n",
       "      <td>Mount Hagen</td>\n",
       "      <td>Papua New Guinea</td>\n",
       "      <td>HGU</td>\n",
       "      <td>AYMH</td>\n",
       "      <td>-5.826790</td>\n",
       "      <td>144.296005</td>\n",
       "      <td>5388</td>\n",
       "      <td>10</td>\n",
       "      <td>U</td>\n",
       "      <td>Pacific/Port_Moresby</td>\n",
       "      <td>airport</td>\n",
       "    </tr>\n",
       "    <tr>\n",
       "      <th>3</th>\n",
       "      <td>4</td>\n",
       "      <td>Nadzab Airport</td>\n",
       "      <td>Nadzab</td>\n",
       "      <td>Papua New Guinea</td>\n",
       "      <td>LAE</td>\n",
       "      <td>AYNZ</td>\n",
       "      <td>-6.569803</td>\n",
       "      <td>146.725977</td>\n",
       "      <td>239</td>\n",
       "      <td>10</td>\n",
       "      <td>U</td>\n",
       "      <td>Pacific/Port_Moresby</td>\n",
       "      <td>airport</td>\n",
       "    </tr>\n",
       "    <tr>\n",
       "      <th>4</th>\n",
       "      <td>5</td>\n",
       "      <td>Port Moresby Jacksons International Airport</td>\n",
       "      <td>Port Moresby</td>\n",
       "      <td>Papua New Guinea</td>\n",
       "      <td>POM</td>\n",
       "      <td>AYPY</td>\n",
       "      <td>-9.443380</td>\n",
       "      <td>147.220001</td>\n",
       "      <td>146</td>\n",
       "      <td>10</td>\n",
       "      <td>U</td>\n",
       "      <td>Pacific/Port_Moresby</td>\n",
       "      <td>airport</td>\n",
       "    </tr>\n",
       "  </tbody>\n",
       "</table>\n",
       "</div>"
      ],
      "text/plain": [
       "   Airport ID                                         Name          City  \\\n",
       "0           1                               Goroka Airport        Goroka   \n",
       "1           2                               Madang Airport        Madang   \n",
       "2           3                 Mount Hagen Kagamuga Airport   Mount Hagen   \n",
       "3           4                               Nadzab Airport        Nadzab   \n",
       "4           5  Port Moresby Jacksons International Airport  Port Moresby   \n",
       "\n",
       "            Country IATA  ICAO  Latitude   Longitude  Altitude Timezone DST  \\\n",
       "0  Papua New Guinea  GKA  AYGA -6.081690  145.391998      5282       10   U   \n",
       "1  Papua New Guinea  MAG  AYMD -5.207080  145.789001        20       10   U   \n",
       "2  Papua New Guinea  HGU  AYMH -5.826790  144.296005      5388       10   U   \n",
       "3  Papua New Guinea  LAE  AYNZ -6.569803  146.725977       239       10   U   \n",
       "4  Papua New Guinea  POM  AYPY -9.443380  147.220001       146       10   U   \n",
       "\n",
       "                   Type   Source  \n",
       "0  Pacific/Port_Moresby  airport  \n",
       "1  Pacific/Port_Moresby  airport  \n",
       "2  Pacific/Port_Moresby  airport  \n",
       "3  Pacific/Port_Moresby  airport  \n",
       "4  Pacific/Port_Moresby  airport  "
      ]
     },
     "execution_count": 9,
     "metadata": {},
     "output_type": "execute_result"
    }
   ],
   "source": [
    "%%time\n",
    "airports_dtypes = OrderedDict([\n",
    "      ('Airport ID', 'int64')\n",
    "    , ('Name', 'str')\n",
    "    , ('City', 'str')\n",
    "    , ('Country', 'str')\n",
    "    , ('IATA', 'str')\n",
    "    , ('ICAO', 'str')\n",
    "    , ('Latitude', 'float64')\n",
    "    , ('Longitude', 'float64')\n",
    "    , ('Altitude', 'int64')\n",
    "    , ('Timezone', 'str')\n",
    "    , ('DST', 'str')\n",
    "    , ('Type', 'str')\n",
    "    , ('Source', 'str')\n",
    "])\n",
    "\n",
    "airports = cudf.read_csv(\n",
    "    airports_path\n",
    "    , names=list(airports_dtypes.keys())\n",
    "    , dtype=list(airports_dtypes.values())\n",
    "    , storage_options={'anon': True}\n",
    ")\n",
    "airports.head()"
   ]
  },
  {
   "cell_type": "code",
   "execution_count": 10,
   "id": "acc81956-ccc9-4d35-96ee-b0eb3a9d604a",
   "metadata": {},
   "outputs": [
    {
     "name": "stdout",
     "output_type": "stream",
     "text": [
      "CPU times: user 39.4 ms, sys: 9.2 ms, total: 48.6 ms\n",
      "Wall time: 138 ms\n"
     ]
    },
    {
     "data": {
      "text/html": [
       "<div>\n",
       "<style scoped>\n",
       "    .dataframe tbody tr th:only-of-type {\n",
       "        vertical-align: middle;\n",
       "    }\n",
       "\n",
       "    .dataframe tbody tr th {\n",
       "        vertical-align: top;\n",
       "    }\n",
       "\n",
       "    .dataframe thead th {\n",
       "        text-align: right;\n",
       "    }\n",
       "</style>\n",
       "<table border=\"1\" class=\"dataframe\">\n",
       "  <thead>\n",
       "    <tr style=\"text-align: right;\">\n",
       "      <th></th>\n",
       "      <th>Airline ID</th>\n",
       "      <th>Name</th>\n",
       "      <th>Alias</th>\n",
       "      <th>IATA</th>\n",
       "      <th>ICAO</th>\n",
       "      <th>Callsign</th>\n",
       "      <th>Country</th>\n",
       "      <th>Active</th>\n",
       "    </tr>\n",
       "  </thead>\n",
       "  <tbody>\n",
       "    <tr>\n",
       "      <th>0</th>\n",
       "      <td>-1</td>\n",
       "      <td>Unknown</td>\n",
       "      <td>\\N</td>\n",
       "      <td>-</td>\n",
       "      <td>N/A</td>\n",
       "      <td>\\N</td>\n",
       "      <td>\\N</td>\n",
       "      <td>Y</td>\n",
       "    </tr>\n",
       "    <tr>\n",
       "      <th>1</th>\n",
       "      <td>1</td>\n",
       "      <td>Private flight</td>\n",
       "      <td>\\N</td>\n",
       "      <td>-</td>\n",
       "      <td>N/A</td>\n",
       "      <td>&lt;NA&gt;</td>\n",
       "      <td>&lt;NA&gt;</td>\n",
       "      <td>Y</td>\n",
       "    </tr>\n",
       "    <tr>\n",
       "      <th>2</th>\n",
       "      <td>2</td>\n",
       "      <td>135 Airways</td>\n",
       "      <td>\\N</td>\n",
       "      <td>&lt;NA&gt;</td>\n",
       "      <td>GNL</td>\n",
       "      <td>GENERAL</td>\n",
       "      <td>United States</td>\n",
       "      <td>N</td>\n",
       "    </tr>\n",
       "    <tr>\n",
       "      <th>3</th>\n",
       "      <td>3</td>\n",
       "      <td>1Time Airline</td>\n",
       "      <td>\\N</td>\n",
       "      <td>1T</td>\n",
       "      <td>RNX</td>\n",
       "      <td>NEXTIME</td>\n",
       "      <td>South Africa</td>\n",
       "      <td>Y</td>\n",
       "    </tr>\n",
       "    <tr>\n",
       "      <th>4</th>\n",
       "      <td>4</td>\n",
       "      <td>2 Sqn No 1 Elementary Flying Training School</td>\n",
       "      <td>\\N</td>\n",
       "      <td>&lt;NA&gt;</td>\n",
       "      <td>WYT</td>\n",
       "      <td>&lt;NA&gt;</td>\n",
       "      <td>United Kingdom</td>\n",
       "      <td>N</td>\n",
       "    </tr>\n",
       "  </tbody>\n",
       "</table>\n",
       "</div>"
      ],
      "text/plain": [
       "   Airline ID                                          Name Alias  IATA ICAO  \\\n",
       "0          -1                                       Unknown    \\N     -  N/A   \n",
       "1           1                                Private flight    \\N     -  N/A   \n",
       "2           2                                   135 Airways    \\N  <NA>  GNL   \n",
       "3           3                                 1Time Airline    \\N    1T  RNX   \n",
       "4           4  2 Sqn No 1 Elementary Flying Training School    \\N  <NA>  WYT   \n",
       "\n",
       "  Callsign         Country Active  \n",
       "0       \\N              \\N      Y  \n",
       "1     <NA>            <NA>      Y  \n",
       "2  GENERAL   United States      N  \n",
       "3  NEXTIME    South Africa      Y  \n",
       "4     <NA>  United Kingdom      N  "
      ]
     },
     "execution_count": 10,
     "metadata": {},
     "output_type": "execute_result"
    }
   ],
   "source": [
    "%%time\n",
    "airlines_dtypes = OrderedDict([\n",
    "    ('Airline ID', 'int64')\n",
    "    , ('Name', 'str')\n",
    "    , ('Alias', 'str')\n",
    "    , ('IATA', 'str')\n",
    "    , ('ICAO', 'str')\n",
    "    , ('Callsign', 'str')\n",
    "    , ('Country', 'str')\n",
    "    , ('Active', 'str')\n",
    "])\n",
    "\n",
    "airlines = cudf.read_csv(\n",
    "    airlines_path\n",
    "    , names=list(airlines_dtypes.keys())\n",
    "    , dtype=list(airlines_dtypes.values())\n",
    "    , storage_options={'anon': True}\n",
    ")\n",
    "airlines.head()"
   ]
  },
  {
   "cell_type": "markdown",
   "id": "d19cb3e0-63c0-4ae0-a221-6f2747bed10a",
   "metadata": {},
   "source": [
    "### Register tables with BlazingContext"
   ]
  },
  {
   "cell_type": "code",
   "execution_count": 11,
   "id": "94b0b239-a112-4e02-b4ef-6836e385255c",
   "metadata": {},
   "outputs": [],
   "source": [
    "bc.create_table('airports', airports)\n",
    "bc.create_table('airlines', airlines)"
   ]
  },
  {
   "cell_type": "code",
   "execution_count": 12,
   "id": "73f111f6-104e-4c07-9e91-af22ddf2f864",
   "metadata": {},
   "outputs": [
    {
     "data": {
      "application/vnd.jupyter.widget-view+json": {
       "model_id": "bf0cce62fcf74c6a8dbce637772c1f00",
       "version_major": 2,
       "version_minor": 0
      },
      "text/plain": [
       "Steps Complete 0/13|          |  0% (00:00 elapsed)"
      ]
     },
     "metadata": {},
     "output_type": "display_data"
    },
    {
     "data": {
      "application/vnd.jupyter.widget-view+json": {
       "model_id": "84c93659a95548ee9d0ca395ff3d5caa",
       "version_major": 2,
       "version_minor": 0
      },
      "text/plain": [
       "Total Batches Processed: 0"
      ]
     },
     "metadata": {},
     "output_type": "display_data"
    }
   ],
   "source": [
    "# Add state to the airports table, using SQL querying with BlazingSQL\n",
    "airports_geo = bc.sql('''\n",
    "    SELECT DISTINCT A.airport\n",
    "        , A.State\n",
    "        , B.Name\n",
    "        , B.City\n",
    "    FROM (\n",
    "        SELECT DISTINCT ORIGIN AS Airport\n",
    "            , ORIGIN_STATE_ABR AS State\n",
    "        FROM flights\n",
    "\n",
    "        UNION ALL\n",
    "        SELECT DISTINCT DEST AS Airport\n",
    "            , DEST_STATE_ABR AS State\n",
    "        FROM flights AS A\n",
    "    ) AS A\n",
    "    LEFT OUTER JOIN airports AS B\n",
    "        ON A.Airport = B.IATA\n",
    "''')\n",
    "bc.create_table('airports_geo', airports_geo)"
   ]
  },
  {
   "cell_type": "code",
   "execution_count": 13,
   "id": "cecde812-5134-4d1b-adf8-32d8a642871e",
   "metadata": {
    "tags": []
   },
   "outputs": [
    {
     "data": {
      "application/vnd.jupyter.widget-view+json": {
       "model_id": "08a9fab08f0c4e67977b26762d4ea638",
       "version_major": 2,
       "version_minor": 0
      },
      "text/plain": [
       "Steps Complete 0/11|          |  0% (00:00 elapsed)"
      ]
     },
     "metadata": {},
     "output_type": "display_data"
    },
    {
     "data": {
      "application/vnd.jupyter.widget-view+json": {
       "model_id": "6ef78eadb48c4508800bf883a4982da3",
       "version_major": 2,
       "version_minor": 0
      },
      "text/plain": [
       "Total Batches Processed: 0"
      ]
     },
     "metadata": {},
     "output_type": "display_data"
    },
    {
     "name": "stdout",
     "output_type": "stream",
     "text": [
      "CPU times: user 1.4 s, sys: 378 ms, total: 1.78 s\n",
      "Wall time: 1.56 s\n"
     ]
    },
    {
     "data": {
      "text/html": [
       "<div>\n",
       "<style scoped>\n",
       "    .dataframe tbody tr th:only-of-type {\n",
       "        vertical-align: middle;\n",
       "    }\n",
       "\n",
       "    .dataframe tbody tr th {\n",
       "        vertical-align: top;\n",
       "    }\n",
       "\n",
       "    .dataframe thead th {\n",
       "        text-align: right;\n",
       "    }\n",
       "</style>\n",
       "<table border=\"1\" class=\"dataframe\">\n",
       "  <thead>\n",
       "    <tr style=\"text-align: right;\">\n",
       "      <th></th>\n",
       "      <th>FL_DATE</th>\n",
       "      <th>OP_UNIQUE_CARRIER</th>\n",
       "      <th>CARRIER_NAME</th>\n",
       "      <th>ORIGIN</th>\n",
       "      <th>ORIGIN_NAME</th>\n",
       "      <th>ORIGIN_CITY</th>\n",
       "      <th>ORIGIN_STATE</th>\n",
       "      <th>DEST</th>\n",
       "      <th>DEST_NAME</th>\n",
       "      <th>DEST_CITY</th>\n",
       "      <th>Delay</th>\n",
       "    </tr>\n",
       "  </thead>\n",
       "  <tbody>\n",
       "    <tr>\n",
       "      <th>0</th>\n",
       "      <td>2020-01-07</td>\n",
       "      <td>WN</td>\n",
       "      <td>Southwest Airlines</td>\n",
       "      <td>DAL</td>\n",
       "      <td>Dallas Love Field</td>\n",
       "      <td>Dallas</td>\n",
       "      <td>TX</td>\n",
       "      <td>ABQ</td>\n",
       "      <td>Albuquerque International Sunport</td>\n",
       "      <td>Albuquerque</td>\n",
       "      <td>-3.0</td>\n",
       "    </tr>\n",
       "    <tr>\n",
       "      <th>1</th>\n",
       "      <td>2020-01-07</td>\n",
       "      <td>WN</td>\n",
       "      <td>Southwest Airlines</td>\n",
       "      <td>DAL</td>\n",
       "      <td>Dallas Love Field</td>\n",
       "      <td>Dallas</td>\n",
       "      <td>TX</td>\n",
       "      <td>ABQ</td>\n",
       "      <td>Albuquerque International Sunport</td>\n",
       "      <td>Albuquerque</td>\n",
       "      <td>-2.0</td>\n",
       "    </tr>\n",
       "    <tr>\n",
       "      <th>2</th>\n",
       "      <td>2020-01-07</td>\n",
       "      <td>WN</td>\n",
       "      <td>Southwest Airlines</td>\n",
       "      <td>DAL</td>\n",
       "      <td>Dallas Love Field</td>\n",
       "      <td>Dallas</td>\n",
       "      <td>TX</td>\n",
       "      <td>ATL</td>\n",
       "      <td>Hartsfield Jackson Atlanta International Airport</td>\n",
       "      <td>Atlanta</td>\n",
       "      <td>4.0</td>\n",
       "    </tr>\n",
       "    <tr>\n",
       "      <th>3</th>\n",
       "      <td>2020-01-07</td>\n",
       "      <td>WN</td>\n",
       "      <td>Southwest Airlines</td>\n",
       "      <td>DAL</td>\n",
       "      <td>Dallas Love Field</td>\n",
       "      <td>Dallas</td>\n",
       "      <td>TX</td>\n",
       "      <td>ATL</td>\n",
       "      <td>Hartsfield Jackson Atlanta International Airport</td>\n",
       "      <td>Atlanta</td>\n",
       "      <td>-8.0</td>\n",
       "    </tr>\n",
       "    <tr>\n",
       "      <th>4</th>\n",
       "      <td>2020-01-07</td>\n",
       "      <td>WN</td>\n",
       "      <td>Southwest Airlines</td>\n",
       "      <td>DAL</td>\n",
       "      <td>Dallas Love Field</td>\n",
       "      <td>Dallas</td>\n",
       "      <td>TX</td>\n",
       "      <td>AMA</td>\n",
       "      <td>Rick Husband Amarillo International Airport</td>\n",
       "      <td>Amarillo</td>\n",
       "      <td>0.0</td>\n",
       "    </tr>\n",
       "    <tr>\n",
       "      <th>5</th>\n",
       "      <td>2020-01-07</td>\n",
       "      <td>WN</td>\n",
       "      <td>Southwest Airlines</td>\n",
       "      <td>DAL</td>\n",
       "      <td>Dallas Love Field</td>\n",
       "      <td>Dallas</td>\n",
       "      <td>TX</td>\n",
       "      <td>AMA</td>\n",
       "      <td>Rick Husband Amarillo International Airport</td>\n",
       "      <td>Amarillo</td>\n",
       "      <td>-10.0</td>\n",
       "    </tr>\n",
       "    <tr>\n",
       "      <th>6</th>\n",
       "      <td>2020-01-07</td>\n",
       "      <td>WN</td>\n",
       "      <td>Southwest Airlines</td>\n",
       "      <td>DAL</td>\n",
       "      <td>Dallas Love Field</td>\n",
       "      <td>Dallas</td>\n",
       "      <td>TX</td>\n",
       "      <td>AUS</td>\n",
       "      <td>Austin Bergstrom International Airport</td>\n",
       "      <td>Austin</td>\n",
       "      <td>-5.0</td>\n",
       "    </tr>\n",
       "    <tr>\n",
       "      <th>7</th>\n",
       "      <td>2020-01-07</td>\n",
       "      <td>WN</td>\n",
       "      <td>Southwest Airlines</td>\n",
       "      <td>DAL</td>\n",
       "      <td>Dallas Love Field</td>\n",
       "      <td>Dallas</td>\n",
       "      <td>TX</td>\n",
       "      <td>AUS</td>\n",
       "      <td>Austin Bergstrom International Airport</td>\n",
       "      <td>Austin</td>\n",
       "      <td>-5.0</td>\n",
       "    </tr>\n",
       "    <tr>\n",
       "      <th>8</th>\n",
       "      <td>2020-01-07</td>\n",
       "      <td>WN</td>\n",
       "      <td>Southwest Airlines</td>\n",
       "      <td>DAL</td>\n",
       "      <td>Dallas Love Field</td>\n",
       "      <td>Dallas</td>\n",
       "      <td>TX</td>\n",
       "      <td>AMA</td>\n",
       "      <td>Rick Husband Amarillo International Airport</td>\n",
       "      <td>Amarillo</td>\n",
       "      <td>-5.0</td>\n",
       "    </tr>\n",
       "    <tr>\n",
       "      <th>9</th>\n",
       "      <td>2020-01-07</td>\n",
       "      <td>WN</td>\n",
       "      <td>Southwest Airlines</td>\n",
       "      <td>DAL</td>\n",
       "      <td>Dallas Love Field</td>\n",
       "      <td>Dallas</td>\n",
       "      <td>TX</td>\n",
       "      <td>AMA</td>\n",
       "      <td>Rick Husband Amarillo International Airport</td>\n",
       "      <td>Amarillo</td>\n",
       "      <td>0.0</td>\n",
       "    </tr>\n",
       "    <tr>\n",
       "      <th>10</th>\n",
       "      <td>2020-01-07</td>\n",
       "      <td>WN</td>\n",
       "      <td>Southwest Airlines</td>\n",
       "      <td>DAL</td>\n",
       "      <td>Dallas Love Field</td>\n",
       "      <td>Dallas</td>\n",
       "      <td>TX</td>\n",
       "      <td>ATL</td>\n",
       "      <td>Hartsfield Jackson Atlanta International Airport</td>\n",
       "      <td>Atlanta</td>\n",
       "      <td>-5.0</td>\n",
       "    </tr>\n",
       "    <tr>\n",
       "      <th>11</th>\n",
       "      <td>2020-01-07</td>\n",
       "      <td>WN</td>\n",
       "      <td>Southwest Airlines</td>\n",
       "      <td>DAL</td>\n",
       "      <td>Dallas Love Field</td>\n",
       "      <td>Dallas</td>\n",
       "      <td>TX</td>\n",
       "      <td>ATL</td>\n",
       "      <td>Hartsfield Jackson Atlanta International Airport</td>\n",
       "      <td>Atlanta</td>\n",
       "      <td>0.0</td>\n",
       "    </tr>\n",
       "    <tr>\n",
       "      <th>12</th>\n",
       "      <td>2020-01-07</td>\n",
       "      <td>WN</td>\n",
       "      <td>Southwest Airlines</td>\n",
       "      <td>DAL</td>\n",
       "      <td>Dallas Love Field</td>\n",
       "      <td>Dallas</td>\n",
       "      <td>TX</td>\n",
       "      <td>ATL</td>\n",
       "      <td>Hartsfield Jackson Atlanta International Airport</td>\n",
       "      <td>Atlanta</td>\n",
       "      <td>-4.0</td>\n",
       "    </tr>\n",
       "    <tr>\n",
       "      <th>13</th>\n",
       "      <td>2020-01-07</td>\n",
       "      <td>WN</td>\n",
       "      <td>Southwest Airlines</td>\n",
       "      <td>DAL</td>\n",
       "      <td>Dallas Love Field</td>\n",
       "      <td>Dallas</td>\n",
       "      <td>TX</td>\n",
       "      <td>ATL</td>\n",
       "      <td>Hartsfield Jackson Atlanta International Airport</td>\n",
       "      <td>Atlanta</td>\n",
       "      <td>-2.0</td>\n",
       "    </tr>\n",
       "    <tr>\n",
       "      <th>14</th>\n",
       "      <td>2020-01-07</td>\n",
       "      <td>WN</td>\n",
       "      <td>Southwest Airlines</td>\n",
       "      <td>DAL</td>\n",
       "      <td>Dallas Love Field</td>\n",
       "      <td>Dallas</td>\n",
       "      <td>TX</td>\n",
       "      <td>AUS</td>\n",
       "      <td>Austin Bergstrom International Airport</td>\n",
       "      <td>Austin</td>\n",
       "      <td>-3.0</td>\n",
       "    </tr>\n",
       "  </tbody>\n",
       "</table>\n",
       "</div>"
      ],
      "text/plain": [
       "       FL_DATE OP_UNIQUE_CARRIER        CARRIER_NAME ORIGIN  \\\n",
       "0   2020-01-07                WN  Southwest Airlines    DAL   \n",
       "1   2020-01-07                WN  Southwest Airlines    DAL   \n",
       "2   2020-01-07                WN  Southwest Airlines    DAL   \n",
       "3   2020-01-07                WN  Southwest Airlines    DAL   \n",
       "4   2020-01-07                WN  Southwest Airlines    DAL   \n",
       "5   2020-01-07                WN  Southwest Airlines    DAL   \n",
       "6   2020-01-07                WN  Southwest Airlines    DAL   \n",
       "7   2020-01-07                WN  Southwest Airlines    DAL   \n",
       "8   2020-01-07                WN  Southwest Airlines    DAL   \n",
       "9   2020-01-07                WN  Southwest Airlines    DAL   \n",
       "10  2020-01-07                WN  Southwest Airlines    DAL   \n",
       "11  2020-01-07                WN  Southwest Airlines    DAL   \n",
       "12  2020-01-07                WN  Southwest Airlines    DAL   \n",
       "13  2020-01-07                WN  Southwest Airlines    DAL   \n",
       "14  2020-01-07                WN  Southwest Airlines    DAL   \n",
       "\n",
       "          ORIGIN_NAME ORIGIN_CITY ORIGIN_STATE DEST  \\\n",
       "0   Dallas Love Field      Dallas           TX  ABQ   \n",
       "1   Dallas Love Field      Dallas           TX  ABQ   \n",
       "2   Dallas Love Field      Dallas           TX  ATL   \n",
       "3   Dallas Love Field      Dallas           TX  ATL   \n",
       "4   Dallas Love Field      Dallas           TX  AMA   \n",
       "5   Dallas Love Field      Dallas           TX  AMA   \n",
       "6   Dallas Love Field      Dallas           TX  AUS   \n",
       "7   Dallas Love Field      Dallas           TX  AUS   \n",
       "8   Dallas Love Field      Dallas           TX  AMA   \n",
       "9   Dallas Love Field      Dallas           TX  AMA   \n",
       "10  Dallas Love Field      Dallas           TX  ATL   \n",
       "11  Dallas Love Field      Dallas           TX  ATL   \n",
       "12  Dallas Love Field      Dallas           TX  ATL   \n",
       "13  Dallas Love Field      Dallas           TX  ATL   \n",
       "14  Dallas Love Field      Dallas           TX  AUS   \n",
       "\n",
       "                                           DEST_NAME    DEST_CITY  Delay  \n",
       "0                  Albuquerque International Sunport  Albuquerque   -3.0  \n",
       "1                  Albuquerque International Sunport  Albuquerque   -2.0  \n",
       "2   Hartsfield Jackson Atlanta International Airport      Atlanta    4.0  \n",
       "3   Hartsfield Jackson Atlanta International Airport      Atlanta   -8.0  \n",
       "4        Rick Husband Amarillo International Airport     Amarillo    0.0  \n",
       "5        Rick Husband Amarillo International Airport     Amarillo  -10.0  \n",
       "6             Austin Bergstrom International Airport       Austin   -5.0  \n",
       "7             Austin Bergstrom International Airport       Austin   -5.0  \n",
       "8        Rick Husband Amarillo International Airport     Amarillo   -5.0  \n",
       "9        Rick Husband Amarillo International Airport     Amarillo    0.0  \n",
       "10  Hartsfield Jackson Atlanta International Airport      Atlanta   -5.0  \n",
       "11  Hartsfield Jackson Atlanta International Airport      Atlanta    0.0  \n",
       "12  Hartsfield Jackson Atlanta International Airport      Atlanta   -4.0  \n",
       "13  Hartsfield Jackson Atlanta International Airport      Atlanta   -2.0  \n",
       "14            Austin Bergstrom International Airport       Austin   -3.0  "
      ]
     },
     "execution_count": 13,
     "metadata": {},
     "output_type": "execute_result"
    }
   ],
   "source": [
    "%%time\n",
    "### Get flight and delay information\n",
    "bc.sql('''\n",
    "    SELECT A.FL_DATE\n",
    "        , A.OP_UNIQUE_CARRIER\n",
    "        , B.Name AS CARRIER_NAME\n",
    "        , A.ORIGIN\n",
    "        , C.Name AS ORIGIN_NAME\n",
    "        , C.City AS ORIGIN_CITY\n",
    "        , C.State AS ORIGIN_STATE        \n",
    "        , A.DEST\n",
    "        , D.Name AS DEST_NAME\n",
    "        , D.City AS DEST_CITY\n",
    "        , A.DEP_DELAY AS Delay\n",
    "    FROM flights AS A\n",
    "    LEFT OUTER JOIN airlines AS B\n",
    "        ON A.OP_UNIQUE_CARRIER = B.IATA\n",
    "    LEFT OUTER JOIN airports_geo AS C\n",
    "        ON A.ORIGIN = C.airport\n",
    "    LEFT OUTER JOIN airports_geo AS D\n",
    "        ON A.DEST = D.airport\n",
    "    LIMIT 15\n",
    "''')"
   ]
  },
  {
   "cell_type": "markdown",
   "id": "c415dd83-94ae-463e-8e22-cbcd0c705fb3",
   "metadata": {},
   "source": [
    "### Questions"
   ]
  },
  {
   "cell_type": "markdown",
   "id": "2200328d-f3c1-4730-9197-e9f11cf666d4",
   "metadata": {},
   "source": [
    "#### 1. How many unique airports are in the dataset"
   ]
  },
  {
   "cell_type": "code",
   "execution_count": 14,
   "id": "378fff7e-0cc4-4006-9ce9-128eafa492d4",
   "metadata": {},
   "outputs": [
    {
     "name": "stdout",
     "output_type": "stream",
     "text": [
      "There are 376 distinct airports in the dataset\n"
     ]
    }
   ],
   "source": [
    "print(f'There are {len(flights[\"ORIGIN\"].unique())} distinct airports in the dataset')"
   ]
  },
  {
   "cell_type": "code",
   "execution_count": 15,
   "id": "d7508e4f-9b72-4b93-bcd9-50b329d77a26",
   "metadata": {},
   "outputs": [
    {
     "data": {
      "application/vnd.jupyter.widget-view+json": {
       "model_id": "fb85c63fd5344b9bb2e246d6dda473f4",
       "version_major": 2,
       "version_minor": 0
      },
      "text/plain": [
       "Steps Complete 0/4|          |  0% (00:00 elapsed)"
      ]
     },
     "metadata": {},
     "output_type": "display_data"
    },
    {
     "data": {
      "application/vnd.jupyter.widget-view+json": {
       "model_id": "4a8e1124b0674f5781908e1b5292599c",
       "version_major": 2,
       "version_minor": 0
      },
      "text/plain": [
       "Total Batches Processed: 0"
      ]
     },
     "metadata": {},
     "output_type": "display_data"
    },
    {
     "data": {
      "text/html": [
       "<div>\n",
       "<style scoped>\n",
       "    .dataframe tbody tr th:only-of-type {\n",
       "        vertical-align: middle;\n",
       "    }\n",
       "\n",
       "    .dataframe tbody tr th {\n",
       "        vertical-align: top;\n",
       "    }\n",
       "\n",
       "    .dataframe thead th {\n",
       "        text-align: right;\n",
       "    }\n",
       "</style>\n",
       "<table border=\"1\" class=\"dataframe\">\n",
       "  <thead>\n",
       "    <tr style=\"text-align: right;\">\n",
       "      <th></th>\n",
       "      <th>count(*)</th>\n",
       "    </tr>\n",
       "  </thead>\n",
       "  <tbody>\n",
       "    <tr>\n",
       "      <th>0</th>\n",
       "      <td>376</td>\n",
       "    </tr>\n",
       "  </tbody>\n",
       "</table>\n",
       "</div>"
      ],
      "text/plain": [
       "   count(*)\n",
       "0       376"
      ]
     },
     "execution_count": 15,
     "metadata": {},
     "output_type": "execute_result"
    }
   ],
   "source": [
    "bc.sql('''\n",
    "    SELECT\n",
    "        COUNT(*)\n",
    "    FROM airports_geo\n",
    "''')"
   ]
  },
  {
   "cell_type": "markdown",
   "id": "1b5e1b11-baf8-4b75-9b24-c3f0fc8891d3",
   "metadata": {},
   "source": [
    "### 2a. How many flights were delayed and departed early?"
   ]
  },
  {
   "cell_type": "code",
   "execution_count": 16,
   "id": "b975f85a-4be0-46fd-9307-e4d1e67259e5",
   "metadata": {},
   "outputs": [
    {
     "name": "stdout",
     "output_type": "stream",
     "text": [
      "762,854 flights were delayed and 3,178,625 departed early or on time\n"
     ]
    }
   ],
   "source": [
    "print(f\"{len(flights[flights['DEP_DELAY'] > 0]):,} flights were delayed and {len(flights[flights['DEP_DELAY'] <=0]):,} departed early or on time\")"
   ]
  },
  {
   "cell_type": "code",
   "execution_count": 17,
   "id": "11a6df86-1dc9-4e53-8821-676be8035912",
   "metadata": {},
   "outputs": [
    {
     "data": {
      "application/vnd.jupyter.widget-view+json": {
       "model_id": "e401d6bd8c634b84ab111082427fae0a",
       "version_major": 2,
       "version_minor": 0
      },
      "text/plain": [
       "Steps Complete 0/4|          |  0% (00:00 elapsed)"
      ]
     },
     "metadata": {},
     "output_type": "display_data"
    },
    {
     "data": {
      "application/vnd.jupyter.widget-view+json": {
       "model_id": "fc59d168cc374b10bd8d86715c2dba99",
       "version_major": 2,
       "version_minor": 0
      },
      "text/plain": [
       "Total Batches Processed: 0"
      ]
     },
     "metadata": {},
     "output_type": "display_data"
    },
    {
     "data": {
      "text/html": [
       "<div>\n",
       "<style scoped>\n",
       "    .dataframe tbody tr th:only-of-type {\n",
       "        vertical-align: middle;\n",
       "    }\n",
       "\n",
       "    .dataframe tbody tr th {\n",
       "        vertical-align: top;\n",
       "    }\n",
       "\n",
       "    .dataframe thead th {\n",
       "        text-align: right;\n",
       "    }\n",
       "</style>\n",
       "<table border=\"1\" class=\"dataframe\">\n",
       "  <thead>\n",
       "    <tr style=\"text-align: right;\">\n",
       "      <th></th>\n",
       "      <th>count(*)</th>\n",
       "    </tr>\n",
       "  </thead>\n",
       "  <tbody>\n",
       "    <tr>\n",
       "      <th>0</th>\n",
       "      <td>762854</td>\n",
       "    </tr>\n",
       "  </tbody>\n",
       "</table>\n",
       "</div>"
      ],
      "text/plain": [
       "   count(*)\n",
       "0    762854"
      ]
     },
     "execution_count": 17,
     "metadata": {},
     "output_type": "execute_result"
    }
   ],
   "source": [
    "bc.sql('''\n",
    "    SELECT\n",
    "        COUNT(*)\n",
    "    from flights\n",
    "    where flights.DEP_DELAY > 0\n",
    "''')"
   ]
  },
  {
   "cell_type": "code",
   "execution_count": 18,
   "id": "e38044e7-2720-484a-a6f8-2acbba753372",
   "metadata": {},
   "outputs": [
    {
     "data": {
      "application/vnd.jupyter.widget-view+json": {
       "model_id": "d65f85b84d1944149665832ba5948f15",
       "version_major": 2,
       "version_minor": 0
      },
      "text/plain": [
       "Steps Complete 0/4|          |  0% (00:00 elapsed)"
      ]
     },
     "metadata": {},
     "output_type": "display_data"
    },
    {
     "data": {
      "application/vnd.jupyter.widget-view+json": {
       "model_id": "387d104929bb46ca9f9df6587b6802d6",
       "version_major": 2,
       "version_minor": 0
      },
      "text/plain": [
       "Total Batches Processed: 0"
      ]
     },
     "metadata": {},
     "output_type": "display_data"
    },
    {
     "data": {
      "text/html": [
       "<div>\n",
       "<style scoped>\n",
       "    .dataframe tbody tr th:only-of-type {\n",
       "        vertical-align: middle;\n",
       "    }\n",
       "\n",
       "    .dataframe tbody tr th {\n",
       "        vertical-align: top;\n",
       "    }\n",
       "\n",
       "    .dataframe thead th {\n",
       "        text-align: right;\n",
       "    }\n",
       "</style>\n",
       "<table border=\"1\" class=\"dataframe\">\n",
       "  <thead>\n",
       "    <tr style=\"text-align: right;\">\n",
       "      <th></th>\n",
       "      <th>count(*)</th>\n",
       "    </tr>\n",
       "  </thead>\n",
       "  <tbody>\n",
       "    <tr>\n",
       "      <th>0</th>\n",
       "      <td>3178625</td>\n",
       "    </tr>\n",
       "  </tbody>\n",
       "</table>\n",
       "</div>"
      ],
      "text/plain": [
       "   count(*)\n",
       "0   3178625"
      ]
     },
     "execution_count": 18,
     "metadata": {},
     "output_type": "execute_result"
    }
   ],
   "source": [
    "bc.sql('''\n",
    "    SELECT\n",
    "        COUNT(*)\n",
    "    from flights\n",
    "    where flights.DEP_DELAY <= 0\n",
    "''')"
   ]
  },
  {
   "cell_type": "markdown",
   "id": "0566aec7-af57-4673-8938-3b9915c6c0c1",
   "metadata": {},
   "source": [
    "### 2b. What is the ditribution?"
   ]
  },
  {
   "cell_type": "code",
   "execution_count": 19,
   "id": "3f807406-9bf4-4d44-9896-cc8b74064d03",
   "metadata": {},
   "outputs": [],
   "source": [
    "### calculate the distribution\n",
    "n_bins = 100\n",
    "\n",
    "delays = flights[flights['DEP_DELAY'] >  0]['DEP_DELAY']\n",
    "ontime = flights[flights['DEP_DELAY'] <= 0]['DEP_DELAY']"
   ]
  },
  {
   "cell_type": "code",
   "execution_count": 21,
   "id": "515e8f0d-ea1a-46a7-8f09-c6642f5e4378",
   "metadata": {},
   "outputs": [
    {
     "name": "stdout",
     "output_type": "stream",
     "text": [
      "CPU times: user 243 ms, sys: 0 ns, total: 243 ms\n",
      "Wall time: 547 ms\n"
     ]
    },
    {
     "data": {
      "text/plain": [
       "<AxesSubplot:title={'center':'Delayed departure distribution'}>"
      ]
     },
     "execution_count": 21,
     "metadata": {},
     "output_type": "execute_result"
    },
    {
     "data": {
      "image/png": "[encoded data removed]",
      "text/plain": [
       "<Figure size 1440x648 with 1 Axes>"
      ]
     },
     "metadata": {
      "needs_background": "light"
     },
     "output_type": "display_data"
    }
   ],
   "source": [
    "%%time\n",
    "del_bins = np.array([i * 15 for i in range(0, n_bins)], dtype='float64')\n",
    "delays_binned = delays.digitize(del_bins)\n",
    "delays_binned.name = \"delays\"\n",
    "delays_histogram = delays_binned.groupby('delays').count() / len(delays)\n",
    "(\n",
    "    delays_histogram\n",
    "    .set_index(del_bins[delays_histogram.index.to_array()-1])\n",
    "    .to_pandas()\n",
    "    .sort_index()\n",
    "    .plot(kind='bar', figsize=(20,9), ylim=[0,1.0], title='Delayed departure distribution')\n",
    ")"
   ]
  },
  {
   "cell_type": "code",
   "execution_count": 22,
   "id": "b1f8edac-ecc8-4e3c-aebc-9b65590388cc",
   "metadata": {},
   "outputs": [
    {
     "name": "stdout",
     "output_type": "stream",
     "text": [
      "CPU times: user 228 ms, sys: 0 ns, total: 228 ms\n",
      "Wall time: 246 ms\n"
     ]
    },
    {
     "data": {
      "text/plain": [
       "<AxesSubplot:title={'center':'Early departure distribution'}>"
      ]
     },
     "execution_count": 22,
     "metadata": {},
     "output_type": "execute_result"
    },
    {
     "data": {
      "image/png": "[encoded data removed]",
      "text/plain": [
       "<Figure size 1440x648 with 1 Axes>"
      ]
     },
     "metadata": {
      "needs_background": "light"
     },
     "output_type": "display_data"
    }
   ],
   "source": [
    "%%time\n",
    "ontime_bins = np.array([i * (-1) for i in range(n_bins,0,-1)], dtype='float64')\n",
    "ontime_binned = ontime.digitize(ontime_bins)\n",
    "ontime_binned.name = \"ontime\"\n",
    "ontime_histogram = ontime_binned.groupby(\"ontime\").count() / len(ontime)\n",
    "(\n",
    "    ontime_histogram\n",
    "    .set_index(ontime_bins[ontime_histogram.index.to_array()-1])\n",
    "    .to_pandas()\n",
    "    .sort_index()\n",
    "    .plot(kind='bar', figsize=(20,9), ylim=[0,1.0], title='Early departure distribution')\n",
    ")"
   ]
  },
  {
   "cell_type": "markdown",
   "id": "984eaf71-df76-44c1-81b8-848a99d13484",
   "metadata": {},
   "source": [
    "### 3. Delays distribution over time "
   ]
  },
  {
   "cell_type": "code",
   "execution_count": 23,
   "id": "89f25c98-92e5-46fe-826c-d10beb6b1f69",
   "metadata": {},
   "outputs": [],
   "source": [
    "q10 = lambda x: x.quantile(0.10); q10.__name__ = \"q0.10\"\n",
    "q25 = lambda x: x.quantile(0.25); q25.__name__ = \"q0.25\"\n",
    "q75 = lambda x: x.quantile(0.75); q75.__name__ = \"q0.75\"\n",
    "q90 = lambda x: x.quantile(0.90); q90.__name__ = \"q0.90\"\n",
    "\n",
    "delay_aggs = (\n",
    "    flights[['MONTH', 'DEP_DELAY']]\n",
    "    .groupby(by='MONTH')\n",
    "    .agg({'DEP_DELAY': [q10, q25,'median',q75, q90]})\n",
    ")\n",
    "\n",
    "delay_aggs.columns = ['_'.join(col) for col in delay_aggs.columns]"
   ]
  },
  {
   "cell_type": "code",
   "execution_count": 24,
   "id": "73c92af0-f68d-41a1-b76e-d95a51be67ad",
   "metadata": {},
   "outputs": [
    {
     "data": {
      "text/html": [
       "<div>\n",
       "<style scoped>\n",
       "    .dataframe tbody tr th:only-of-type {\n",
       "        vertical-align: middle;\n",
       "    }\n",
       "\n",
       "    .dataframe tbody tr th {\n",
       "        vertical-align: top;\n",
       "    }\n",
       "\n",
       "    .dataframe thead th {\n",
       "        text-align: right;\n",
       "    }\n",
       "</style>\n",
       "<table border=\"1\" class=\"dataframe\">\n",
       "  <thead>\n",
       "    <tr style=\"text-align: right;\">\n",
       "      <th></th>\n",
       "      <th>DEP_DELAY_q0.10</th>\n",
       "      <th>DEP_DELAY_q0.25</th>\n",
       "      <th>DEP_DELAY_median</th>\n",
       "      <th>DEP_DELAY_q0.75</th>\n",
       "      <th>DEP_DELAY_q0.90</th>\n",
       "    </tr>\n",
       "    <tr>\n",
       "      <th>MONTH</th>\n",
       "      <th></th>\n",
       "      <th></th>\n",
       "      <th></th>\n",
       "      <th></th>\n",
       "      <th></th>\n",
       "    </tr>\n",
       "  </thead>\n",
       "  <tbody>\n",
       "    <tr>\n",
       "      <th>1</th>\n",
       "      <td>-9.0</td>\n",
       "      <td>-6.0</td>\n",
       "      <td>-3.0</td>\n",
       "      <td>2.0</td>\n",
       "      <td>25.0</td>\n",
       "    </tr>\n",
       "    <tr>\n",
       "      <th>2</th>\n",
       "      <td>-9.0</td>\n",
       "      <td>-6.0</td>\n",
       "      <td>-3.0</td>\n",
       "      <td>2.0</td>\n",
       "      <td>28.0</td>\n",
       "    </tr>\n",
       "    <tr>\n",
       "      <th>3</th>\n",
       "      <td>-11.0</td>\n",
       "      <td>-8.0</td>\n",
       "      <td>-5.0</td>\n",
       "      <td>-1.0</td>\n",
       "      <td>13.0</td>\n",
       "    </tr>\n",
       "    <tr>\n",
       "      <th>4</th>\n",
       "      <td>-13.0</td>\n",
       "      <td>-10.0</td>\n",
       "      <td>-6.0</td>\n",
       "      <td>-4.0</td>\n",
       "      <td>0.0</td>\n",
       "    </tr>\n",
       "    <tr>\n",
       "      <th>5</th>\n",
       "      <td>-10.0</td>\n",
       "      <td>-8.0</td>\n",
       "      <td>-5.0</td>\n",
       "      <td>-2.0</td>\n",
       "      <td>2.0</td>\n",
       "    </tr>\n",
       "    <tr>\n",
       "      <th>6</th>\n",
       "      <td>-10.0</td>\n",
       "      <td>-7.0</td>\n",
       "      <td>-4.0</td>\n",
       "      <td>-1.0</td>\n",
       "      <td>6.0</td>\n",
       "    </tr>\n",
       "    <tr>\n",
       "      <th>7</th>\n",
       "      <td>-10.0</td>\n",
       "      <td>-7.0</td>\n",
       "      <td>-5.0</td>\n",
       "      <td>-2.0</td>\n",
       "      <td>7.0</td>\n",
       "    </tr>\n",
       "    <tr>\n",
       "      <th>8</th>\n",
       "      <td>-10.0</td>\n",
       "      <td>-7.0</td>\n",
       "      <td>-5.0</td>\n",
       "      <td>-2.0</td>\n",
       "      <td>6.0</td>\n",
       "    </tr>\n",
       "    <tr>\n",
       "      <th>9</th>\n",
       "      <td>-10.0</td>\n",
       "      <td>-7.0</td>\n",
       "      <td>-5.0</td>\n",
       "      <td>-2.0</td>\n",
       "      <td>5.0</td>\n",
       "    </tr>\n",
       "    <tr>\n",
       "      <th>10</th>\n",
       "      <td>-9.0</td>\n",
       "      <td>-7.0</td>\n",
       "      <td>-4.0</td>\n",
       "      <td>-1.0</td>\n",
       "      <td>7.0</td>\n",
       "    </tr>\n",
       "  </tbody>\n",
       "</table>\n",
       "</div>"
      ],
      "text/plain": [
       "       DEP_DELAY_q0.10  DEP_DELAY_q0.25  DEP_DELAY_median  DEP_DELAY_q0.75  \\\n",
       "MONTH                                                                        \n",
       "1                 -9.0             -6.0              -3.0              2.0   \n",
       "2                 -9.0             -6.0              -3.0              2.0   \n",
       "3                -11.0             -8.0              -5.0             -1.0   \n",
       "4                -13.0            -10.0              -6.0             -4.0   \n",
       "5                -10.0             -8.0              -5.0             -2.0   \n",
       "6                -10.0             -7.0              -4.0             -1.0   \n",
       "7                -10.0             -7.0              -5.0             -2.0   \n",
       "8                -10.0             -7.0              -5.0             -2.0   \n",
       "9                -10.0             -7.0              -5.0             -2.0   \n",
       "10                -9.0             -7.0              -4.0             -1.0   \n",
       "\n",
       "       DEP_DELAY_q0.90  \n",
       "MONTH                   \n",
       "1                 25.0  \n",
       "2                 28.0  \n",
       "3                 13.0  \n",
       "4                  0.0  \n",
       "5                  2.0  \n",
       "6                  6.0  \n",
       "7                  7.0  \n",
       "8                  6.0  \n",
       "9                  5.0  \n",
       "10                 7.0  "
      ]
     },
     "execution_count": 24,
     "metadata": {},
     "output_type": "execute_result"
    }
   ],
   "source": [
    "host=delay_aggs.to_pandas()\n",
    "host"
   ]
  },
  {
   "cell_type": "code",
   "execution_count": 25,
   "id": "11f1864e-641a-43f4-a162-463ed4ed7723",
   "metadata": {},
   "outputs": [
    {
     "data": {
      "image/png": "[encoded data removed]",
      "text/plain": [
       "<Figure size 864x648 with 1 Axes>"
      ]
     },
     "metadata": {
      "needs_background": "light"
     },
     "output_type": "display_data"
    }
   ],
   "source": [
    "x = ['JAN', 'FEB', 'MAR', 'APR', 'MAY', 'JUN', 'JUL', 'AUG', 'SEP', 'OCT']\n",
    "fig, ax = plt.subplots(figsize=(12,9))\n",
    "ax.plot(x, host['DEP_DELAY_median'], 'r--', label='median')\n",
    "ax.fill_between(x, host['DEP_DELAY_q0.10'], host['DEP_DELAY_q0.90']\n",
    "                , alpha=.2, label='Quart10 - Quart90')\n",
    "ax.fill_between(x, host['DEP_DELAY_q0.25'], host['DEP_DELAY_q0.75']\n",
    "                , alpha=.2, label='Quart25 - Quart75')\n",
    "ax.legend();"
   ]
  },
  {
   "cell_type": "markdown",
   "id": "723fffcc-d70c-424e-ae84-bc5890b070f1",
   "metadata": {},
   "source": [
    "### 4. What are the top 5 airlines and airports with ost delays and at least 1000 flights? What is the average delay?"
   ]
  },
  {
   "cell_type": "code",
   "execution_count": 26,
   "id": "495af81a-c5ff-4157-8ceb-5e464baf3992",
   "metadata": {},
   "outputs": [],
   "source": [
    "delays = flights[flights['DEP_DELAY'] >  0][['DEP_DELAY', 'ORIGIN', 'DEST', 'OP_UNIQUE_CARRIER']]\n",
    "ontime = flights[flights['DEP_DELAY'] <= 0][['DEP_DELAY', 'ORIGIN', 'DEST', 'OP_UNIQUE_CARRIER']]"
   ]
  },
  {
   "cell_type": "code",
   "execution_count": 27,
   "id": "2223b0d2-2c82-4b04-90d5-d3f0b7b32745",
   "metadata": {},
   "outputs": [],
   "source": [
    "bc.create_table('delays', delays)\n",
    "bc.create_table('ontime', ontime)"
   ]
  },
  {
   "cell_type": "code",
   "execution_count": 28,
   "id": "cf590028-66f5-4a8f-9539-62b9fb4f2067",
   "metadata": {},
   "outputs": [
    {
     "data": {
      "application/vnd.jupyter.widget-view+json": {
       "model_id": "4fb55120cae34802ace0fcdda2397567",
       "version_major": 2,
       "version_minor": 0
      },
      "text/plain": [
       "Steps Complete 0/15|          |  0% (00:00 elapsed)"
      ]
     },
     "metadata": {},
     "output_type": "display_data"
    },
    {
     "data": {
      "application/vnd.jupyter.widget-view+json": {
       "model_id": "96044202510e4f9abec992b2432b3e63",
       "version_major": 2,
       "version_minor": 0
      },
      "text/plain": [
       "Total Batches Processed: 0"
      ]
     },
     "metadata": {},
     "output_type": "display_data"
    },
    {
     "name": "stdout",
     "output_type": "stream",
     "text": [
      "CPU times: user 984 ms, sys: 81 ms, total: 1.07 s\n",
      "Wall time: 607 ms\n"
     ]
    },
    {
     "data": {
      "text/html": [
       "<div>\n",
       "<style scoped>\n",
       "    .dataframe tbody tr th:only-of-type {\n",
       "        vertical-align: middle;\n",
       "    }\n",
       "\n",
       "    .dataframe tbody tr th {\n",
       "        vertical-align: top;\n",
       "    }\n",
       "\n",
       "    .dataframe thead th {\n",
       "        text-align: right;\n",
       "    }\n",
       "</style>\n",
       "<table border=\"1\" class=\"dataframe\">\n",
       "  <thead>\n",
       "    <tr style=\"text-align: right;\">\n",
       "      <th></th>\n",
       "      <th>ORIGIN</th>\n",
       "      <th>ORIGIN_Airport</th>\n",
       "      <th>ORIGIN_Country</th>\n",
       "      <th>ORIGIN_Country0</th>\n",
       "      <th>Latitude</th>\n",
       "      <th>Longitude</th>\n",
       "      <th>DELAY_CNT</th>\n",
       "      <th>AVG_DELAY</th>\n",
       "    </tr>\n",
       "  </thead>\n",
       "  <tbody>\n",
       "    <tr>\n",
       "      <th>0</th>\n",
       "      <td>MSN</td>\n",
       "      <td>Dane County Regional Truax Field</td>\n",
       "      <td>Madison</td>\n",
       "      <td>United States</td>\n",
       "      <td>43.139900</td>\n",
       "      <td>-89.337502</td>\n",
       "      <td>1099</td>\n",
       "      <td>64.316652</td>\n",
       "    </tr>\n",
       "    <tr>\n",
       "      <th>1</th>\n",
       "      <td>GSO</td>\n",
       "      <td>Piedmont Triad International Airport</td>\n",
       "      <td>Greensboro</td>\n",
       "      <td>United States</td>\n",
       "      <td>36.097801</td>\n",
       "      <td>-79.937302</td>\n",
       "      <td>1274</td>\n",
       "      <td>63.218210</td>\n",
       "    </tr>\n",
       "    <tr>\n",
       "      <th>2</th>\n",
       "      <td>SYR</td>\n",
       "      <td>Syracuse Hancock International Airport</td>\n",
       "      <td>Syracuse</td>\n",
       "      <td>United States</td>\n",
       "      <td>43.111198</td>\n",
       "      <td>-76.106300</td>\n",
       "      <td>1106</td>\n",
       "      <td>62.558770</td>\n",
       "    </tr>\n",
       "    <tr>\n",
       "      <th>3</th>\n",
       "      <td>TYS</td>\n",
       "      <td>McGhee Tyson Airport</td>\n",
       "      <td>Knoxville</td>\n",
       "      <td>United States</td>\n",
       "      <td>35.811001</td>\n",
       "      <td>-83.994003</td>\n",
       "      <td>1471</td>\n",
       "      <td>58.189667</td>\n",
       "    </tr>\n",
       "    <tr>\n",
       "      <th>4</th>\n",
       "      <td>CID</td>\n",
       "      <td>The Eastern Iowa Airport</td>\n",
       "      <td>Cedar Rapids</td>\n",
       "      <td>United States</td>\n",
       "      <td>41.884701</td>\n",
       "      <td>-91.710800</td>\n",
       "      <td>1069</td>\n",
       "      <td>55.180543</td>\n",
       "    </tr>\n",
       "  </tbody>\n",
       "</table>\n",
       "</div>"
      ],
      "text/plain": [
       "  ORIGIN                          ORIGIN_Airport ORIGIN_Country  \\\n",
       "0    MSN        Dane County Regional Truax Field        Madison   \n",
       "1    GSO    Piedmont Triad International Airport     Greensboro   \n",
       "2    SYR  Syracuse Hancock International Airport       Syracuse   \n",
       "3    TYS                    McGhee Tyson Airport      Knoxville   \n",
       "4    CID                The Eastern Iowa Airport   Cedar Rapids   \n",
       "\n",
       "  ORIGIN_Country0   Latitude  Longitude  DELAY_CNT  AVG_DELAY  \n",
       "0   United States  43.139900 -89.337502       1099  64.316652  \n",
       "1   United States  36.097801 -79.937302       1274  63.218210  \n",
       "2   United States  43.111198 -76.106300       1106  62.558770  \n",
       "3   United States  35.811001 -83.994003       1471  58.189667  \n",
       "4   United States  41.884701 -91.710800       1069  55.180543  "
      ]
     },
     "execution_count": 28,
     "metadata": {},
     "output_type": "execute_result"
    }
   ],
   "source": [
    "%%time\n",
    "## Origin delays\n",
    "delayed_origin = bc.sql('''\n",
    "    SELECT\n",
    "        A.ORIGIN\n",
    "        , B.Name AS ORIGIN_Airport\n",
    "        , B.City AS ORIGIN_Country\n",
    "        , B.Country AS ORIGIN_Country\n",
    "        , B.Latitude\n",
    "        , B.Longitude\n",
    "        , COUNT(*) AS DELAY_CNT\n",
    "        , AVG(A.DEP_DELAY) AS AVG_DELAY\n",
    "    FROM delays AS A\n",
    "    LEFT OUTER JOIN airports as B\n",
    "        ON A.ORIGIN = B.IATA\n",
    "    GROUP BY A.ORIGIN\n",
    "        , B.Name\n",
    "        , B.City\n",
    "        , B.Country\n",
    "        , B.Latitude\n",
    "        , B.Longitude\n",
    "    HAVING COUNT(*) > 1000\n",
    "        AND B.Country = 'United States'\n",
    "    ORDER BY AVG(A.DEP_DELAY) DESC\n",
    "    LIMIT 60\n",
    "''')\n",
    "delayed_origin.head()"
   ]
  },
  {
   "cell_type": "code",
   "execution_count": 29,
   "id": "8d10d43e-47b8-4792-ad3c-464f10244112",
   "metadata": {},
   "outputs": [
    {
     "data": {
      "application/vnd.jupyter.widget-view+json": {
       "model_id": "6eae4de39c904b158bb407ae951b523d",
       "version_major": 2,
       "version_minor": 0
      },
      "text/plain": [
       "Steps Complete 0/14|          |  0% (00:00 elapsed)"
      ]
     },
     "metadata": {},
     "output_type": "display_data"
    },
    {
     "data": {
      "application/vnd.jupyter.widget-view+json": {
       "model_id": "7377923b2d9d46dc883add0707051e94",
       "version_major": 2,
       "version_minor": 0
      },
      "text/plain": [
       "Total Batches Processed: 0"
      ]
     },
     "metadata": {},
     "output_type": "display_data"
    },
    {
     "name": "stdout",
     "output_type": "stream",
     "text": [
      "CPU times: user 1.05 s, sys: 55.5 ms, total: 1.11 s\n",
      "Wall time: 775 ms\n"
     ]
    },
    {
     "data": {
      "text/html": [
       "<div>\n",
       "<style scoped>\n",
       "    .dataframe tbody tr th:only-of-type {\n",
       "        vertical-align: middle;\n",
       "    }\n",
       "\n",
       "    .dataframe tbody tr th {\n",
       "        vertical-align: top;\n",
       "    }\n",
       "\n",
       "    .dataframe thead th {\n",
       "        text-align: right;\n",
       "    }\n",
       "</style>\n",
       "<table border=\"1\" class=\"dataframe\">\n",
       "  <thead>\n",
       "    <tr style=\"text-align: right;\">\n",
       "      <th></th>\n",
       "      <th>DEST</th>\n",
       "      <th>DEST_Airport</th>\n",
       "      <th>DEST_City</th>\n",
       "      <th>DEST_Country</th>\n",
       "      <th>Latitude</th>\n",
       "      <th>Longitude</th>\n",
       "      <th>DELAY_CNT</th>\n",
       "      <th>AVG_DELAY</th>\n",
       "    </tr>\n",
       "  </thead>\n",
       "  <tbody>\n",
       "    <tr>\n",
       "      <th>0</th>\n",
       "      <td>ASE</td>\n",
       "      <td>Aspen-Pitkin Co/Sardy Field</td>\n",
       "      <td>Aspen</td>\n",
       "      <td>United States</td>\n",
       "      <td>39.223202</td>\n",
       "      <td>-106.869003</td>\n",
       "      <td>1035</td>\n",
       "      <td>69.315942</td>\n",
       "    </tr>\n",
       "    <tr>\n",
       "      <th>1</th>\n",
       "      <td>SFB</td>\n",
       "      <td>Orlando Sanford International Airport</td>\n",
       "      <td>Sanford</td>\n",
       "      <td>United States</td>\n",
       "      <td>28.777599</td>\n",
       "      <td>-81.237503</td>\n",
       "      <td>1684</td>\n",
       "      <td>60.046318</td>\n",
       "    </tr>\n",
       "    <tr>\n",
       "      <th>2</th>\n",
       "      <td>PIE</td>\n",
       "      <td>St Petersburg Clearwater International Airport</td>\n",
       "      <td>St. Petersburg</td>\n",
       "      <td>United States</td>\n",
       "      <td>27.910200</td>\n",
       "      <td>-82.687401</td>\n",
       "      <td>1174</td>\n",
       "      <td>57.097956</td>\n",
       "    </tr>\n",
       "    <tr>\n",
       "      <th>3</th>\n",
       "      <td>AVL</td>\n",
       "      <td>Asheville Regional Airport</td>\n",
       "      <td>Asheville</td>\n",
       "      <td>United States</td>\n",
       "      <td>35.436199</td>\n",
       "      <td>-82.541801</td>\n",
       "      <td>1015</td>\n",
       "      <td>54.154680</td>\n",
       "    </tr>\n",
       "    <tr>\n",
       "      <th>4</th>\n",
       "      <td>ORD</td>\n",
       "      <td>Chicago O'Hare International Airport</td>\n",
       "      <td>Chicago</td>\n",
       "      <td>United States</td>\n",
       "      <td>41.978600</td>\n",
       "      <td>-87.904800</td>\n",
       "      <td>29935</td>\n",
       "      <td>52.841089</td>\n",
       "    </tr>\n",
       "  </tbody>\n",
       "</table>\n",
       "</div>"
      ],
      "text/plain": [
       "  DEST                                    DEST_Airport       DEST_City  \\\n",
       "0  ASE                     Aspen-Pitkin Co/Sardy Field           Aspen   \n",
       "1  SFB           Orlando Sanford International Airport         Sanford   \n",
       "2  PIE  St Petersburg Clearwater International Airport  St. Petersburg   \n",
       "3  AVL                      Asheville Regional Airport       Asheville   \n",
       "4  ORD            Chicago O'Hare International Airport         Chicago   \n",
       "\n",
       "    DEST_Country   Latitude   Longitude  DELAY_CNT  AVG_DELAY  \n",
       "0  United States  39.223202 -106.869003       1035  69.315942  \n",
       "1  United States  28.777599  -81.237503       1684  60.046318  \n",
       "2  United States  27.910200  -82.687401       1174  57.097956  \n",
       "3  United States  35.436199  -82.541801       1015  54.154680  \n",
       "4  United States  41.978600  -87.904800      29935  52.841089  "
      ]
     },
     "execution_count": 29,
     "metadata": {},
     "output_type": "execute_result"
    }
   ],
   "source": [
    "%%time\n",
    "## Destination delays\n",
    "delayed_destination = bc.sql('''\n",
    "    SELECT A.DEST\n",
    "        , B.Name AS DEST_Airport\n",
    "        , B.City AS DEST_City\n",
    "        , B.Country AS DEST_Country\n",
    "        , B.Latitude\n",
    "        , B.Longitude\n",
    "        , COUNT(*) AS DELAY_CNT\n",
    "        , AVG(DEP_DELAY) AS AVG_DELAY\n",
    "    FROM delays AS A\n",
    "    LEFT OUTER JOIN airports AS B\n",
    "        ON A.DEST = B.IATA\n",
    "    GROUP BY A.DEST\n",
    "        , B.Name\n",
    "        , B.City\n",
    "        , B.Country\n",
    "        , B.Latitude\n",
    "        , B.Longitude\n",
    "    HAVING COUNT(*) > 1000\n",
    "        AND B.Country = 'United States'\n",
    "    ORDER BY AVG(DEP_DELAY) DESC\n",
    "    LIMIT 60\n",
    "''')\n",
    "delayed_destination.head()"
   ]
  },
  {
   "cell_type": "code",
   "execution_count": 30,
   "id": "c50f0222-7f04-492d-a773-3908867dd7c6",
   "metadata": {},
   "outputs": [
    {
     "data": {
      "application/vnd.jupyter.widget-view+json": {
       "model_id": "81c2fc3921b642e1a0b0203393de8f4e",
       "version_major": 2,
       "version_minor": 0
      },
      "text/plain": [
       "Steps Complete 0/13|          |  0% (00:00 elapsed)"
      ]
     },
     "metadata": {},
     "output_type": "display_data"
    },
    {
     "data": {
      "application/vnd.jupyter.widget-view+json": {
       "model_id": "9fc2ce66981147cf8a7ca4005a6df44c",
       "version_major": 2,
       "version_minor": 0
      },
      "text/plain": [
       "Total Batches Processed: 0"
      ]
     },
     "metadata": {},
     "output_type": "display_data"
    },
    {
     "name": "stdout",
     "output_type": "stream",
     "text": [
      "CPU times: user 490 ms, sys: 28.5 ms, total: 519 ms\n",
      "Wall time: 606 ms\n"
     ]
    },
    {
     "data": {
      "text/html": [
       "<div>\n",
       "<style scoped>\n",
       "    .dataframe tbody tr th:only-of-type {\n",
       "        vertical-align: middle;\n",
       "    }\n",
       "\n",
       "    .dataframe tbody tr th {\n",
       "        vertical-align: top;\n",
       "    }\n",
       "\n",
       "    .dataframe thead th {\n",
       "        text-align: right;\n",
       "    }\n",
       "</style>\n",
       "<table border=\"1\" class=\"dataframe\">\n",
       "  <thead>\n",
       "    <tr style=\"text-align: right;\">\n",
       "      <th></th>\n",
       "      <th>CARRIER</th>\n",
       "      <th>CARRIER_Name</th>\n",
       "      <th>CARRIER_Country</th>\n",
       "      <th>DELAY_CNT</th>\n",
       "      <th>AVG_DELAY</th>\n",
       "    </tr>\n",
       "  </thead>\n",
       "  <tbody>\n",
       "    <tr>\n",
       "      <th>0</th>\n",
       "      <td>C5</td>\n",
       "      <td>CommutAir</td>\n",
       "      <td>United States</td>\n",
       "      <td>5031</td>\n",
       "      <td>65.337309</td>\n",
       "    </tr>\n",
       "    <tr>\n",
       "      <th>1</th>\n",
       "      <td>AX</td>\n",
       "      <td>Trans States Airlines</td>\n",
       "      <td>United States</td>\n",
       "      <td>3759</td>\n",
       "      <td>62.545358</td>\n",
       "    </tr>\n",
       "    <tr>\n",
       "      <th>2</th>\n",
       "      <td>ZW</td>\n",
       "      <td>Air Wisconsin</td>\n",
       "      <td>United States</td>\n",
       "      <td>6335</td>\n",
       "      <td>62.110339</td>\n",
       "    </tr>\n",
       "    <tr>\n",
       "      <th>3</th>\n",
       "      <td>G7</td>\n",
       "      <td>GoJet Airlines</td>\n",
       "      <td>United States</td>\n",
       "      <td>4812</td>\n",
       "      <td>55.846633</td>\n",
       "    </tr>\n",
       "    <tr>\n",
       "      <th>4</th>\n",
       "      <td>G7</td>\n",
       "      <td>Gandalf Airlines</td>\n",
       "      <td>Italy</td>\n",
       "      <td>4812</td>\n",
       "      <td>55.846633</td>\n",
       "    </tr>\n",
       "  </tbody>\n",
       "</table>\n",
       "</div>"
      ],
      "text/plain": [
       "  CARRIER           CARRIER_Name CARRIER_Country  DELAY_CNT  AVG_DELAY\n",
       "0      C5              CommutAir   United States       5031  65.337309\n",
       "1      AX  Trans States Airlines   United States       3759  62.545358\n",
       "2      ZW          Air Wisconsin   United States       6335  62.110339\n",
       "3      G7         GoJet Airlines   United States       4812  55.846633\n",
       "4      G7       Gandalf Airlines           Italy       4812  55.846633"
      ]
     },
     "execution_count": 30,
     "metadata": {},
     "output_type": "execute_result"
    }
   ],
   "source": [
    "%%time\n",
    "# Airline\n",
    "bc.sql('''\n",
    "    SELECT A.OP_UNIQUE_CARRIER AS CARRIER\n",
    "        , B.Name AS CARRIER_Name\n",
    "        , B.Country AS CARRIER_Country\n",
    "        , COUNT(*) AS DELAY_CNT\n",
    "        , AVG(DEP_DELAY) AS AVG_DELAY\n",
    "    FROM delays AS A\n",
    "    LEFT OUTER JOIN airlines AS B\n",
    "        ON A.OP_UNIQUE_CARRIER = B.IATA\n",
    "    GROUP BY A.OP_UNIQUE_CARRIER\n",
    "        , B.Name\n",
    "        , B.Country\n",
    "    HAVING COUNT(*) > 1000\n",
    "    ORDER BY AVG(DEP_DELAY) DESC\n",
    "    LIMIT 5\n",
    "''')"
   ]
  },
  {
   "cell_type": "markdown",
   "id": "09502aa6-9fda-4fd2-886a-d191f732094f",
   "metadata": {},
   "source": [
    "### Most on time"
   ]
  },
  {
   "cell_type": "code",
   "execution_count": 31,
   "id": "6d60fc18-8a06-4157-83c2-31c0d9cb8d2b",
   "metadata": {},
   "outputs": [
    {
     "data": {
      "application/vnd.jupyter.widget-view+json": {
       "model_id": "3ca775250ecc4b05b1c88c8845a2b1de",
       "version_major": 2,
       "version_minor": 0
      },
      "text/plain": [
       "Steps Complete 0/14|          |  0% (00:00 elapsed)"
      ]
     },
     "metadata": {},
     "output_type": "display_data"
    },
    {
     "data": {
      "application/vnd.jupyter.widget-view+json": {
       "model_id": "ba179ffa3faa42138116ee6ce592eccc",
       "version_major": 2,
       "version_minor": 0
      },
      "text/plain": [
       "Total Batches Processed: 0"
      ]
     },
     "metadata": {},
     "output_type": "display_data"
    },
    {
     "name": "stdout",
     "output_type": "stream",
     "text": [
      "CPU times: user 1.81 s, sys: 10.2 ms, total: 1.82 s\n",
      "Wall time: 1.65 s\n"
     ]
    },
    {
     "data": {
      "text/html": [
       "<div>\n",
       "<style scoped>\n",
       "    .dataframe tbody tr th:only-of-type {\n",
       "        vertical-align: middle;\n",
       "    }\n",
       "\n",
       "    .dataframe tbody tr th {\n",
       "        vertical-align: top;\n",
       "    }\n",
       "\n",
       "    .dataframe thead th {\n",
       "        text-align: right;\n",
       "    }\n",
       "</style>\n",
       "<table border=\"1\" class=\"dataframe\">\n",
       "  <thead>\n",
       "    <tr style=\"text-align: right;\">\n",
       "      <th></th>\n",
       "      <th>ORIGIN</th>\n",
       "      <th>ORIGIN_Airport</th>\n",
       "      <th>ORIGIN_City</th>\n",
       "      <th>ORIGIN_Country</th>\n",
       "      <th>Latitude</th>\n",
       "      <th>Longitude</th>\n",
       "      <th>ONTIME_CNT</th>\n",
       "      <th>AVG_ONTIME</th>\n",
       "    </tr>\n",
       "  </thead>\n",
       "  <tbody>\n",
       "    <tr>\n",
       "      <th>0</th>\n",
       "      <td>DAL</td>\n",
       "      <td>Dallas Love Field</td>\n",
       "      <td>Dallas</td>\n",
       "      <td>United States</td>\n",
       "      <td>32.847099</td>\n",
       "      <td>-96.851799</td>\n",
       "      <td>30460</td>\n",
       "      <td>-3.738641</td>\n",
       "    </tr>\n",
       "    <tr>\n",
       "      <th>1</th>\n",
       "      <td>HOU</td>\n",
       "      <td>William P Hobby Airport</td>\n",
       "      <td>Houston</td>\n",
       "      <td>United States</td>\n",
       "      <td>29.645399</td>\n",
       "      <td>-95.278900</td>\n",
       "      <td>23884</td>\n",
       "      <td>-3.892397</td>\n",
       "    </tr>\n",
       "    <tr>\n",
       "      <th>2</th>\n",
       "      <td>MDW</td>\n",
       "      <td>Chicago Midway International Airport</td>\n",
       "      <td>Chicago</td>\n",
       "      <td>United States</td>\n",
       "      <td>41.785999</td>\n",
       "      <td>-87.752403</td>\n",
       "      <td>33359</td>\n",
       "      <td>-3.928415</td>\n",
       "    </tr>\n",
       "    <tr>\n",
       "      <th>3</th>\n",
       "      <td>ATL</td>\n",
       "      <td>Hartsfield Jackson Atlanta International Airport</td>\n",
       "      <td>Atlanta</td>\n",
       "      <td>United States</td>\n",
       "      <td>33.636700</td>\n",
       "      <td>-84.428101</td>\n",
       "      <td>158670</td>\n",
       "      <td>-4.086166</td>\n",
       "    </tr>\n",
       "    <tr>\n",
       "      <th>4</th>\n",
       "      <td>BWI</td>\n",
       "      <td>Baltimore/Washington International Thurgood Ma...</td>\n",
       "      <td>Baltimore</td>\n",
       "      <td>United States</td>\n",
       "      <td>39.175400</td>\n",
       "      <td>-76.668297</td>\n",
       "      <td>42744</td>\n",
       "      <td>-4.471505</td>\n",
       "    </tr>\n",
       "  </tbody>\n",
       "</table>\n",
       "</div>"
      ],
      "text/plain": [
       "  ORIGIN                                     ORIGIN_Airport ORIGIN_City  \\\n",
       "0    DAL                                  Dallas Love Field      Dallas   \n",
       "1    HOU                            William P Hobby Airport     Houston   \n",
       "2    MDW               Chicago Midway International Airport     Chicago   \n",
       "3    ATL   Hartsfield Jackson Atlanta International Airport     Atlanta   \n",
       "4    BWI  Baltimore/Washington International Thurgood Ma...   Baltimore   \n",
       "\n",
       "  ORIGIN_Country   Latitude  Longitude  ONTIME_CNT  AVG_ONTIME  \n",
       "0  United States  32.847099 -96.851799       30460   -3.738641  \n",
       "1  United States  29.645399 -95.278900       23884   -3.892397  \n",
       "2  United States  41.785999 -87.752403       33359   -3.928415  \n",
       "3  United States  33.636700 -84.428101      158670   -4.086166  \n",
       "4  United States  39.175400 -76.668297       42744   -4.471505  "
      ]
     },
     "execution_count": 31,
     "metadata": {},
     "output_type": "execute_result"
    }
   ],
   "source": [
    "%%time\n",
    "ontime_origin = bc.sql('''\n",
    "    SELECT A.ORIGIN\n",
    "        , B.Name AS ORIGIN_Airport\n",
    "        , B.City AS ORIGIN_City\n",
    "        , B.Country AS ORIGIN_Country\n",
    "        , B.Latitude\n",
    "        , B.Longitude\n",
    "        , COUNT(*) AS ONTIME_CNT\n",
    "        , AVG(DEP_DELAY) AS AVG_ONTIME\n",
    "    FROM ontime AS A\n",
    "    LEFT OUTER JOIN airports AS B\n",
    "        ON A.ORIGIN = B.IATA\n",
    "    GROUP BY A.ORIGIN\n",
    "        , B.Name\n",
    "        , B.City\n",
    "        , B.Country\n",
    "        , B.Latitude\n",
    "        , B.Longitude\n",
    "    HAVING COUNT(*) > 1000\n",
    "        AND B.Country = 'United States'\n",
    "    ORDER BY AVG(DEP_DELAY) DESC\n",
    "    LIMIT 60\n",
    "''')\n",
    "ontime_origin.head()"
   ]
  },
  {
   "cell_type": "code",
   "execution_count": 32,
   "id": "e3b29d41-7681-48f4-aab7-bca3c208ebe1",
   "metadata": {},
   "outputs": [
    {
     "data": {
      "application/vnd.jupyter.widget-view+json": {
       "model_id": "43036f93bf6d48b0a5deb5b0d58df022",
       "version_major": 2,
       "version_minor": 0
      },
      "text/plain": [
       "Steps Complete 0/14|          |  0% (00:00 elapsed)"
      ]
     },
     "metadata": {},
     "output_type": "display_data"
    },
    {
     "data": {
      "application/vnd.jupyter.widget-view+json": {
       "model_id": "3fb4c99602de4fecac1214836a5242ea",
       "version_major": 2,
       "version_minor": 0
      },
      "text/plain": [
       "Total Batches Processed: 0"
      ]
     },
     "metadata": {},
     "output_type": "display_data"
    },
    {
     "name": "stdout",
     "output_type": "stream",
     "text": [
      "CPU times: user 1.04 s, sys: 56.7 ms, total: 1.1 s\n",
      "Wall time: 872 ms\n"
     ]
    },
    {
     "data": {
      "text/html": [
       "<div>\n",
       "<style scoped>\n",
       "    .dataframe tbody tr th:only-of-type {\n",
       "        vertical-align: middle;\n",
       "    }\n",
       "\n",
       "    .dataframe tbody tr th {\n",
       "        vertical-align: top;\n",
       "    }\n",
       "\n",
       "    .dataframe thead th {\n",
       "        text-align: right;\n",
       "    }\n",
       "</style>\n",
       "<table border=\"1\" class=\"dataframe\">\n",
       "  <thead>\n",
       "    <tr style=\"text-align: right;\">\n",
       "      <th></th>\n",
       "      <th>DEST</th>\n",
       "      <th>DEST_Airport</th>\n",
       "      <th>DEST_City</th>\n",
       "      <th>DEST_Country</th>\n",
       "      <th>Latitude</th>\n",
       "      <th>Longitude</th>\n",
       "      <th>ONTIME_CNT</th>\n",
       "      <th>AVG_ONTIME</th>\n",
       "    </tr>\n",
       "  </thead>\n",
       "  <tbody>\n",
       "    <tr>\n",
       "      <th>0</th>\n",
       "      <td>HOU</td>\n",
       "      <td>William P Hobby Airport</td>\n",
       "      <td>Houston</td>\n",
       "      <td>United States</td>\n",
       "      <td>29.645399</td>\n",
       "      <td>-95.278900</td>\n",
       "      <td>25486</td>\n",
       "      <td>-3.987993</td>\n",
       "    </tr>\n",
       "    <tr>\n",
       "      <th>1</th>\n",
       "      <td>DAL</td>\n",
       "      <td>Dallas Love Field</td>\n",
       "      <td>Dallas</td>\n",
       "      <td>United States</td>\n",
       "      <td>32.847099</td>\n",
       "      <td>-96.851799</td>\n",
       "      <td>32411</td>\n",
       "      <td>-3.991176</td>\n",
       "    </tr>\n",
       "    <tr>\n",
       "      <th>2</th>\n",
       "      <td>MDW</td>\n",
       "      <td>Chicago Midway International Airport</td>\n",
       "      <td>Chicago</td>\n",
       "      <td>United States</td>\n",
       "      <td>41.785999</td>\n",
       "      <td>-87.752403</td>\n",
       "      <td>36677</td>\n",
       "      <td>-4.009897</td>\n",
       "    </tr>\n",
       "    <tr>\n",
       "      <th>3</th>\n",
       "      <td>OAK</td>\n",
       "      <td>Metropolitan Oakland International Airport</td>\n",
       "      <td>Oakland</td>\n",
       "      <td>United States</td>\n",
       "      <td>37.721298</td>\n",
       "      <td>-122.221001</td>\n",
       "      <td>19387</td>\n",
       "      <td>-4.184402</td>\n",
       "    </tr>\n",
       "    <tr>\n",
       "      <th>4</th>\n",
       "      <td>ONT</td>\n",
       "      <td>Ontario International Airport</td>\n",
       "      <td>Ontario</td>\n",
       "      <td>United States</td>\n",
       "      <td>34.056000</td>\n",
       "      <td>-117.600998</td>\n",
       "      <td>9936</td>\n",
       "      <td>-4.450785</td>\n",
       "    </tr>\n",
       "  </tbody>\n",
       "</table>\n",
       "</div>"
      ],
      "text/plain": [
       "  DEST                                DEST_Airport DEST_City   DEST_Country  \\\n",
       "0  HOU                     William P Hobby Airport   Houston  United States   \n",
       "1  DAL                           Dallas Love Field    Dallas  United States   \n",
       "2  MDW        Chicago Midway International Airport   Chicago  United States   \n",
       "3  OAK  Metropolitan Oakland International Airport   Oakland  United States   \n",
       "4  ONT               Ontario International Airport   Ontario  United States   \n",
       "\n",
       "    Latitude   Longitude  ONTIME_CNT  AVG_ONTIME  \n",
       "0  29.645399  -95.278900       25486   -3.987993  \n",
       "1  32.847099  -96.851799       32411   -3.991176  \n",
       "2  41.785999  -87.752403       36677   -4.009897  \n",
       "3  37.721298 -122.221001       19387   -4.184402  \n",
       "4  34.056000 -117.600998        9936   -4.450785  "
      ]
     },
     "execution_count": 32,
     "metadata": {},
     "output_type": "execute_result"
    }
   ],
   "source": [
    "%%time\n",
    "ontime_destination = bc.sql('''\n",
    "    SELECT A.DEST\n",
    "        , B.Name AS DEST_Airport\n",
    "        , B.City AS DEST_City\n",
    "        , B.Country AS DEST_Country\n",
    "        , B.Latitude\n",
    "        , B.Longitude\n",
    "        , COUNT(*) AS ONTIME_CNT\n",
    "        , AVG(DEP_DELAY) AS AVG_ONTIME\n",
    "    FROM ontime AS A\n",
    "    LEFT OUTER JOIN airports AS B\n",
    "        ON A.DEST = B.IATA\n",
    "    GROUP BY A.DEST\n",
    "        , B.Name\n",
    "        , B.City\n",
    "        , B.Country\n",
    "        , B.Latitude\n",
    "        , B.Longitude\n",
    "    HAVING COUNT(*) > 1000\n",
    "        AND B.Country = 'United States'\n",
    "    ORDER BY AVG(DEP_DELAY) DESC\n",
    "    LIMIT 30\n",
    "''')\n",
    "ontime_destination.head(5)"
   ]
  },
  {
   "cell_type": "code",
   "execution_count": 33,
   "id": "e9111064-aacb-4d7f-96e1-6bcb3e4a5179",
   "metadata": {},
   "outputs": [
    {
     "data": {
      "application/vnd.jupyter.widget-view+json": {
       "model_id": "0dcb27de5170442d813c2ae87e587d14",
       "version_major": 2,
       "version_minor": 0
      },
      "text/plain": [
       "Steps Complete 0/14|          |  0% (00:00 elapsed)"
      ]
     },
     "metadata": {},
     "output_type": "display_data"
    },
    {
     "data": {
      "application/vnd.jupyter.widget-view+json": {
       "model_id": "fbff977ffb214c8ca69d62cecd87d961",
       "version_major": 2,
       "version_minor": 0
      },
      "text/plain": [
       "Total Batches Processed: 0"
      ]
     },
     "metadata": {},
     "output_type": "display_data"
    },
    {
     "name": "stdout",
     "output_type": "stream",
     "text": [
      "CPU times: user 781 ms, sys: 53.4 ms, total: 835 ms\n",
      "Wall time: 992 ms\n"
     ]
    },
    {
     "data": {
      "text/html": [
       "<div>\n",
       "<style scoped>\n",
       "    .dataframe tbody tr th:only-of-type {\n",
       "        vertical-align: middle;\n",
       "    }\n",
       "\n",
       "    .dataframe tbody tr th {\n",
       "        vertical-align: top;\n",
       "    }\n",
       "\n",
       "    .dataframe thead th {\n",
       "        text-align: right;\n",
       "    }\n",
       "</style>\n",
       "<table border=\"1\" class=\"dataframe\">\n",
       "  <thead>\n",
       "    <tr style=\"text-align: right;\">\n",
       "      <th></th>\n",
       "      <th>CARRIER</th>\n",
       "      <th>CARRIER_Name</th>\n",
       "      <th>CARRIER_Country</th>\n",
       "      <th>AVG_ONTIME</th>\n",
       "    </tr>\n",
       "  </thead>\n",
       "  <tbody>\n",
       "    <tr>\n",
       "      <th>0</th>\n",
       "      <td>WN</td>\n",
       "      <td>Southwest Airlines</td>\n",
       "      <td>United States</td>\n",
       "      <td>-4.013290</td>\n",
       "    </tr>\n",
       "    <tr>\n",
       "      <th>1</th>\n",
       "      <td>DL</td>\n",
       "      <td>Delta Air Lines</td>\n",
       "      <td>United States</td>\n",
       "      <td>-4.773721</td>\n",
       "    </tr>\n",
       "    <tr>\n",
       "      <th>2</th>\n",
       "      <td>NK</td>\n",
       "      <td>Spirit Airlines</td>\n",
       "      <td>United States</td>\n",
       "      <td>-5.122735</td>\n",
       "    </tr>\n",
       "    <tr>\n",
       "      <th>3</th>\n",
       "      <td>QX</td>\n",
       "      <td>Horizon Air</td>\n",
       "      <td>United States</td>\n",
       "      <td>-5.478265</td>\n",
       "    </tr>\n",
       "    <tr>\n",
       "      <th>4</th>\n",
       "      <td>9E</td>\n",
       "      <td>Pinnacle Airlines</td>\n",
       "      <td>United States</td>\n",
       "      <td>-5.688819</td>\n",
       "    </tr>\n",
       "  </tbody>\n",
       "</table>\n",
       "</div>"
      ],
      "text/plain": [
       "  CARRIER        CARRIER_Name CARRIER_Country  AVG_ONTIME\n",
       "0      WN  Southwest Airlines   United States   -4.013290\n",
       "1      DL     Delta Air Lines   United States   -4.773721\n",
       "2      NK     Spirit Airlines   United States   -5.122735\n",
       "3      QX         Horizon Air   United States   -5.478265\n",
       "4      9E   Pinnacle Airlines   United States   -5.688819"
      ]
     },
     "execution_count": 33,
     "metadata": {},
     "output_type": "execute_result"
    }
   ],
   "source": [
    "%%time\n",
    "bc.sql('''\n",
    "    SELECT A.OP_UNIQUE_CARRIER AS CARRIER\n",
    "        , B.Name AS CARRIER_Name\n",
    "        , B.Country AS CARRIER_Country\n",
    "        , AVG(DEP_DELAY) AS AVG_ONTIME\n",
    "    FROM ontime AS A\n",
    "    LEFT OUTER JOIN airlines AS B\n",
    "        ON A.OP_UNIQUE_CARRIER = B.IATA\n",
    "    GROUP BY A.OP_UNIQUE_CARRIER\n",
    "        , B.Name\n",
    "        , B.Country\n",
    "    HAVING COUNT(*) > 1000\n",
    "    ORDER BY AVG(DEP_DELAY) DESC\n",
    "    LIMIT 5\n",
    "''')"
   ]
  },
  {
   "cell_type": "markdown",
   "id": "7821fa81-af88-442d-8ace-3ed4dd05dca1",
   "metadata": {},
   "source": [
    "### 5. What flights departing PHL experienced significant delay?"
   ]
  },
  {
   "cell_type": "code",
   "execution_count": 34,
   "id": "267fdddb-aa14-444a-8455-b7ea029aaf1f",
   "metadata": {},
   "outputs": [
    {
     "data": {
      "application/vnd.jupyter.widget-view+json": {
       "model_id": "dc1c88ad23a94aaea6e36bee7d555171",
       "version_major": 2,
       "version_minor": 0
      },
      "text/plain": [
       "Steps Complete 0/17|          |  0% (00:00 elapsed)"
      ]
     },
     "metadata": {},
     "output_type": "display_data"
    },
    {
     "data": {
      "application/vnd.jupyter.widget-view+json": {
       "model_id": "53d26d9e324a4b088d70fcc43652f336",
       "version_major": 2,
       "version_minor": 0
      },
      "text/plain": [
       "Total Batches Processed: 0"
      ]
     },
     "metadata": {},
     "output_type": "display_data"
    },
    {
     "name": "stdout",
     "output_type": "stream",
     "text": [
      "CPU times: user 511 ms, sys: 81.4 ms, total: 592 ms\n",
      "Wall time: 369 ms\n"
     ]
    },
    {
     "data": {
      "text/html": [
       "<div>\n",
       "<style scoped>\n",
       "    .dataframe tbody tr th:only-of-type {\n",
       "        vertical-align: middle;\n",
       "    }\n",
       "\n",
       "    .dataframe tbody tr th {\n",
       "        vertical-align: top;\n",
       "    }\n",
       "\n",
       "    .dataframe thead th {\n",
       "        text-align: right;\n",
       "    }\n",
       "</style>\n",
       "<table border=\"1\" class=\"dataframe\">\n",
       "  <thead>\n",
       "    <tr style=\"text-align: right;\">\n",
       "      <th></th>\n",
       "      <th>ORIGIN</th>\n",
       "      <th>ORIGIN_LAT</th>\n",
       "      <th>ORIGIN_LON</th>\n",
       "      <th>DEST</th>\n",
       "      <th>DEST_LAT</th>\n",
       "      <th>DEST_LON</th>\n",
       "      <th>DELAY_CNT</th>\n",
       "      <th>AVG_DELAY</th>\n",
       "    </tr>\n",
       "  </thead>\n",
       "  <tbody>\n",
       "    <tr>\n",
       "      <th>0</th>\n",
       "      <td>PHL</td>\n",
       "      <td>39.871899</td>\n",
       "      <td>-75.241096</td>\n",
       "      <td>DTW</td>\n",
       "      <td>42.212399</td>\n",
       "      <td>-83.353401</td>\n",
       "      <td>52</td>\n",
       "      <td>161.788462</td>\n",
       "    </tr>\n",
       "    <tr>\n",
       "      <th>1</th>\n",
       "      <td>PHL</td>\n",
       "      <td>39.871899</td>\n",
       "      <td>-75.241096</td>\n",
       "      <td>ORD</td>\n",
       "      <td>41.978600</td>\n",
       "      <td>-87.904800</td>\n",
       "      <td>61</td>\n",
       "      <td>160.409836</td>\n",
       "    </tr>\n",
       "    <tr>\n",
       "      <th>2</th>\n",
       "      <td>PHL</td>\n",
       "      <td>39.871899</td>\n",
       "      <td>-75.241096</td>\n",
       "      <td>MIA</td>\n",
       "      <td>25.793200</td>\n",
       "      <td>-80.290604</td>\n",
       "      <td>60</td>\n",
       "      <td>157.466667</td>\n",
       "    </tr>\n",
       "    <tr>\n",
       "      <th>3</th>\n",
       "      <td>PHL</td>\n",
       "      <td>39.871899</td>\n",
       "      <td>-75.241096</td>\n",
       "      <td>ORF</td>\n",
       "      <td>36.894600</td>\n",
       "      <td>-76.201202</td>\n",
       "      <td>64</td>\n",
       "      <td>153.515625</td>\n",
       "    </tr>\n",
       "    <tr>\n",
       "      <th>4</th>\n",
       "      <td>PHL</td>\n",
       "      <td>39.871899</td>\n",
       "      <td>-75.241096</td>\n",
       "      <td>DFW</td>\n",
       "      <td>32.896801</td>\n",
       "      <td>-97.038002</td>\n",
       "      <td>55</td>\n",
       "      <td>138.090909</td>\n",
       "    </tr>\n",
       "  </tbody>\n",
       "</table>\n",
       "</div>"
      ],
      "text/plain": [
       "  ORIGIN  ORIGIN_LAT  ORIGIN_LON DEST   DEST_LAT   DEST_LON  DELAY_CNT  \\\n",
       "0    PHL   39.871899  -75.241096  DTW  42.212399 -83.353401         52   \n",
       "1    PHL   39.871899  -75.241096  ORD  41.978600 -87.904800         61   \n",
       "2    PHL   39.871899  -75.241096  MIA  25.793200 -80.290604         60   \n",
       "3    PHL   39.871899  -75.241096  ORF  36.894600 -76.201202         64   \n",
       "4    PHL   39.871899  -75.241096  DFW  32.896801 -97.038002         55   \n",
       "\n",
       "    AVG_DELAY  \n",
       "0  161.788462  \n",
       "1  160.409836  \n",
       "2  157.466667  \n",
       "3  153.515625  \n",
       "4  138.090909  "
      ]
     },
     "execution_count": 34,
     "metadata": {},
     "output_type": "execute_result"
    }
   ],
   "source": [
    "%%time\n",
    "destinations = bc.sql('''\n",
    "    SELECT ORIGIN\n",
    "        , ORIGIN_LAT\n",
    "        , ORIGIN_LON\n",
    "        , DEST\n",
    "        , DEST_LAT\n",
    "        , DEST_LON\n",
    "        , COUNT(*) AS DELAY_CNT\n",
    "        , AVG(Delay) AS AVG_DELAY\n",
    "    FROM (\n",
    "        SELECT A.ORIGIN\n",
    "            , B.Latitude AS ORIGIN_LAT\n",
    "            , B.Longitude AS ORIGIN_LON\n",
    "            , A.DEST\n",
    "            , C.Latitude AS DEST_LAT\n",
    "            , C.Longitude AS DEST_LON\n",
    "            , A.DEP_DELAY AS Delay\n",
    "        FROM flights AS A\n",
    "        LEFT OUTER JOIN airports AS B\n",
    "            ON A.ORIGIN = B.IATA\n",
    "        LEFT OUTER JOIN airports AS C\n",
    "            ON A.DEST = C.IATA\n",
    "        WHERE ORIGIN = 'PHL'\n",
    "            AND C.Country = 'United States'\n",
    "            AND DEP_DELAY > 60  -- DELAYED BY MORE THAN HOUR\n",
    "    ) AS A\n",
    "    GROUP BY ORIGIN\n",
    "        , ORIGIN_LAT\n",
    "        , ORIGIN_LON\n",
    "        , DEST\n",
    "        , DEST_LAT\n",
    "        , DEST_LON\n",
    "    HAVING COUNT(*) > 50\n",
    "    ORDER BY AVG_DELAY DESC\n",
    "    LIMIT 30\n",
    "''')\n",
    "destinations.head(5)"
   ]
  },
  {
   "cell_type": "markdown",
   "id": "7ab623b0-9dfb-47ac-bcdc-a477fe193a6f",
   "metadata": {},
   "source": [
    "### 6. Are there any spcific aircrafts (tail number) that are less reliable from PHL?"
   ]
  },
  {
   "cell_type": "code",
   "execution_count": 35,
   "id": "b13d11be-f476-455c-8d2f-b41be232c6e3",
   "metadata": {},
   "outputs": [
    {
     "data": {
      "application/vnd.jupyter.widget-view+json": {
       "model_id": "cb458bda13984c1e9ce5e0a3b6661730",
       "version_major": 2,
       "version_minor": 0
      },
      "text/plain": [
       "Steps Complete 0/5|          |  0% (00:00 elapsed)"
      ]
     },
     "metadata": {},
     "output_type": "display_data"
    },
    {
     "data": {
      "application/vnd.jupyter.widget-view+json": {
       "model_id": "940403e4d3d4463fabe213f63bb8d17d",
       "version_major": 2,
       "version_minor": 0
      },
      "text/plain": [
       "Total Batches Processed: 0"
      ]
     },
     "metadata": {},
     "output_type": "display_data"
    }
   ],
   "source": [
    "tail_numbers = bc.sql('''\n",
    "    SELECT TAIL_NUM\n",
    "        , B.Name AS AirlineName\n",
    "        , DEP_DELAY\n",
    "    FROM flights AS A\n",
    "    LEFT OUTER JOIN airlines AS B\n",
    "        ON A.OP_UNIQUE_CARRIER = B.IATA\n",
    "    WHERE TAIL_NUM <> ''\n",
    "        AND DEP_DELAY > 0\n",
    "        AND ORIGIN = 'PHL'\n",
    "''')"
   ]
  },
  {
   "cell_type": "code",
   "execution_count": 36,
   "id": "77bdd1e5-74af-4d9e-9870-76e8a475b5aa",
   "metadata": {},
   "outputs": [],
   "source": [
    "aircraft_aggs = (\n",
    "    tail_numbers\n",
    "    .groupby(by=['TAIL_NUM', 'AirlineName'])\n",
    "    .agg({'DEP_DELAY': ['count', q25,'median',q75, 'max']})\n",
    ")\n",
    "\n",
    "aircraft_aggs.columns = ['_'.join(col) for col in aircraft_aggs.columns]\n",
    "aircraft_aggs = (\n",
    "    aircraft_aggs\n",
    "    .query('DEP_DELAY_count > 10')\n",
    "    .sort_values(by='DEP_DELAY_median', ascending=False)\n",
    ")"
   ]
  },
  {
   "cell_type": "code",
   "execution_count": 37,
   "id": "216107e2-7ca1-498b-a9e6-a342b1596cae",
   "metadata": {},
   "outputs": [
    {
     "data": {
      "text/html": [
       "<div>\n",
       "<style scoped>\n",
       "    .dataframe tbody tr th:only-of-type {\n",
       "        vertical-align: middle;\n",
       "    }\n",
       "\n",
       "    .dataframe tbody tr th {\n",
       "        vertical-align: top;\n",
       "    }\n",
       "\n",
       "    .dataframe thead th {\n",
       "        text-align: right;\n",
       "    }\n",
       "</style>\n",
       "<table border=\"1\" class=\"dataframe\">\n",
       "  <thead>\n",
       "    <tr style=\"text-align: right;\">\n",
       "      <th></th>\n",
       "      <th>TAIL_NUM</th>\n",
       "      <th>AirlineName</th>\n",
       "      <th>DEP_DELAY_count</th>\n",
       "      <th>DEP_DELAY_q0.25</th>\n",
       "      <th>DEP_DELAY_median</th>\n",
       "      <th>DEP_DELAY_q0.75</th>\n",
       "      <th>DEP_DELAY_max</th>\n",
       "    </tr>\n",
       "  </thead>\n",
       "  <tbody>\n",
       "    <tr>\n",
       "      <th>0</th>\n",
       "      <td>N226JS</td>\n",
       "      <td>Comair</td>\n",
       "      <td>11</td>\n",
       "      <td>69.50</td>\n",
       "      <td>94.0</td>\n",
       "      <td>144.00</td>\n",
       "      <td>252.0</td>\n",
       "    </tr>\n",
       "    <tr>\n",
       "      <th>1</th>\n",
       "      <td>N122US</td>\n",
       "      <td>American Airlines</td>\n",
       "      <td>12</td>\n",
       "      <td>29.00</td>\n",
       "      <td>64.5</td>\n",
       "      <td>104.00</td>\n",
       "      <td>315.0</td>\n",
       "    </tr>\n",
       "    <tr>\n",
       "      <th>2</th>\n",
       "      <td>N669MB</td>\n",
       "      <td>Capital Cargo International Airlines</td>\n",
       "      <td>29</td>\n",
       "      <td>22.00</td>\n",
       "      <td>64.0</td>\n",
       "      <td>85.00</td>\n",
       "      <td>212.0</td>\n",
       "    </tr>\n",
       "    <tr>\n",
       "      <th>3</th>\n",
       "      <td>N669MB</td>\n",
       "      <td>Red Jet Andes</td>\n",
       "      <td>29</td>\n",
       "      <td>22.00</td>\n",
       "      <td>64.0</td>\n",
       "      <td>85.00</td>\n",
       "      <td>212.0</td>\n",
       "    </tr>\n",
       "    <tr>\n",
       "      <th>4</th>\n",
       "      <td>N669MB</td>\n",
       "      <td>West Air Sweden</td>\n",
       "      <td>29</td>\n",
       "      <td>22.00</td>\n",
       "      <td>64.0</td>\n",
       "      <td>85.00</td>\n",
       "      <td>212.0</td>\n",
       "    </tr>\n",
       "    <tr>\n",
       "      <th>5</th>\n",
       "      <td>N510AE</td>\n",
       "      <td>Comair</td>\n",
       "      <td>18</td>\n",
       "      <td>39.00</td>\n",
       "      <td>60.5</td>\n",
       "      <td>87.25</td>\n",
       "      <td>305.0</td>\n",
       "    </tr>\n",
       "    <tr>\n",
       "      <th>6</th>\n",
       "      <td>N137HQ</td>\n",
       "      <td>Midwest Airlines</td>\n",
       "      <td>12</td>\n",
       "      <td>19.00</td>\n",
       "      <td>55.5</td>\n",
       "      <td>85.75</td>\n",
       "      <td>165.0</td>\n",
       "    </tr>\n",
       "    <tr>\n",
       "      <th>7</th>\n",
       "      <td>N716PS</td>\n",
       "      <td>Comair</td>\n",
       "      <td>20</td>\n",
       "      <td>23.00</td>\n",
       "      <td>51.0</td>\n",
       "      <td>105.00</td>\n",
       "      <td>652.0</td>\n",
       "    </tr>\n",
       "    <tr>\n",
       "      <th>8</th>\n",
       "      <td>N965UW</td>\n",
       "      <td>American Airlines</td>\n",
       "      <td>18</td>\n",
       "      <td>8.25</td>\n",
       "      <td>49.5</td>\n",
       "      <td>97.00</td>\n",
       "      <td>149.0</td>\n",
       "    </tr>\n",
       "    <tr>\n",
       "      <th>9</th>\n",
       "      <td>N123HQ</td>\n",
       "      <td>Midwest Airlines</td>\n",
       "      <td>14</td>\n",
       "      <td>15.25</td>\n",
       "      <td>49.0</td>\n",
       "      <td>85.00</td>\n",
       "      <td>145.0</td>\n",
       "    </tr>\n",
       "  </tbody>\n",
       "</table>\n",
       "</div>"
      ],
      "text/plain": [
       "  TAIL_NUM                           AirlineName  DEP_DELAY_count  \\\n",
       "0   N226JS                                Comair               11   \n",
       "1   N122US                     American Airlines               12   \n",
       "2   N669MB  Capital Cargo International Airlines               29   \n",
       "3   N669MB                         Red Jet Andes               29   \n",
       "4   N669MB                       West Air Sweden               29   \n",
       "5   N510AE                                Comair               18   \n",
       "6   N137HQ                      Midwest Airlines               12   \n",
       "7   N716PS                                Comair               20   \n",
       "8   N965UW                     American Airlines               18   \n",
       "9   N123HQ                      Midwest Airlines               14   \n",
       "\n",
       "   DEP_DELAY_q0.25  DEP_DELAY_median  DEP_DELAY_q0.75  DEP_DELAY_max  \n",
       "0            69.50              94.0           144.00          252.0  \n",
       "1            29.00              64.5           104.00          315.0  \n",
       "2            22.00              64.0            85.00          212.0  \n",
       "3            22.00              64.0            85.00          212.0  \n",
       "4            22.00              64.0            85.00          212.0  \n",
       "5            39.00              60.5            87.25          305.0  \n",
       "6            19.00              55.5            85.75          165.0  \n",
       "7            23.00              51.0           105.00          652.0  \n",
       "8             8.25              49.5            97.00          149.0  \n",
       "9            15.25              49.0            85.00          145.0  "
      ]
     },
     "execution_count": 37,
     "metadata": {},
     "output_type": "execute_result"
    }
   ],
   "source": [
    "aircraft_aggs.reset_index().head(10)"
   ]
  },
  {
   "cell_type": "markdown",
   "id": "c1a5fe30-050b-4c95-8c6d-cd20467e150d",
   "metadata": {},
   "source": [
    "## COVID flights"
   ]
  },
  {
   "cell_type": "code",
   "execution_count": 38,
   "id": "d1bf4b44-1d8a-4000-b14a-977171d5f50c",
   "metadata": {},
   "outputs": [
    {
     "data": {
      "application/vnd.jupyter.widget-view+json": {
       "model_id": "460fb8bf9a5c4e588aa28d1db2b53826",
       "version_major": 2,
       "version_minor": 0
      },
      "text/plain": [
       "Steps Complete 0/3|          |  0% (00:00 elapsed)"
      ]
     },
     "metadata": {},
     "output_type": "display_data"
    },
    {
     "data": {
      "application/vnd.jupyter.widget-view+json": {
       "model_id": "46886d44e02440818d99aa732523ad50",
       "version_major": 2,
       "version_minor": 0
      },
      "text/plain": [
       "Total Batches Processed: 0"
      ]
     },
     "metadata": {},
     "output_type": "display_data"
    },
    {
     "data": {
      "text/html": [
       "<div>\n",
       "<style scoped>\n",
       "    .dataframe tbody tr th:only-of-type {\n",
       "        vertical-align: middle;\n",
       "    }\n",
       "\n",
       "    .dataframe tbody tr th {\n",
       "        vertical-align: top;\n",
       "    }\n",
       "\n",
       "    .dataframe thead th {\n",
       "        text-align: right;\n",
       "    }\n",
       "</style>\n",
       "<table border=\"1\" class=\"dataframe\">\n",
       "  <thead>\n",
       "    <tr style=\"text-align: right;\">\n",
       "      <th></th>\n",
       "      <th>max_date</th>\n",
       "      <th>min_date</th>\n",
       "    </tr>\n",
       "  </thead>\n",
       "  <tbody>\n",
       "    <tr>\n",
       "      <th>0</th>\n",
       "      <td>2020-10-31</td>\n",
       "      <td>2020-01-01</td>\n",
       "    </tr>\n",
       "  </tbody>\n",
       "</table>\n",
       "</div>"
      ],
      "text/plain": [
       "     max_date    min_date\n",
       "0  2020-10-31  2020-01-01"
      ]
     },
     "execution_count": 38,
     "metadata": {},
     "output_type": "execute_result"
    }
   ],
   "source": [
    "bc.sql('''\n",
    "    SELECT\n",
    "        MAX(FL_DATE) AS max_date\n",
    "        , MIN(FL_DATE) AS min_date\n",
    "    from flights\n",
    "''')"
   ]
  },
  {
   "cell_type": "code",
   "execution_count": 39,
   "id": "070b3972-e695-4584-9d37-9ddbd4dc6391",
   "metadata": {},
   "outputs": [
    {
     "data": {
      "application/vnd.jupyter.widget-view+json": {
       "model_id": "fabeb4573a3244f0bc18b95a845fb818",
       "version_major": 2,
       "version_minor": 0
      },
      "text/plain": [
       "Steps Complete 0/6|          |  0% (00:00 elapsed)"
      ]
     },
     "metadata": {},
     "output_type": "display_data"
    },
    {
     "data": {
      "application/vnd.jupyter.widget-view+json": {
       "model_id": "0ba7806c75d04ceba74bdd454aed6393",
       "version_major": 2,
       "version_minor": 0
      },
      "text/plain": [
       "Total Batches Processed: 0"
      ]
     },
     "metadata": {},
     "output_type": "display_data"
    },
    {
     "data": {
      "application/vnd.jupyter.widget-view+json": {
       "model_id": "847a6d6505174869adaf8d15e89e529e",
       "version_major": 2,
       "version_minor": 0
      },
      "text/plain": [
       "Steps Complete 0/6|          |  0% (00:00 elapsed)"
      ]
     },
     "metadata": {},
     "output_type": "display_data"
    },
    {
     "data": {
      "application/vnd.jupyter.widget-view+json": {
       "model_id": "2e1e8419ee72406c89d7373ec16a7abc",
       "version_major": 2,
       "version_minor": 0
      },
      "text/plain": [
       "Total Batches Processed: 0"
      ]
     },
     "metadata": {},
     "output_type": "display_data"
    },
    {
     "name": "stdout",
     "output_type": "stream",
     "text": [
      "Before pandemic share of delayed flights: 27.55%\n",
      "After pandemic share of delayed flights: 13.87%\n"
     ]
    }
   ],
   "source": [
    "delays_lt_mar20_share = bc.sql('''\n",
    "    SELECT \n",
    "        SUM(Delayed) / CAST(COUNT(*) AS FLOAT) AS Delayed_share\n",
    "    FROM (\n",
    "        SELECT CASE WHEN DEP_DELAY > 0 THEN 1 ELSE 0 END AS Delayed\n",
    "        FROM flights \n",
    "        WHERE FL_DATE < DATE'2020-03-01'\n",
    "    ) AS A\n",
    "'''\n",
    ")\n",
    "\n",
    "delays_gt_mar20_share = bc.sql('''\n",
    "    SELECT \n",
    "        SUM(Delayed) / CAST(COUNT(*) AS FLOAT) AS Delayed_share\n",
    "    FROM (\n",
    "        SELECT CASE WHEN DEP_DELAY > 0 THEN 1 ELSE 0 END AS Delayed\n",
    "        FROM flights \n",
    "        WHERE FL_DATE >= DATE'2020-03-01'\n",
    "    ) AS A\n",
    "'''\n",
    ")\n",
    "\n",
    "print(f'Before pandemic share of delayed flights: ' \n",
    "      f'{delays_lt_mar20_share[\"Delayed_share\"][0]:.2%}')\n",
    "print(f'After pandemic share of delayed flights: '\n",
    "      f'{delays_gt_mar20_share[\"Delayed_share\"][0]:.2%}')"
   ]
  },
  {
   "cell_type": "markdown",
   "id": "9682a27b-f039-4cf7-894c-89ea0d27d185",
   "metadata": {},
   "source": [
    "### Covid delay distributions"
   ]
  },
  {
   "cell_type": "code",
   "execution_count": 41,
   "id": "24fee9bf-e1de-4326-bb29-c0abdc9bee81",
   "metadata": {},
   "outputs": [
    {
     "data": {
      "application/vnd.jupyter.widget-view+json": {
       "model_id": "f9760db2f8d1499988035255c05a5d69",
       "version_major": 2,
       "version_minor": 0
      },
      "text/plain": [
       "Steps Complete 0/2|          |  0% (00:00 elapsed)"
      ]
     },
     "metadata": {},
     "output_type": "display_data"
    },
    {
     "data": {
      "application/vnd.jupyter.widget-view+json": {
       "model_id": "186e6d5a62ff48ee9877f0e26fc899ec",
       "version_major": 2,
       "version_minor": 0
      },
      "text/plain": [
       "Total Batches Processed: 0"
      ]
     },
     "metadata": {},
     "output_type": "display_data"
    },
    {
     "data": {
      "application/vnd.jupyter.widget-view+json": {
       "model_id": "abde8b8eb20b4ba387c14a609150302c",
       "version_major": 2,
       "version_minor": 0
      },
      "text/plain": [
       "Steps Complete 0/2|          |  0% (00:00 elapsed)"
      ]
     },
     "metadata": {},
     "output_type": "display_data"
    },
    {
     "data": {
      "application/vnd.jupyter.widget-view+json": {
       "model_id": "bec8c3e5ab784e6a9c432bab8ccdd2ff",
       "version_major": 2,
       "version_minor": 0
      },
      "text/plain": [
       "Total Batches Processed: 0"
      ]
     },
     "metadata": {},
     "output_type": "display_data"
    }
   ],
   "source": [
    "n_bins = 20\n",
    "del_bins = np.array([i * 15 for i in range(0, n_bins)], dtype='float64')\n",
    "\n",
    "# flights delayred before COVID-19 hit the US in Mar-20\n",
    "delays_lt_mar20 = bc.sql('''\n",
    "    SELECT\n",
    "        DEP_DELAY\n",
    "    FROM flights\n",
    "    WHERE FL_DATE < DATE'2020-03-01'\n",
    "    AND DEP_DELAY > 0\n",
    "''')\n",
    "\n",
    "delays_gt_mar20 = bc.sql('''\n",
    "    SELECT\n",
    "        DEP_DELAY\n",
    "    FROM flights\n",
    "    WHERE FL_DATE >= DATE'2020-03-01'\n",
    "    AND DEP_DELAY > 0\n",
    "''')\n"
   ]
  },
  {
   "cell_type": "code",
   "execution_count": 48,
   "id": "f913abc2-2fab-4c9d-a030-abe0f5b98901",
   "metadata": {},
   "outputs": [],
   "source": [
    "delays_binned_lt_mar20 = delays_lt_mar20['DEP_DELAY'].digitize(del_bins)\n",
    "delays_binned_lt_mar20.name = 'bins_lt_mar20'\n",
    "delays_hist_lt_mar20 = (\n",
    "    delays_binned_lt_mar20.groupby('bins_lt_mar20').count() / len(delays_binned_lt_mar20)\n",
    ")"
   ]
  },
  {
   "cell_type": "code",
   "execution_count": 49,
   "id": "7d36daaa-184c-4929-8474-4fa818d3767f",
   "metadata": {},
   "outputs": [],
   "source": [
    "delays_binned_gt_mar20 = delays_gt_mar20['DEP_DELAY'].digitize(del_bins)\n",
    "delays_binned_gt_mar20.name = 'bins_gt_mar20'\n",
    "delays_hist_gt_mar20 = (\n",
    "    delays_binned_gt_mar20.groupby('bins_gt_mar20').count() / len(delays_binned_gt_mar20)\n",
    ")"
   ]
  },
  {
   "cell_type": "code",
   "execution_count": 50,
   "id": "bce56fe8-0f19-45ba-b1f3-fce704f6a1d0",
   "metadata": {},
   "outputs": [],
   "source": [
    "### Convert to Pandas for plotting\n",
    "\n",
    "delays_hist_lt_mar20 = (\n",
    "    delays_hist_lt_mar20\n",
    "    .set_index(del_bins[delays_hist_lt_mar20.index.to_array()-1])\n",
    "    .sort_index()\n",
    "    .to_frame('Prior March 2020')\n",
    ")\n",
    "\n",
    "delays_hist_gt_mar20 = (\n",
    "    delays_hist_gt_mar20\n",
    "    .set_index(del_bins[delays_hist_gt_mar20.index.to_array()-1])\n",
    "    .sort_index()\n",
    "    .to_frame('After March 2020')\n",
    ")"
   ]
  },
  {
   "cell_type": "code",
   "execution_count": 59,
   "id": "3e2d9dd4-371d-4027-bf92-23486b298fcb",
   "metadata": {},
   "outputs": [],
   "source": [
    "histograms = delays_hist_lt_mar20.join(delays_hist_gt_mar20).sort_index()"
   ]
  },
  {
   "cell_type": "code",
   "execution_count": 60,
   "id": "e5c81aa0-ab0a-473d-8ba7-458e2acc9f6c",
   "metadata": {
    "tags": []
   },
   "outputs": [
    {
     "data": {
      "text/html": [
       "<div>\n",
       "<style scoped>\n",
       "    .dataframe tbody tr th:only-of-type {\n",
       "        vertical-align: middle;\n",
       "    }\n",
       "\n",
       "    .dataframe tbody tr th {\n",
       "        vertical-align: top;\n",
       "    }\n",
       "\n",
       "    .dataframe thead th {\n",
       "        text-align: right;\n",
       "    }\n",
       "</style>\n",
       "<table border=\"1\" class=\"dataframe\">\n",
       "  <thead>\n",
       "    <tr style=\"text-align: right;\">\n",
       "      <th></th>\n",
       "      <th>Prior March 2020</th>\n",
       "      <th>After March 2020</th>\n",
       "    </tr>\n",
       "  </thead>\n",
       "  <tbody>\n",
       "    <tr>\n",
       "      <th>0.0</th>\n",
       "      <td>0.487852</td>\n",
       "      <td>0.537971</td>\n",
       "    </tr>\n",
       "    <tr>\n",
       "      <th>15.0</th>\n",
       "      <td>0.182008</td>\n",
       "      <td>0.175350</td>\n",
       "    </tr>\n",
       "    <tr>\n",
       "      <th>30.0</th>\n",
       "      <td>0.093483</td>\n",
       "      <td>0.085918</td>\n",
       "    </tr>\n",
       "    <tr>\n",
       "      <th>45.0</th>\n",
       "      <td>0.059057</td>\n",
       "      <td>0.052244</td>\n",
       "    </tr>\n",
       "    <tr>\n",
       "      <th>60.0</th>\n",
       "      <td>0.039485</td>\n",
       "      <td>0.035555</td>\n",
       "    </tr>\n",
       "    <tr>\n",
       "      <th>75.0</th>\n",
       "      <td>0.028549</td>\n",
       "      <td>0.025921</td>\n",
       "    </tr>\n",
       "    <tr>\n",
       "      <th>90.0</th>\n",
       "      <td>0.021219</td>\n",
       "      <td>0.018590</td>\n",
       "    </tr>\n",
       "    <tr>\n",
       "      <th>105.0</th>\n",
       "      <td>0.016745</td>\n",
       "      <td>0.013840</td>\n",
       "    </tr>\n",
       "    <tr>\n",
       "      <th>120.0</th>\n",
       "      <td>0.012930</td>\n",
       "      <td>0.010299</td>\n",
       "    </tr>\n",
       "    <tr>\n",
       "      <th>135.0</th>\n",
       "      <td>0.010215</td>\n",
       "      <td>0.007902</td>\n",
       "    </tr>\n",
       "    <tr>\n",
       "      <th>150.0</th>\n",
       "      <td>0.008125</td>\n",
       "      <td>0.006028</td>\n",
       "    </tr>\n",
       "    <tr>\n",
       "      <th>165.0</th>\n",
       "      <td>0.006671</td>\n",
       "      <td>0.004826</td>\n",
       "    </tr>\n",
       "    <tr>\n",
       "      <th>180.0</th>\n",
       "      <td>0.005438</td>\n",
       "      <td>0.003729</td>\n",
       "    </tr>\n",
       "    <tr>\n",
       "      <th>195.0</th>\n",
       "      <td>0.004202</td>\n",
       "      <td>0.003040</td>\n",
       "    </tr>\n",
       "    <tr>\n",
       "      <th>210.0</th>\n",
       "      <td>0.003309</td>\n",
       "      <td>0.002390</td>\n",
       "    </tr>\n",
       "    <tr>\n",
       "      <th>225.0</th>\n",
       "      <td>0.002822</td>\n",
       "      <td>0.002136</td>\n",
       "    </tr>\n",
       "    <tr>\n",
       "      <th>240.0</th>\n",
       "      <td>0.002197</td>\n",
       "      <td>0.001625</td>\n",
       "    </tr>\n",
       "    <tr>\n",
       "      <th>255.0</th>\n",
       "      <td>0.001816</td>\n",
       "      <td>0.001420</td>\n",
       "    </tr>\n",
       "    <tr>\n",
       "      <th>270.0</th>\n",
       "      <td>0.001595</td>\n",
       "      <td>0.001173</td>\n",
       "    </tr>\n",
       "    <tr>\n",
       "      <th>285.0</th>\n",
       "      <td>0.012282</td>\n",
       "      <td>0.010043</td>\n",
       "    </tr>\n",
       "  </tbody>\n",
       "</table>\n",
       "</div>"
      ],
      "text/plain": [
       "       Prior March 2020  After March 2020\n",
       "0.0            0.487852          0.537971\n",
       "15.0           0.182008          0.175350\n",
       "30.0           0.093483          0.085918\n",
       "45.0           0.059057          0.052244\n",
       "60.0           0.039485          0.035555\n",
       "75.0           0.028549          0.025921\n",
       "90.0           0.021219          0.018590\n",
       "105.0          0.016745          0.013840\n",
       "120.0          0.012930          0.010299\n",
       "135.0          0.010215          0.007902\n",
       "150.0          0.008125          0.006028\n",
       "165.0          0.006671          0.004826\n",
       "180.0          0.005438          0.003729\n",
       "195.0          0.004202          0.003040\n",
       "210.0          0.003309          0.002390\n",
       "225.0          0.002822          0.002136\n",
       "240.0          0.002197          0.001625\n",
       "255.0          0.001816          0.001420\n",
       "270.0          0.001595          0.001173\n",
       "285.0          0.012282          0.010043"
      ]
     },
     "execution_count": 60,
     "metadata": {},
     "output_type": "execute_result"
    }
   ],
   "source": [
    "histograms"
   ]
  },
  {
   "cell_type": "code",
   "execution_count": 62,
   "id": "01d1f1e4-4628-48fe-99b4-7cbd090d2c49",
   "metadata": {},
   "outputs": [
    {
     "data": {
      "text/html": [
       "<div>\n",
       "<style scoped>\n",
       "    .dataframe tbody tr th:only-of-type {\n",
       "        vertical-align: middle;\n",
       "    }\n",
       "\n",
       "    .dataframe tbody tr th {\n",
       "        vertical-align: top;\n",
       "    }\n",
       "\n",
       "    .dataframe thead th {\n",
       "        text-align: right;\n",
       "    }\n",
       "</style>\n",
       "<table border=\"1\" class=\"dataframe\">\n",
       "  <thead>\n",
       "    <tr style=\"text-align: right;\">\n",
       "      <th></th>\n",
       "      <th>count</th>\n",
       "      <th>mean</th>\n",
       "      <th>std</th>\n",
       "      <th>min</th>\n",
       "      <th>25%</th>\n",
       "      <th>50%</th>\n",
       "      <th>75%</th>\n",
       "      <th>max</th>\n",
       "    </tr>\n",
       "  </thead>\n",
       "  <tbody>\n",
       "    <tr>\n",
       "      <th>Prior March 2020</th>\n",
       "      <td>20.0</td>\n",
       "      <td>0.05</td>\n",
       "      <td>0.111702</td>\n",
       "      <td>0.001595</td>\n",
       "      <td>0.003979</td>\n",
       "      <td>0.011248</td>\n",
       "      <td>0.031283</td>\n",
       "      <td>0.487852</td>\n",
       "    </tr>\n",
       "    <tr>\n",
       "      <th>After March 2020</th>\n",
       "      <td>20.0</td>\n",
       "      <td>0.05</td>\n",
       "      <td>0.122068</td>\n",
       "      <td>0.001173</td>\n",
       "      <td>0.002877</td>\n",
       "      <td>0.008973</td>\n",
       "      <td>0.028329</td>\n",
       "      <td>0.537971</td>\n",
       "    </tr>\n",
       "  </tbody>\n",
       "</table>\n",
       "</div>"
      ],
      "text/plain": [
       "                  count  mean       std       min       25%       50%  \\\n",
       "Prior March 2020   20.0  0.05  0.111702  0.001595  0.003979  0.011248   \n",
       "After March 2020   20.0  0.05  0.122068  0.001173  0.002877  0.008973   \n",
       "\n",
       "                       75%       max  \n",
       "Prior March 2020  0.031283  0.487852  \n",
       "After March 2020  0.028329  0.537971  "
      ]
     },
     "execution_count": 62,
     "metadata": {},
     "output_type": "execute_result"
    }
   ],
   "source": [
    "histograms.describe().T"
   ]
  },
  {
   "cell_type": "code",
   "execution_count": 63,
   "id": "3a59c776-dd0f-411b-a115-00f8876d9862",
   "metadata": {},
   "outputs": [
    {
     "data": {
      "text/plain": [
       "Ttest_indResult(statistic=31.584903072628936, pvalue=8.249340433962693e-219)"
      ]
     },
     "execution_count": 63,
     "metadata": {},
     "output_type": "execute_result"
    }
   ],
   "source": [
    "from scipy import stats\n",
    "\n",
    "stats.ttest_ind(\n",
    "    delays_lt_mar20['DEP_DELAY'].to_pandas()\n",
    "    , delays_gt_mar20['DEP_DELAY'].to_pandas()\n",
    "    , equal_var = True\n",
    ")"
   ]
  },
  {
   "cell_type": "markdown",
   "id": "99ee9c81-7ccb-4457-a66b-4328dc191f38",
   "metadata": {},
   "source": [
    "### Delays over time"
   ]
  },
  {
   "cell_type": "code",
   "execution_count": 64,
   "id": "09c6d0d0-ffc0-4d23-a349-83012844ebb7",
   "metadata": {},
   "outputs": [],
   "source": [
    "delay_aggs = (\n",
    "    flights[['YEAR','MONTH', 'DEP_DELAY']]\n",
    "    .groupby(by=['YEAR','MONTH'])\n",
    "    .agg({'DEP_DELAY': ['mean']})\n",
    ")\n",
    "\n",
    "delay_aggs.columns = ['_'.join(col) for col in delay_aggs.columns]"
   ]
  },
  {
   "cell_type": "code",
   "execution_count": 69,
   "id": "98ab01ba-e3f2-4728-918d-648fe200e5b4",
   "metadata": {},
   "outputs": [
    {
     "data": {
      "text/plain": [
       "<AxesSubplot:xlabel='YEAR,MONTH'>"
      ]
     },
     "execution_count": 69,
     "metadata": {},
     "output_type": "execute_result"
    },
    {
     "data": {
      "image/png": "[encoded data removed]",
      "text/plain": [
       "<Figure size 720x720 with 1 Axes>"
      ]
     },
     "metadata": {
      "needs_background": "light"
     },
     "output_type": "display_data"
    }
   ],
   "source": [
    "delay_aggs.to_pandas().sort_index().plot(figsize=(10,10))"
   ]
  },
  {
   "cell_type": "code",
   "execution_count": null,
   "id": "b4794563-5e8a-4900-8640-4acae3be253b",
   "metadata": {},
   "outputs": [],
   "source": []
  }
 ],
 "metadata": {
  "kernelspec": {
   "display_name": "Python 3",
   "language": "python",
   "name": "python3"
  },
  "language_info": {
   "codemirror_mode": {
    "name": "ipython",
    "version": 3
   },
   "file_extension": ".py",
   "mimetype": "text/x-python",
   "name": "python",
   "nbconvert_exporter": "python",
   "pygments_lexer": "ipython3",
   "version": "3.7.10"
  }
 },
 "nbformat": 4,
 "nbformat_minor": 5
}
