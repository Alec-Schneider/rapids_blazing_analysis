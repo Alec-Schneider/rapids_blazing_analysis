{
 "cells": [
  {
   "cell_type": "code",
   "execution_count": 44,
   "id": "d9843154-38c0-4888-a704-fbec9cd7ddc6",
   "metadata": {
    "tags": []
   },
   "outputs": [],
   "source": [
    "import s3fs\n",
    "import numpy as np\n",
    "from collections import OrderedDict\n",
    "import matplotlib.pyplot as plt\n",
    "import pandas as pd\n",
    "import pickle\n",
    "import datetime\n",
    "import warnings\n",
    "\n",
    "# Rapids and BlazingSQL modules\n",
    "import cudf\n",
    "import blazingsql as bsql\n",
    "\n",
    "import cuml\n",
    "from cuml.ensemble import RandomForestRegressor as curfr\n",
    "from cuml.experimental.preprocessing import StandardScaler as cuss, ColumnTransformer as cuColTrnfr\n",
    "from cuml.preprocessing import LabelBinarizer, LabelEncoder\n",
    "from cuml.model_selection import train_test_split as cu_train_test_split\n",
    "from cuml.metrics.regression import r2_score\n",
    "from cuml.metrics import mean_squared_error\n",
    "\n",
    "import cupy as cp\n",
    "import cupyx\n",
    "\n",
    "# Sklearn modules\n",
    "from sklearn.ensemble import RandomForestClassifier as skrfc\n",
    "from sklearn.datasets import make_classification\n",
    "from sklearn.model_selection import train_test_split\n",
    "import sklearn\n",
    "from sklearn.pipeline import Pipeline\n",
    "from sklearn.base import TransformerMixin, BaseEstimator\n",
    "from sklearn.compose import ColumnTransformer\n",
    "from sklearn.preprocessing import StandardScaler, OneHotEncoder\n",
    "\n",
    "# Xgboost\n",
    "import xgboost as xgb\n",
    "\n",
    "# Custom modules\n",
    "from ml_utils import preprocessing_utils as prep"
   ]
  },
  {
   "cell_type": "markdown",
   "id": "4700e302-fb60-48db-bcc9-eed00f8c7436",
   "metadata": {},
   "source": [
    "### Create the BlazingSQL BlazingContext"
   ]
  },
  {
   "cell_type": "code",
   "execution_count": 21,
   "id": "2b0e6e3b-7f55-435c-b42c-3ba39347ab5a",
   "metadata": {},
   "outputs": [
    {
     "name": "stdout",
     "output_type": "stream",
     "text": [
      "BlazingContext ready\n"
     ]
    }
   ],
   "source": [
    "bc = bsql.BlazingContext(enable_progress_bar=True)"
   ]
  },
  {
   "cell_type": "markdown",
   "id": "b8f4a83b-6610-4b25-a481-5b73144437d1",
   "metadata": {},
   "source": [
    "## Fetch our NYC Taxi data from BlazingSQL S3 bucket\n",
    "Only one csv will be be brought in due to memory limitations on device"
   ]
  },
  {
   "cell_type": "code",
   "execution_count": 3,
   "id": "27c9fcf8-f881-4881-98fd-e5c2923d947d",
   "metadata": {},
   "outputs": [
    {
     "data": {
      "text/plain": [
       "['bsql/data/nytaxi/yellow/2016/yellow_tripdata_2016-01.csv',\n",
       " 'bsql/data/nytaxi/yellow/2016/yellow_tripdata_2016-02.csv',\n",
       " 'bsql/data/nytaxi/yellow/2016/yellow_tripdata_2016-03.csv',\n",
       " 'bsql/data/nytaxi/yellow/2016/yellow_tripdata_2016-04.csv',\n",
       " 'bsql/data/nytaxi/yellow/2016/yellow_tripdata_2016-05.csv',\n",
       " 'bsql/data/nytaxi/yellow/2016/yellow_tripdata_2016-06.csv',\n",
       " 'bsql/data/nytaxi/yellow/2016/yellow_tripdata_2016-07.csv',\n",
       " 'bsql/data/nytaxi/yellow/2016/yellow_tripdata_2016-08.csv',\n",
       " 'bsql/data/nytaxi/yellow/2016/yellow_tripdata_2016-09.csv',\n",
       " 'bsql/data/nytaxi/yellow/2016/yellow_tripdata_2016-10.csv',\n",
       " 'bsql/data/nytaxi/yellow/2016/yellow_tripdata_2016-11.csv',\n",
       " 'bsql/data/nytaxi/yellow/2016/yellow_tripdata_2016-12.csv']"
      ]
     },
     "execution_count": 3,
     "metadata": {},
     "output_type": "execute_result"
    }
   ],
   "source": [
    "# Intiate S3 instance and take a look at the files in the nytaxi bucket\n",
    "s3 = s3fs.S3FileSystem(anon=True)\n",
    "s3.glob('s3://bsql/data/nytaxi/yellow/2016/')"
   ]
  },
  {
   "cell_type": "code",
   "execution_count": 7,
   "id": "17b95a16-993d-4676-8370-3803eb8a3901",
   "metadata": {},
   "outputs": [],
   "source": [
    "# Fetch the Jan-2016 data from AWS S3\n",
    "taxi = cudf.read_csv('s3://bsql/data/nytaxi/yellow/2016/yellow_tripdata_2016-01.csv', storage_options={'anon': True})"
   ]
  },
  {
   "cell_type": "code",
   "execution_count": 8,
   "id": "7a0f668a-eade-4543-b724-dceba2383884",
   "metadata": {},
   "outputs": [
    {
     "name": "stdout",
     "output_type": "stream",
     "text": [
      "Data size: 10,906,858 x 19\n"
     ]
    }
   ],
   "source": [
    "print(f'Data size: {taxi.shape[0]:,} x {taxi.shape[1]}')"
   ]
  },
  {
   "cell_type": "code",
   "execution_count": 7,
   "id": "f8e0e050-54a6-4c85-a49e-6dd77a007a62",
   "metadata": {},
   "outputs": [
    {
     "data": {
      "text/html": [
       "<div>\n",
       "<style scoped>\n",
       "    .dataframe tbody tr th:only-of-type {\n",
       "        vertical-align: middle;\n",
       "    }\n",
       "\n",
       "    .dataframe tbody tr th {\n",
       "        vertical-align: top;\n",
       "    }\n",
       "\n",
       "    .dataframe thead th {\n",
       "        text-align: right;\n",
       "    }\n",
       "</style>\n",
       "<table border=\"1\" class=\"dataframe\">\n",
       "  <thead>\n",
       "    <tr style=\"text-align: right;\">\n",
       "      <th></th>\n",
       "      <th>VendorID</th>\n",
       "      <th>tpep_pickup_datetime</th>\n",
       "      <th>tpep_dropoff_datetime</th>\n",
       "      <th>passenger_count</th>\n",
       "      <th>trip_distance</th>\n",
       "      <th>pickup_longitude</th>\n",
       "      <th>pickup_latitude</th>\n",
       "      <th>RatecodeID</th>\n",
       "      <th>store_and_fwd_flag</th>\n",
       "      <th>dropoff_longitude</th>\n",
       "      <th>dropoff_latitude</th>\n",
       "      <th>payment_type</th>\n",
       "      <th>fare_amount</th>\n",
       "      <th>extra</th>\n",
       "      <th>mta_tax</th>\n",
       "      <th>tip_amount</th>\n",
       "      <th>tolls_amount</th>\n",
       "      <th>improvement_surcharge</th>\n",
       "      <th>total_amount</th>\n",
       "    </tr>\n",
       "  </thead>\n",
       "  <tbody>\n",
       "    <tr>\n",
       "      <th>0</th>\n",
       "      <td>2</td>\n",
       "      <td>2016-01-01 00:00:00</td>\n",
       "      <td>2016-01-01 00:00:00</td>\n",
       "      <td>2</td>\n",
       "      <td>1.10</td>\n",
       "      <td>-73.990372</td>\n",
       "      <td>40.734695</td>\n",
       "      <td>1</td>\n",
       "      <td>N</td>\n",
       "      <td>-73.981842</td>\n",
       "      <td>40.732407</td>\n",
       "      <td>2</td>\n",
       "      <td>7.5</td>\n",
       "      <td>0.5</td>\n",
       "      <td>0.5</td>\n",
       "      <td>0.0</td>\n",
       "      <td>0.0</td>\n",
       "      <td>0.3</td>\n",
       "      <td>8.8</td>\n",
       "    </tr>\n",
       "    <tr>\n",
       "      <th>1</th>\n",
       "      <td>2</td>\n",
       "      <td>2016-01-01 00:00:00</td>\n",
       "      <td>2016-01-01 00:00:00</td>\n",
       "      <td>5</td>\n",
       "      <td>4.90</td>\n",
       "      <td>-73.980782</td>\n",
       "      <td>40.729912</td>\n",
       "      <td>1</td>\n",
       "      <td>N</td>\n",
       "      <td>-73.944473</td>\n",
       "      <td>40.716679</td>\n",
       "      <td>1</td>\n",
       "      <td>18.0</td>\n",
       "      <td>0.5</td>\n",
       "      <td>0.5</td>\n",
       "      <td>0.0</td>\n",
       "      <td>0.0</td>\n",
       "      <td>0.3</td>\n",
       "      <td>19.3</td>\n",
       "    </tr>\n",
       "    <tr>\n",
       "      <th>2</th>\n",
       "      <td>2</td>\n",
       "      <td>2016-01-01 00:00:00</td>\n",
       "      <td>2016-01-01 00:00:00</td>\n",
       "      <td>1</td>\n",
       "      <td>10.54</td>\n",
       "      <td>-73.984550</td>\n",
       "      <td>40.679565</td>\n",
       "      <td>1</td>\n",
       "      <td>N</td>\n",
       "      <td>-73.950272</td>\n",
       "      <td>40.788925</td>\n",
       "      <td>1</td>\n",
       "      <td>33.0</td>\n",
       "      <td>0.5</td>\n",
       "      <td>0.5</td>\n",
       "      <td>0.0</td>\n",
       "      <td>0.0</td>\n",
       "      <td>0.3</td>\n",
       "      <td>34.3</td>\n",
       "    </tr>\n",
       "    <tr>\n",
       "      <th>3</th>\n",
       "      <td>2</td>\n",
       "      <td>2016-01-01 00:00:00</td>\n",
       "      <td>2016-01-01 00:00:00</td>\n",
       "      <td>1</td>\n",
       "      <td>4.75</td>\n",
       "      <td>-73.993469</td>\n",
       "      <td>40.718990</td>\n",
       "      <td>1</td>\n",
       "      <td>N</td>\n",
       "      <td>-73.962242</td>\n",
       "      <td>40.657333</td>\n",
       "      <td>2</td>\n",
       "      <td>16.5</td>\n",
       "      <td>0.0</td>\n",
       "      <td>0.5</td>\n",
       "      <td>0.0</td>\n",
       "      <td>0.0</td>\n",
       "      <td>0.3</td>\n",
       "      <td>17.3</td>\n",
       "    </tr>\n",
       "    <tr>\n",
       "      <th>4</th>\n",
       "      <td>2</td>\n",
       "      <td>2016-01-01 00:00:00</td>\n",
       "      <td>2016-01-01 00:00:00</td>\n",
       "      <td>3</td>\n",
       "      <td>1.76</td>\n",
       "      <td>-73.960625</td>\n",
       "      <td>40.781330</td>\n",
       "      <td>1</td>\n",
       "      <td>N</td>\n",
       "      <td>-73.977264</td>\n",
       "      <td>40.758514</td>\n",
       "      <td>2</td>\n",
       "      <td>8.0</td>\n",
       "      <td>0.0</td>\n",
       "      <td>0.5</td>\n",
       "      <td>0.0</td>\n",
       "      <td>0.0</td>\n",
       "      <td>0.3</td>\n",
       "      <td>8.8</td>\n",
       "    </tr>\n",
       "  </tbody>\n",
       "</table>\n",
       "</div>"
      ],
      "text/plain": [
       "   VendorID tpep_pickup_datetime tpep_dropoff_datetime  passenger_count  \\\n",
       "0         2  2016-01-01 00:00:00   2016-01-01 00:00:00                2   \n",
       "1         2  2016-01-01 00:00:00   2016-01-01 00:00:00                5   \n",
       "2         2  2016-01-01 00:00:00   2016-01-01 00:00:00                1   \n",
       "3         2  2016-01-01 00:00:00   2016-01-01 00:00:00                1   \n",
       "4         2  2016-01-01 00:00:00   2016-01-01 00:00:00                3   \n",
       "\n",
       "   trip_distance  pickup_longitude  pickup_latitude  RatecodeID  \\\n",
       "0           1.10        -73.990372        40.734695           1   \n",
       "1           4.90        -73.980782        40.729912           1   \n",
       "2          10.54        -73.984550        40.679565           1   \n",
       "3           4.75        -73.993469        40.718990           1   \n",
       "4           1.76        -73.960625        40.781330           1   \n",
       "\n",
       "  store_and_fwd_flag  dropoff_longitude  dropoff_latitude  payment_type  \\\n",
       "0                  N         -73.981842         40.732407             2   \n",
       "1                  N         -73.944473         40.716679             1   \n",
       "2                  N         -73.950272         40.788925             1   \n",
       "3                  N         -73.962242         40.657333             2   \n",
       "4                  N         -73.977264         40.758514             2   \n",
       "\n",
       "   fare_amount  extra  mta_tax  tip_amount  tolls_amount  \\\n",
       "0          7.5    0.5      0.5         0.0           0.0   \n",
       "1         18.0    0.5      0.5         0.0           0.0   \n",
       "2         33.0    0.5      0.5         0.0           0.0   \n",
       "3         16.5    0.0      0.5         0.0           0.0   \n",
       "4          8.0    0.0      0.5         0.0           0.0   \n",
       "\n",
       "   improvement_surcharge  total_amount  \n",
       "0                    0.3           8.8  \n",
       "1                    0.3          19.3  \n",
       "2                    0.3          34.3  \n",
       "3                    0.3          17.3  \n",
       "4                    0.3           8.8  "
      ]
     },
     "execution_count": 7,
     "metadata": {},
     "output_type": "execute_result"
    }
   ],
   "source": [
    "taxi.head()"
   ]
  },
  {
   "cell_type": "code",
   "execution_count": 22,
   "id": "4ae7b92e-2b8a-4fb9-9448-9177c05ed605",
   "metadata": {},
   "outputs": [
    {
     "data": {
      "text/plain": [
       "VendorID                   int64\n",
       "tpep_pickup_datetime      object\n",
       "tpep_dropoff_datetime     object\n",
       "passenger_count            int64\n",
       "trip_distance            float64\n",
       "pickup_longitude         float64\n",
       "pickup_latitude          float64\n",
       "RatecodeID                 int64\n",
       "store_and_fwd_flag        object\n",
       "dropoff_longitude        float64\n",
       "dropoff_latitude         float64\n",
       "payment_type               int64\n",
       "fare_amount              float64\n",
       "extra                    float64\n",
       "mta_tax                  float64\n",
       "tip_amount               float64\n",
       "tolls_amount             float64\n",
       "improvement_surcharge    float64\n",
       "total_amount             float64\n",
       "dtype: object"
      ]
     },
     "execution_count": 22,
     "metadata": {},
     "output_type": "execute_result"
    }
   ],
   "source": [
    "taxi.dtypes"
   ]
  },
  {
   "cell_type": "markdown",
   "id": "e010a15a-04c4-4414-ab60-996a4198ae53",
   "metadata": {},
   "source": [
    "## EDA w/ BlazingSQL"
   ]
  },
  {
   "cell_type": "code",
   "execution_count": 26,
   "id": "49adfea7-3847-461a-8102-8a843e937d76",
   "metadata": {},
   "outputs": [],
   "source": [
    "bc.create_table('taxi', taxi)"
   ]
  },
  {
   "cell_type": "markdown",
   "id": "68a5914d-6649-45f5-b507-91dd82b52f24",
   "metadata": {},
   "source": [
    "#### Average tip by passenger_count"
   ]
  },
  {
   "cell_type": "code",
   "execution_count": 27,
   "id": "698ecf53-d68f-4db0-b5d5-2f4a0713618b",
   "metadata": {},
   "outputs": [
    {
     "data": {
      "application/vnd.jupyter.widget-view+json": {
       "model_id": "bbf6376156b84f3b9071b8bb82ee6833",
       "version_major": 2,
       "version_minor": 0
      },
      "text/plain": [
       "Steps Complete 0/9|          |  0% (00:00 elapsed)"
      ]
     },
     "metadata": {},
     "output_type": "display_data"
    },
    {
     "data": {
      "application/vnd.jupyter.widget-view+json": {
       "model_id": "8cf00d73c1ec4b198d1ebb72f92b2db4",
       "version_major": 2,
       "version_minor": 0
      },
      "text/plain": [
       "Total Batches Processed: 0"
      ]
     },
     "metadata": {},
     "output_type": "display_data"
    }
   ],
   "source": [
    "avg_tip_by_pass = bc.sql('''\n",
    "    SELECT\n",
    "        passenger_count\n",
    "        , AVG(tip_amount) AS avg_tip\n",
    "    FROM taxi\n",
    "    GROUP BY\n",
    "        passenger_count\n",
    "    ORDER BY passenger_count\n",
    "''')"
   ]
  },
  {
   "cell_type": "code",
   "execution_count": 28,
   "id": "a81dcc9b-b7c9-4daf-a492-b0a66259720f",
   "metadata": {},
   "outputs": [
    {
     "data": {
      "text/plain": [
       "<AxesSubplot:xlabel='passenger_count'>"
      ]
     },
     "execution_count": 28,
     "metadata": {},
     "output_type": "execute_result"
    },
    {
     "data": {
      "image/png": "[encoded data removed]",
      "text/plain": [
       "<Figure size 432x288 with 1 Axes>"
      ]
     },
     "metadata": {
      "needs_background": "light"
     },
     "output_type": "display_data"
    }
   ],
   "source": [
    "avg_tip_by_pass.to_pandas().plot(x='passenger_count', y='avg_tip', kind='bar')"
   ]
  },
  {
   "cell_type": "markdown",
   "id": "4d8d7fd2-eb43-4ed7-9e78-29314e726a2f",
   "metadata": {},
   "source": [
    "#### Average total_amount by passenger_count"
   ]
  },
  {
   "cell_type": "code",
   "execution_count": 29,
   "id": "c1de6cfa-d7fe-441d-9685-12018e3ee8e0",
   "metadata": {},
   "outputs": [
    {
     "data": {
      "application/vnd.jupyter.widget-view+json": {
       "model_id": "21a58defe40d42a49e4b1836b2e98779",
       "version_major": 2,
       "version_minor": 0
      },
      "text/plain": [
       "Steps Complete 0/9|          |  0% (00:00 elapsed)"
      ]
     },
     "metadata": {},
     "output_type": "display_data"
    },
    {
     "data": {
      "application/vnd.jupyter.widget-view+json": {
       "model_id": "ce67e12a19f147818dd963f63dc7c435",
       "version_major": 2,
       "version_minor": 0
      },
      "text/plain": [
       "Total Batches Processed: 0"
      ]
     },
     "metadata": {},
     "output_type": "display_data"
    },
    {
     "data": {
      "text/plain": [
       "<AxesSubplot:xlabel='passenger_count'>"
      ]
     },
     "execution_count": 29,
     "metadata": {},
     "output_type": "execute_result"
    },
    {
     "data": {
      "image/png": "[encoded data removed]",
      "text/plain": [
       "<Figure size 432x288 with 1 Axes>"
      ]
     },
     "metadata": {
      "needs_background": "light"
     },
     "output_type": "display_data"
    }
   ],
   "source": [
    "avg_amt_by_pass = bc.sql('''\n",
    "    SELECT\n",
    "        passenger_count\n",
    "        , AVG(total_amount) AS avg_total_amount\n",
    "    FROM taxi\n",
    "    GROUP BY\n",
    "        passenger_count\n",
    "    ORDER BY passenger_count\n",
    "''')\n",
    "\n",
    "avg_amt_by_pass.to_pandas().plot(x='passenger_count', y='avg_total_amount', kind='bar')"
   ]
  },
  {
   "cell_type": "code",
   "execution_count": 30,
   "id": "d2fc6de3-cb67-4d42-a432-df43794820c6",
   "metadata": {},
   "outputs": [
    {
     "data": {
      "application/vnd.jupyter.widget-view+json": {
       "model_id": "93102f8167d34edeaa7a8ba43e3a6025",
       "version_major": 2,
       "version_minor": 0
      },
      "text/plain": [
       "Steps Complete 0/4|          |  0% (00:00 elapsed)"
      ]
     },
     "metadata": {},
     "output_type": "display_data"
    },
    {
     "data": {
      "application/vnd.jupyter.widget-view+json": {
       "model_id": "63458017a0b34520b5975efa2a8bfb2a",
       "version_major": 2,
       "version_minor": 0
      },
      "text/plain": [
       "Total Batches Processed: 0"
      ]
     },
     "metadata": {},
     "output_type": "display_data"
    },
    {
     "data": {
      "text/html": [
       "<div>\n",
       "<style scoped>\n",
       "    .dataframe tbody tr th:only-of-type {\n",
       "        vertical-align: middle;\n",
       "    }\n",
       "\n",
       "    .dataframe tbody tr th {\n",
       "        vertical-align: top;\n",
       "    }\n",
       "\n",
       "    .dataframe thead th {\n",
       "        text-align: right;\n",
       "    }\n",
       "</style>\n",
       "<table border=\"1\" class=\"dataframe\">\n",
       "  <thead>\n",
       "    <tr style=\"text-align: right;\">\n",
       "      <th></th>\n",
       "      <th>total_count</th>\n",
       "    </tr>\n",
       "  </thead>\n",
       "  <tbody>\n",
       "    <tr>\n",
       "      <th>0</th>\n",
       "      <td>10906858</td>\n",
       "    </tr>\n",
       "  </tbody>\n",
       "</table>\n",
       "</div>"
      ],
      "text/plain": [
       "   total_count\n",
       "0     10906858"
      ]
     },
     "execution_count": 30,
     "metadata": {},
     "output_type": "execute_result"
    }
   ],
   "source": [
    "bc.sql('''\n",
    "    SELECT\n",
    "            COUNT(*) as total_count\n",
    "        FROM taxi\n",
    "''')"
   ]
  },
  {
   "cell_type": "markdown",
   "id": "348abf51-6d3e-4d46-83eb-16f0e8714e5d",
   "metadata": {},
   "source": [
    "#### Distribution of passenger_count"
   ]
  },
  {
   "cell_type": "code",
   "execution_count": 32,
   "id": "567b0ac0-d80e-4e15-8dfc-089ad922c08d",
   "metadata": {},
   "outputs": [
    {
     "data": {
      "application/vnd.jupyter.widget-view+json": {
       "model_id": "666d50f33e8c40f78592a3f5c17908cf",
       "version_major": 2,
       "version_minor": 0
      },
      "text/plain": [
       "Steps Complete 0/15|          |  0% (00:00 elapsed)"
      ]
     },
     "metadata": {},
     "output_type": "display_data"
    },
    {
     "data": {
      "application/vnd.jupyter.widget-view+json": {
       "model_id": "e820c390ac8344b4a74bf2c0b674b2f7",
       "version_major": 2,
       "version_minor": 0
      },
      "text/plain": [
       "Total Batches Processed: 0"
      ]
     },
     "metadata": {},
     "output_type": "display_data"
    },
    {
     "data": {
      "text/plain": [
       "<AxesSubplot:xlabel='passenger_count'>"
      ]
     },
     "execution_count": 32,
     "metadata": {},
     "output_type": "execute_result"
    },
    {
     "data": {
      "image/png": "[encoded data removed]",
      "text/plain": [
       "<Figure size 432x288 with 1 Axes>"
      ]
     },
     "metadata": {
      "needs_background": "light"
     },
     "output_type": "display_data"
    }
   ],
   "source": [
    "pass_dist = bc.sql('''\n",
    "        SELECT\n",
    "            passenger_count\n",
    "            , CAST(ROUND(100.0 * (COUNT(passenger_count)) /\n",
    "            (SELECT COUNT(*) FROM taxi), 2) AS FLOAT) as perc_of_rides\n",
    "        from taxi\n",
    "        GROUP BY\n",
    "            passenger_count\n",
    "        ORDER BY\n",
    "            passenger_count\n",
    "''')\n",
    "pass_dist.to_pandas().plot(x='passenger_count', y='perc_of_rides', kind='bar')"
   ]
  },
  {
   "cell_type": "markdown",
   "id": "327bfa15-f1ea-4f92-9ea4-c3a94e1c64e3",
   "metadata": {},
   "source": [
    "#### Distinct RatecodeID"
   ]
  },
  {
   "cell_type": "code",
   "execution_count": 34,
   "id": "a08a9fd7-4665-4a75-ad10-9ff35e5b6aac",
   "metadata": {},
   "outputs": [
    {
     "data": {
      "application/vnd.jupyter.widget-view+json": {
       "model_id": "d55ec358a2b443d5953027658081e478",
       "version_major": 2,
       "version_minor": 0
      },
      "text/plain": [
       "Steps Complete 0/5|          |  0% (00:00 elapsed)"
      ]
     },
     "metadata": {},
     "output_type": "display_data"
    },
    {
     "data": {
      "application/vnd.jupyter.widget-view+json": {
       "model_id": "8084dce0bbc84f1fbf223c030ea9cc4e",
       "version_major": 2,
       "version_minor": 0
      },
      "text/plain": [
       "Total Batches Processed: 0"
      ]
     },
     "metadata": {},
     "output_type": "display_data"
    },
    {
     "data": {
      "text/html": [
       "<div>\n",
       "<style scoped>\n",
       "    .dataframe tbody tr th:only-of-type {\n",
       "        vertical-align: middle;\n",
       "    }\n",
       "\n",
       "    .dataframe tbody tr th {\n",
       "        vertical-align: top;\n",
       "    }\n",
       "\n",
       "    .dataframe thead th {\n",
       "        text-align: right;\n",
       "    }\n",
       "</style>\n",
       "<table border=\"1\" class=\"dataframe\">\n",
       "  <thead>\n",
       "    <tr style=\"text-align: right;\">\n",
       "      <th></th>\n",
       "      <th>RatecodeID</th>\n",
       "      <th>COUNT(*)</th>\n",
       "    </tr>\n",
       "  </thead>\n",
       "  <tbody>\n",
       "    <tr>\n",
       "      <th>0</th>\n",
       "      <td>1</td>\n",
       "      <td>10626315</td>\n",
       "    </tr>\n",
       "    <tr>\n",
       "      <th>1</th>\n",
       "      <td>2</td>\n",
       "      <td>225019</td>\n",
       "    </tr>\n",
       "    <tr>\n",
       "      <th>2</th>\n",
       "      <td>3</td>\n",
       "      <td>16822</td>\n",
       "    </tr>\n",
       "    <tr>\n",
       "      <th>3</th>\n",
       "      <td>4</td>\n",
       "      <td>4696</td>\n",
       "    </tr>\n",
       "    <tr>\n",
       "      <th>4</th>\n",
       "      <td>5</td>\n",
       "      <td>33688</td>\n",
       "    </tr>\n",
       "    <tr>\n",
       "      <th>5</th>\n",
       "      <td>6</td>\n",
       "      <td>102</td>\n",
       "    </tr>\n",
       "    <tr>\n",
       "      <th>6</th>\n",
       "      <td>99</td>\n",
       "      <td>216</td>\n",
       "    </tr>\n",
       "  </tbody>\n",
       "</table>\n",
       "</div>"
      ],
      "text/plain": [
       "   RatecodeID  COUNT(*)\n",
       "0           1  10626315\n",
       "1           2    225019\n",
       "2           3     16822\n",
       "3           4      4696\n",
       "4           5     33688\n",
       "5           6       102\n",
       "6          99       216"
      ]
     },
     "execution_count": 34,
     "metadata": {},
     "output_type": "execute_result"
    }
   ],
   "source": [
    "bc.sql('''\n",
    "    SELECT DISTINCT RatecodeID, COUNT(*) FROM taxi GROUP BY RatecodeID\n",
    "''')"
   ]
  },
  {
   "cell_type": "markdown",
   "id": "30c4a6e1-5751-487e-b4fc-afd9881847a2",
   "metadata": {},
   "source": [
    "#### Distinct payment_type"
   ]
  },
  {
   "cell_type": "code",
   "execution_count": null,
   "id": "8d4f5ae6-ce23-4370-9c0e-33c10679dd94",
   "metadata": {},
   "outputs": [
    {
     "data": {
      "application/vnd.jupyter.widget-view+json": {
       "model_id": "",
       "version_major": 2,
       "version_minor": 0
      },
      "text/plain": [
       "Steps Complete 0/5|          |  0% (00:00 elapsed)"
      ]
     },
     "metadata": {},
     "output_type": "display_data"
    },
    {
     "data": {
      "application/vnd.jupyter.widget-view+json": {
       "model_id": "",
       "version_major": 2,
       "version_minor": 0
      },
      "text/plain": [
       "Total Batches Processed: 0"
      ]
     },
     "metadata": {},
     "output_type": "display_data"
    },
    {
     "data": {
      "text/html": [
       "<div>\n",
       "<style scoped>\n",
       "    .dataframe tbody tr th:only-of-type {\n",
       "        vertical-align: middle;\n",
       "    }\n",
       "\n",
       "    .dataframe tbody tr th {\n",
       "        vertical-align: top;\n",
       "    }\n",
       "\n",
       "    .dataframe thead th {\n",
       "        text-align: right;\n",
       "    }\n",
       "</style>\n",
       "<table border=\"1\" class=\"dataframe\">\n",
       "  <thead>\n",
       "    <tr style=\"text-align: right;\">\n",
       "      <th></th>\n",
       "      <th>payment_type</th>\n",
       "      <th>COUNT(*)</th>\n",
       "    </tr>\n",
       "  </thead>\n",
       "  <tbody>\n",
       "    <tr>\n",
       "      <th>0</th>\n",
       "      <td>1</td>\n",
       "      <td>7181476</td>\n",
       "    </tr>\n",
       "    <tr>\n",
       "      <th>1</th>\n",
       "      <td>2</td>\n",
       "      <td>3673651</td>\n",
       "    </tr>\n",
       "    <tr>\n",
       "      <th>2</th>\n",
       "      <td>3</td>\n",
       "      <td>38319</td>\n",
       "    </tr>\n",
       "    <tr>\n",
       "      <th>3</th>\n",
       "      <td>4</td>\n",
       "      <td>13411</td>\n",
       "    </tr>\n",
       "    <tr>\n",
       "      <th>4</th>\n",
       "      <td>5</td>\n",
       "      <td>1</td>\n",
       "    </tr>\n",
       "  </tbody>\n",
       "</table>\n",
       "</div>"
      ],
      "text/plain": [
       "   payment_type  COUNT(*)\n",
       "0             1   7181476\n",
       "1             2   3673651\n",
       "2             3     38319\n",
       "3             4     13411\n",
       "4             5         1"
      ]
     },
     "execution_count": 19,
     "metadata": {},
     "output_type": "execute_result"
    }
   ],
   "source": [
    "bc.sql('''\n",
    "    SELECT DISTINCT payment_type, COUNT(*) FROM taxi GROUP BY payment_type\n",
    "''')"
   ]
  },
  {
   "cell_type": "markdown",
   "id": "14a39e6c-5bff-46fe-ad06-e6eac1b2c9a4",
   "metadata": {},
   "source": [
    "#### Distinct improvement_surcharge"
   ]
  },
  {
   "cell_type": "code",
   "execution_count": 35,
   "id": "e17d1d98-9d09-4423-b2e5-62aeac3ed95a",
   "metadata": {},
   "outputs": [
    {
     "data": {
      "application/vnd.jupyter.widget-view+json": {
       "model_id": "b858ace9c7424bb28f93a3c12322b6e5",
       "version_major": 2,
       "version_minor": 0
      },
      "text/plain": [
       "Steps Complete 0/5|          |  0% (00:00 elapsed)"
      ]
     },
     "metadata": {},
     "output_type": "display_data"
    },
    {
     "data": {
      "application/vnd.jupyter.widget-view+json": {
       "model_id": "3c0e3fd70c6a4f05ab2dc1abd8313976",
       "version_major": 2,
       "version_minor": 0
      },
      "text/plain": [
       "Total Batches Processed: 0"
      ]
     },
     "metadata": {},
     "output_type": "display_data"
    },
    {
     "data": {
      "text/html": [
       "<div>\n",
       "<style scoped>\n",
       "    .dataframe tbody tr th:only-of-type {\n",
       "        vertical-align: middle;\n",
       "    }\n",
       "\n",
       "    .dataframe tbody tr th {\n",
       "        vertical-align: top;\n",
       "    }\n",
       "\n",
       "    .dataframe thead th {\n",
       "        text-align: right;\n",
       "    }\n",
       "</style>\n",
       "<table border=\"1\" class=\"dataframe\">\n",
       "  <thead>\n",
       "    <tr style=\"text-align: right;\">\n",
       "      <th></th>\n",
       "      <th>improvement_surcharge</th>\n",
       "      <th>COUNT(*)</th>\n",
       "    </tr>\n",
       "  </thead>\n",
       "  <tbody>\n",
       "    <tr>\n",
       "      <th>0</th>\n",
       "      <td>-0.30</td>\n",
       "      <td>4202</td>\n",
       "    </tr>\n",
       "    <tr>\n",
       "      <th>1</th>\n",
       "      <td>0.00</td>\n",
       "      <td>1609</td>\n",
       "    </tr>\n",
       "    <tr>\n",
       "      <th>2</th>\n",
       "      <td>0.10</td>\n",
       "      <td>5</td>\n",
       "    </tr>\n",
       "    <tr>\n",
       "      <th>3</th>\n",
       "      <td>0.12</td>\n",
       "      <td>1</td>\n",
       "    </tr>\n",
       "    <tr>\n",
       "      <th>4</th>\n",
       "      <td>0.16</td>\n",
       "      <td>1</td>\n",
       "    </tr>\n",
       "    <tr>\n",
       "      <th>5</th>\n",
       "      <td>0.25</td>\n",
       "      <td>1</td>\n",
       "    </tr>\n",
       "    <tr>\n",
       "      <th>6</th>\n",
       "      <td>0.30</td>\n",
       "      <td>10901039</td>\n",
       "    </tr>\n",
       "  </tbody>\n",
       "</table>\n",
       "</div>"
      ],
      "text/plain": [
       "   improvement_surcharge  COUNT(*)\n",
       "0                  -0.30      4202\n",
       "1                   0.00      1609\n",
       "2                   0.10         5\n",
       "3                   0.12         1\n",
       "4                   0.16         1\n",
       "5                   0.25         1\n",
       "6                   0.30  10901039"
      ]
     },
     "execution_count": 35,
     "metadata": {},
     "output_type": "execute_result"
    }
   ],
   "source": [
    "\n",
    "bc.sql('''\n",
    "    SELECT DISTINCT improvement_surcharge, COUNT(*) FROM taxi GROUP BY improvement_surcharge\n",
    "''')\n"
   ]
  },
  {
   "cell_type": "markdown",
   "id": "bd28a4d1-41fe-4890-8513-8d442cf990ea",
   "metadata": {},
   "source": [
    "## Building a data pipeline and predicting fare_amount with RapidsAI"
   ]
  },
  {
   "cell_type": "code",
   "execution_count": 37,
   "id": "692c8514-763e-4168-9a05-bab99be7ff2b",
   "metadata": {},
   "outputs": [],
   "source": [
    "# drop all null values\n",
    "taxi = taxi.dropna(axis=\"rows\")"
   ]
  },
  {
   "cell_type": "code",
   "execution_count": 8,
   "id": "80da55a6-63d9-47be-ac17-96edf8ca09ab",
   "metadata": {},
   "outputs": [
    {
     "name": "stdout",
     "output_type": "stream",
     "text": [
      "Data size: 10,906,858 x 19\n"
     ]
    }
   ],
   "source": [
    "print(f'Data size: {taxi.shape[0]:,} x {taxi.shape[1]}')"
   ]
  },
  {
   "cell_type": "code",
   "execution_count": 5,
   "id": "dd17a6cf-d0d3-4f53-8512-e5189aec962f",
   "metadata": {},
   "outputs": [],
   "source": [
    "class TimeCosSin(BaseEstimator, TransformerMixin):\n",
    "    \"\"\"\n",
    "    Extract signals out of a timestamp feature\n",
    "    \"\"\"\n",
    "     \n",
    "    @property\n",
    "    def date_time(self):\n",
    "        return pd.to_datetime(self.X.pop('tpep_pickup_datetime').to_pandas(), format='%Y-%m-%d %H:%M:%S') \n",
    "            \n",
    "    @property \n",
    "    def timestamp(self):\n",
    "        return self.date_time.map(datetime.datetime.timestamp)\n",
    "        \n",
    "    @property\n",
    "    def feature_names(self):\n",
    "        return [\"Hour_sin\", \"Hour_cos\", 'Day_sin', 'Day_cos', 'Year_sin', 'Year_cos']\n",
    "        \n",
    "    def fit( self, X, y = None  ):\n",
    "        return self\n",
    "    \n",
    "    def transform(self, X, y=None):\n",
    "        self.X = X.to_pandas()\n",
    "        hour = 60*60\n",
    "        day = 24*hour \n",
    "        year = (365.2425)*day\n",
    "        \n",
    "        timestamp_s = self.timestamp()\n",
    "        self.X['Hour_sin'] = np.sin(timestamp_s * (2 * np.pi / hour))\n",
    "        self.X['Hour_cos'] = np.cos(timestamp_s * (2 * np.pi / hour))\n",
    "        self.X['Day_sin'] = np.sin(timestamp_s * (2 * np.pi / day))\n",
    "        self.X['Day_cos'] = np.cos(timestamp_s * (2 * np.pi / day))\n",
    "        self.X['Year_sin'] = np.sin(timestamp_s * (2 * np.pi / year))\n",
    "        self.X['Year_cos'] = np.cos(timestamp_s * (2 * np.pi / year))\n",
    "        \n",
    "        return self.X\n",
    "        \n",
    "    def get_feature_names(self, input_features=None):\n",
    "        return self.feature_names"
   ]
  },
  {
   "cell_type": "markdown",
   "id": "e49c30cf-2d80-479b-aab3-c0710e6c537e",
   "metadata": {},
   "source": [
    "#### Use just a sample of columns to predict our target variable"
   ]
  },
  {
   "cell_type": "code",
   "execution_count": 11,
   "id": "96cc20c0-c946-4786-8b91-95f1cbd03b5a",
   "metadata": {},
   "outputs": [],
   "source": [
    "scale_cols = [\"trip_distance\"]\n",
    "label_cols = [\"VendorID\", \"payment_type\", \"passenger_count\"]\n",
    "y_feat = \"fare_amount\""
   ]
  },
  {
   "cell_type": "markdown",
   "id": "459062e6-ee0a-48e5-8492-b1358917a36b",
   "metadata": {},
   "source": [
    "#### Using custom Scikit-Learn compatible RapidsAI transformer classes and built-in RapidsAI transformers to build a Scikit-Learn pipeline\n",
    "Custom classes from [](https://gist.github.com/wphicks/6233758c1d83014f54891ba617300b48)"
   ]
  },
  {
   "cell_type": "code",
   "execution_count": 12,
   "id": "a8997305-a920-49eb-917d-61366d125e31",
   "metadata": {},
   "outputs": [],
   "source": [
    "X = taxi[scale_cols + label_cols]\n",
    "y = taxi[y_feat]\n",
    "X_train, X_test, y_train, y_test = cu_train_test_split(X, y=y, train_size=0.9)"
   ]
  },
  {
   "cell_type": "code",
   "execution_count": 13,
   "id": "b5294877-32cf-4d48-8fa3-cd02b2d16b9c",
   "metadata": {
    "tags": []
   },
   "outputs": [],
   "source": [
    "y_scaler = cuss()\n",
    "y_train = y_scaler.fit_transform(cudf.DataFrame(y_train))\n",
    "y_test = y_scaler.transform(cudf.DataFrame(y_test))"
   ]
  },
  {
   "cell_type": "code",
   "execution_count": 14,
   "id": "17b95228-55c9-4bfd-b548-fc0605b3682c",
   "metadata": {},
   "outputs": [],
   "source": [
    "scaler_transformer = prep.SubsetTransformer(\n",
    "    cuss(),\n",
    "    include_dtypes=['integer', 'floating'],\n",
    "    columns=scale_cols\n",
    ")\n",
    "\n",
    "label_transformer = prep.SubsetTransformer(\n",
    "    prep.PerFeatureTransformer(LabelEncoder, transformer_kwargs={'handle_unknown': 'ignore'}),\n",
    "    columns=label_cols\n",
    ")\n",
    "\n",
    "pipeline = Pipeline([\n",
    "    (\"scaler\", scaler_transformer),\n",
    "    (\"labeler\", label_transformer)\n",
    "])"
   ]
  },
  {
   "cell_type": "code",
   "execution_count": 15,
   "id": "9bd50b96-6e32-48f9-b380-3d81ac83a04e",
   "metadata": {},
   "outputs": [],
   "source": [
    "X_train = pipeline.fit_transform(X_train, y_train)"
   ]
  },
  {
   "cell_type": "code",
   "execution_count": 16,
   "id": "91815264-77b5-42a2-88a6-c0ae43fe1518",
   "metadata": {},
   "outputs": [
    {
     "data": {
      "text/html": [
       "<div>\n",
       "<style scoped>\n",
       "    .dataframe tbody tr th:only-of-type {\n",
       "        vertical-align: middle;\n",
       "    }\n",
       "\n",
       "    .dataframe tbody tr th {\n",
       "        vertical-align: top;\n",
       "    }\n",
       "\n",
       "    .dataframe thead th {\n",
       "        text-align: right;\n",
       "    }\n",
       "</style>\n",
       "<table border=\"1\" class=\"dataframe\">\n",
       "  <thead>\n",
       "    <tr style=\"text-align: right;\">\n",
       "      <th></th>\n",
       "      <th>trip_distance</th>\n",
       "      <th>VendorID</th>\n",
       "      <th>payment_type</th>\n",
       "      <th>passenger_count</th>\n",
       "    </tr>\n",
       "  </thead>\n",
       "  <tbody>\n",
       "    <tr>\n",
       "      <th>2991675</th>\n",
       "      <td>-0.001275</td>\n",
       "      <td>1</td>\n",
       "      <td>0</td>\n",
       "      <td>3</td>\n",
       "    </tr>\n",
       "    <tr>\n",
       "      <th>3335278</th>\n",
       "      <td>0.002686</td>\n",
       "      <td>0</td>\n",
       "      <td>1</td>\n",
       "      <td>2</td>\n",
       "    </tr>\n",
       "    <tr>\n",
       "      <th>4823779</th>\n",
       "      <td>-0.000241</td>\n",
       "      <td>0</td>\n",
       "      <td>0</td>\n",
       "      <td>2</td>\n",
       "    </tr>\n",
       "    <tr>\n",
       "      <th>7617066</th>\n",
       "      <td>-0.001159</td>\n",
       "      <td>1</td>\n",
       "      <td>0</td>\n",
       "      <td>1</td>\n",
       "    </tr>\n",
       "    <tr>\n",
       "      <th>1310778</th>\n",
       "      <td>-0.001181</td>\n",
       "      <td>0</td>\n",
       "      <td>0</td>\n",
       "      <td>1</td>\n",
       "    </tr>\n",
       "  </tbody>\n",
       "</table>\n",
       "</div>"
      ],
      "text/plain": [
       "         trip_distance  VendorID  payment_type  passenger_count\n",
       "2991675      -0.001275         1             0                3\n",
       "3335278       0.002686         0             1                2\n",
       "4823779      -0.000241         0             0                2\n",
       "7617066      -0.001159         1             0                1\n",
       "1310778      -0.001181         0             0                1"
      ]
     },
     "execution_count": 16,
     "metadata": {},
     "output_type": "execute_result"
    }
   ],
   "source": [
    "X_train.head()"
   ]
  },
  {
   "cell_type": "markdown",
   "id": "c94722c2-3dff-4d3d-8f8d-a89cf35e861f",
   "metadata": {},
   "source": [
    "#### Build and train a Random Forest Regression model \n",
    "Also timing the training of the model to show fast cuml is by using the GPU"
   ]
  },
  {
   "cell_type": "code",
   "execution_count": 17,
   "id": "b49b57df-d545-4783-bc4f-d99fa463ec7e",
   "metadata": {},
   "outputs": [
    {
     "name": "stdout",
     "output_type": "stream",
     "text": [
      "CPU times: user 4min 26s, sys: 0 ns, total: 4min 26s\n",
      "Wall time: 1min 41s\n"
     ]
    },
    {
     "data": {
      "text/plain": [
       "RandomForestRegressor()"
      ]
     },
     "execution_count": 17,
     "metadata": {},
     "output_type": "execute_result"
    }
   ],
   "source": [
    "%%time\n",
    "model = curfr(n_estimators=100,\n",
    "              max_depth=3,\n",
    "              min_samples_leaf=1\n",
    "             )\n",
    "\n",
    "model.fit(X_train.astype(np.float32), y_train.astype(np.float32))"
   ]
  },
  {
   "cell_type": "code",
   "execution_count": 18,
   "id": "8132193b-217b-43bb-b941-7bd0937b3a1b",
   "metadata": {},
   "outputs": [
    {
     "name": "stdout",
     "output_type": "stream",
     "text": [
      "R2_score 0.7875516414642334\n",
      "CPU times: user 1.12 s, sys: 0 ns, total: 1.12 s\n",
      "Wall time: 335 ms\n"
     ]
    }
   ],
   "source": [
    "%%time\n",
    "X_test = pipeline.transform(X_test).astype(np.float32)\n",
    "y_test = y_test.astype(np.float32)\n",
    "\n",
    "predictions = model.predict(X_test)\n",
    "r2 = r2_score(y_test.astype(np.float32), predictions)\n",
    "print(f\"R2_score {r2}\")"
   ]
  },
  {
   "cell_type": "code",
   "execution_count": 46,
   "id": "d949f965-c77b-4040-916c-5abb5ec62cf8",
   "metadata": {},
   "outputs": [
    {
     "name": "stdout",
     "output_type": "stream",
     "text": [
      "Random Forest RMSE 0.13442900776863098\n"
     ]
    }
   ],
   "source": [
    "rmse_rf = np.sqrt(mean_squared_error(y_test.astype(np.float32), predictions)) \n",
    "print(f'Random Forest RMSE {rmse_rf}')"
   ]
  },
  {
   "cell_type": "markdown",
   "id": "a4d14527-7c1f-4889-a5ff-1d6fcdd3d022",
   "metadata": {},
   "source": [
    "### Let's try XgBoost"
   ]
  },
  {
   "cell_type": "code",
   "execution_count": 42,
   "id": "7f4029b4-3cfe-4b96-a8a8-cc45b3f0628a",
   "metadata": {
    "tags": []
   },
   "outputs": [
    {
     "name": "stdout",
     "output_type": "stream",
     "text": [
      "[02:00:48] WARNING: /opt/conda/envs/rapids/conda-bld/xgboost_1628090879278/work/src/learner.cc:573: \n",
      "Parameters: { \"n_estimators\", \"scoring\", \"silent\", \"verbose_eval\" } might not be used.\n",
      "\n",
      "  This may not be accurate due to some parameters are only used in language bindings but\n",
      "  passed down to XGBoost core.  Or some parameters are not used but slip through this\n",
      "  verification. Please open an issue if you find above cases.\n",
      "\n",
      "\n",
      "[0]\ttrain-rmse:1.09073\n",
      "[1]\ttrain-rmse:1.07295\n",
      "[2]\ttrain-rmse:1.05832\n",
      "[3]\ttrain-rmse:1.04135\n",
      "[4]\ttrain-rmse:1.03148\n",
      "[5]\ttrain-rmse:1.02342\n",
      "[6]\ttrain-rmse:1.01682\n",
      "[7]\ttrain-rmse:1.01146\n",
      "[8]\ttrain-rmse:1.00708\n",
      "[9]\ttrain-rmse:1.00353\n",
      "[10]\ttrain-rmse:1.00065\n",
      "[11]\ttrain-rmse:0.99405\n",
      "[12]\ttrain-rmse:0.99214\n",
      "[13]\ttrain-rmse:0.99059\n",
      "[14]\ttrain-rmse:0.98934\n",
      "[15]\ttrain-rmse:0.98481\n",
      "[16]\ttrain-rmse:0.98397\n",
      "[17]\ttrain-rmse:0.98329\n",
      "[18]\ttrain-rmse:0.98274\n",
      "[19]\ttrain-rmse:0.98230\n",
      "[20]\ttrain-rmse:0.98194\n",
      "[21]\ttrain-rmse:0.98165\n",
      "[22]\ttrain-rmse:0.97854\n",
      "[23]\ttrain-rmse:0.97834\n",
      "[24]\ttrain-rmse:0.97819\n",
      "[25]\ttrain-rmse:0.97806\n",
      "[26]\ttrain-rmse:0.97796\n",
      "[27]\ttrain-rmse:0.97787\n",
      "[28]\ttrain-rmse:0.97780\n",
      "[29]\ttrain-rmse:0.97775\n",
      "[30]\ttrain-rmse:0.97770\n",
      "[31]\ttrain-rmse:0.97767\n",
      "[32]\ttrain-rmse:0.97764\n",
      "[33]\ttrain-rmse:0.97761\n",
      "[34]\ttrain-rmse:0.97524\n",
      "[35]\ttrain-rmse:0.97522\n",
      "[36]\ttrain-rmse:0.97521\n",
      "[37]\ttrain-rmse:0.97520\n",
      "[38]\ttrain-rmse:0.97328\n",
      "[39]\ttrain-rmse:0.97169\n",
      "[40]\ttrain-rmse:0.97168\n",
      "[41]\ttrain-rmse:0.97168\n",
      "[42]\ttrain-rmse:0.97167\n",
      "[43]\ttrain-rmse:0.97039\n",
      "[44]\ttrain-rmse:0.97039\n",
      "[45]\ttrain-rmse:0.97039\n",
      "[46]\ttrain-rmse:0.96932\n",
      "[47]\ttrain-rmse:0.96932\n",
      "[48]\ttrain-rmse:0.96932\n",
      "[49]\ttrain-rmse:0.96845\n",
      "[50]\ttrain-rmse:0.96845\n",
      "[51]\ttrain-rmse:0.96845\n",
      "[52]\ttrain-rmse:0.96845\n",
      "[53]\ttrain-rmse:0.96845\n",
      "[54]\ttrain-rmse:0.96845\n",
      "[55]\ttrain-rmse:0.96774\n",
      "[56]\ttrain-rmse:0.96774\n",
      "[57]\ttrain-rmse:0.96774\n",
      "[58]\ttrain-rmse:0.96716\n",
      "[59]\ttrain-rmse:0.96716\n",
      "[60]\ttrain-rmse:0.96716\n",
      "[61]\ttrain-rmse:0.96716\n",
      "[62]\ttrain-rmse:0.96716\n",
      "[63]\ttrain-rmse:0.96716\n",
      "[64]\ttrain-rmse:0.96716\n",
      "[65]\ttrain-rmse:0.96716\n",
      "[66]\ttrain-rmse:0.96716\n",
      "[67]\ttrain-rmse:0.96667\n",
      "[68]\ttrain-rmse:0.96667\n",
      "[69]\ttrain-rmse:0.96667\n",
      "[70]\ttrain-rmse:0.96667\n",
      "[71]\ttrain-rmse:0.96667\n",
      "[72]\ttrain-rmse:0.96667\n",
      "[73]\ttrain-rmse:0.96667\n",
      "[74]\ttrain-rmse:0.96628\n",
      "[75]\ttrain-rmse:0.96597\n",
      "[76]\ttrain-rmse:0.96597\n",
      "[77]\ttrain-rmse:0.96569\n",
      "[78]\ttrain-rmse:0.96569\n",
      "[79]\ttrain-rmse:0.96569\n",
      "[80]\ttrain-rmse:0.96569\n",
      "[81]\ttrain-rmse:0.96547\n",
      "[82]\ttrain-rmse:0.96547\n",
      "[83]\ttrain-rmse:0.96529\n",
      "[84]\ttrain-rmse:0.96529\n",
      "[85]\ttrain-rmse:0.96514\n",
      "[86]\ttrain-rmse:0.96514\n",
      "[87]\ttrain-rmse:0.96514\n",
      "[88]\ttrain-rmse:0.96514\n",
      "[89]\ttrain-rmse:0.96514\n",
      "[90]\ttrain-rmse:0.96514\n",
      "[91]\ttrain-rmse:0.96514\n",
      "[92]\ttrain-rmse:0.96514\n",
      "[93]\ttrain-rmse:0.96514\n",
      "[94]\ttrain-rmse:0.96514\n",
      "[95]\ttrain-rmse:0.96514\n",
      "[96]\ttrain-rmse:0.96514\n",
      "[97]\ttrain-rmse:0.96514\n",
      "[98]\ttrain-rmse:0.96514\n",
      "[99]\ttrain-rmse:0.96514\n",
      "CPU times: user 32.4 s, sys: 425 ms, total: 32.9 s\n",
      "Wall time: 34.4 s\n"
     ]
    }
   ],
   "source": [
    "%%time\n",
    "## Create train and test dmatrix\n",
    "dtrain = xgb.DMatrix(\n",
    "        X_train,\n",
    "        y_train    )\n",
    "\n",
    "dtest = xgb.DMatrix(\n",
    "        X_test,\n",
    "        y_test    )\n",
    "\n",
    "## Train the model\n",
    "trained_model = xgb.train(\n",
    "                        {\n",
    "                          'learning_rate': 0.1,\n",
    "                          'colsample_bytree' : 0.3,\n",
    "                          'max_depth': 3,\n",
    "                          'objective': 'reg:squarederror',\n",
    "                          'n_estimators':10,\n",
    "                          'alpha' : 10,\n",
    "                          'silent': True,\n",
    "                          'verbose_eval': True,\n",
    "                          'tree_method':'gpu_hist',\n",
    "                          'scoring': 'r2'\n",
    "                        },\n",
    "                        dtrain,\n",
    "                        num_boost_round=100, evals=[(dtrain, 'train')])\n",
    "\n",
    "## Predict the model\n",
    "prediction = trained_model.predict(dtest)"
   ]
  },
  {
   "cell_type": "code",
   "execution_count": 50,
   "id": "183a85ab-5c26-440a-a03c-e716524c3cb3",
   "metadata": {},
   "outputs": [
    {
     "name": "stdout",
     "output_type": "stream",
     "text": [
      "R2_score of Xgboost 0.8020240664482117\n",
      "Xgboost RMSE 0.12976941466331482\n"
     ]
    }
   ],
   "source": [
    "r2_xgb = r2_score(y_test.astype(np.float32), prediction)\n",
    "rmse_xgb = np.sqrt(mean_squared_error(y_test.astype(np.float32), prediction))\n",
    "print(f\"R2_score of Xgboost {r2_xgb}\")\n",
    "print(f\"Xgboost RMSE {rmse_xgb}\")"
   ]
  },
  {
   "cell_type": "markdown",
   "id": "edc0fd1d-2bf3-4a85-977e-da9433b020d9",
   "metadata": {},
   "source": [
    "## Save the trained models"
   ]
  },
  {
   "cell_type": "code",
   "execution_count": 48,
   "id": "efa29719-4cb6-4026-ba6d-2910c41cf71f",
   "metadata": {},
   "outputs": [],
   "source": [
    "!mkdir saved_models"
   ]
  },
  {
   "cell_type": "code",
   "execution_count": 52,
   "id": "8ef91ea0-ba71-403d-8206-5f45f179bd59",
   "metadata": {},
   "outputs": [],
   "source": [
    "rf_file = './saved_models/cuml_random_forest_model.sav'\n",
    "xgb_file = './saved_models/cuml_xgboost_model.dat'\n",
    "\n",
    "pickle.dump(model, open(rf_file, 'wb'))\n",
    "pickle.dump(trained_model, open(xgb_file, 'wb'))"
   ]
  },
  {
   "cell_type": "code",
   "execution_count": 55,
   "id": "fc06db60-2273-4315-91c8-ac090de69f33",
   "metadata": {},
   "outputs": [
    {
     "name": "stdout",
     "output_type": "stream",
     "text": [
      "total 284K\n",
      "drwxr-xr-x 7 1000 1000 4.0K Jan  3 02:23 ..\n",
      "-rw-r--r-- 1 root root  84K Jan  3 02:17 cuml_xgboost_model.dat\n",
      "drwxr-xr-x 2 root root 4.0K Jan  3 02:17 .\n",
      "-rw-r--r-- 1 root root 192K Jan  3 02:17 cuml_random_forest_model.sav\n"
     ]
    }
   ],
   "source": [
    "!ls saved_models -alth"
   ]
  },
  {
   "cell_type": "markdown",
   "id": "832ca092-2a93-4702-9ea9-dfabd2b25b70",
   "metadata": {},
   "source": [
    "## Done!"
   ]
  }
 ],
 "metadata": {
  "kernelspec": {
   "display_name": "Python 3",
   "language": "python",
   "name": "python3"
  },
  "language_info": {
   "codemirror_mode": {
    "name": "ipython",
    "version": 3
   },
   "file_extension": ".py",
   "mimetype": "text/x-python",
   "name": "python",
   "nbconvert_exporter": "python",
   "pygments_lexer": "ipython3",
   "version": "3.7.10"
  }
 },
 "nbformat": 4,
 "nbformat_minor": 5
}
